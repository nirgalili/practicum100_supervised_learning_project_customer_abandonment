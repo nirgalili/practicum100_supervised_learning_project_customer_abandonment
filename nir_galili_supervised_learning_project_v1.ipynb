{
 "cells": [
  {
   "cell_type": "markdown",
   "id": "dd88ef2b",
   "metadata": {},
   "source": [
    "# Download and prepare the data"
   ]
  },
  {
   "cell_type": "markdown",
   "id": "bae2cea0",
   "metadata": {},
   "source": [
    "## Project description\n",
    "\n",
    "Beta Bank customers are leaving: little by little, chipping away every month. The bankers figured out it’s cheaper to save the existing customers rather than to attract new ones.\n",
    "\n",
    "We need to predict whether a customer will leave the bank soon. We have the data on clients’ past behavior and termination of contracts with the bank.\n",
    "\n",
    "We need to Build a model with the maximum possible F1 score. The F1 score should be of at least 0.59. \n",
    "Additionally, we will measure the AUC-ROC metric and compare it with the F1.\n"
   ]
  },
  {
   "cell_type": "markdown",
   "id": "143fd0a3",
   "metadata": {},
   "source": [
    "## Import"
   ]
  },
  {
   "cell_type": "code",
   "execution_count": 1918,
   "id": "ffc07ab4",
   "metadata": {},
   "outputs": [
    {
     "name": "stdout",
     "output_type": "stream",
     "text": [
      "Requirement already satisfied: imbalanced-learn in c:\\users\\nirga\\anaconda3\\lib\\site-packages (0.9.1)\n",
      "Requirement already satisfied: joblib>=1.0.0 in c:\\users\\nirga\\anaconda3\\lib\\site-packages (from imbalanced-learn) (1.0.1)\n",
      "Requirement already satisfied: scipy>=1.3.2 in c:\\users\\nirga\\anaconda3\\lib\\site-packages (from imbalanced-learn) (1.7.1)\n",
      "Requirement already satisfied: numpy>=1.17.3 in c:\\users\\nirga\\anaconda3\\lib\\site-packages (from imbalanced-learn) (1.20.3)\n",
      "Requirement already satisfied: threadpoolctl>=2.0.0 in c:\\users\\nirga\\anaconda3\\lib\\site-packages (from imbalanced-learn) (2.2.0)\n",
      "Requirement already satisfied: scikit-learn>=1.1.0 in c:\\users\\nirga\\anaconda3\\lib\\site-packages (from imbalanced-learn) (1.1.1)\n"
     ]
    }
   ],
   "source": [
    "!pip install imbalanced-learn"
   ]
  },
  {
   "cell_type": "code",
   "execution_count": 1919,
   "id": "608c2710",
   "metadata": {},
   "outputs": [],
   "source": [
    "import pandas as pd\n",
    "import numpy as np\n",
    "import plotly.express as px\n",
    "import plotly.graph_objects as go\n",
    "\n",
    "from sklearn.tree import DecisionTreeClassifier\n",
    "from sklearn.ensemble import RandomForestClassifier\n",
    "from sklearn.linear_model import LogisticRegression\n",
    "from sklearn.metrics import accuracy_score\n",
    "from sklearn.model_selection import train_test_split\n",
    "\n",
    "from sklearn.metrics import f1_score\n",
    "\n",
    "from imblearn.over_sampling import SMOTE\n",
    "\n",
    "from sklearn.metrics import confusion_matrix, roc_auc_score, plot_roc_curve\n",
    "\n",
    "import seaborn as sns\n",
    "import matplotlib.pyplot as plt\n",
    "\n",
    "from sklearn.utils import shuffle\n",
    "\n",
    "from sklearn.metrics import precision_score, recall_score\n",
    "\n",
    "from sklearn.preprocessing import StandardScaler\n",
    "\n",
    "# temp import\n",
    "#from pandas_profiling import ProfileReport"
   ]
  },
  {
   "cell_type": "markdown",
   "id": "d1297af5",
   "metadata": {},
   "source": [
    "profile = ProfileReport(data)\n",
    "profile\n",
    "profile.to_file(output_file=\"report.html\")"
   ]
  },
  {
   "cell_type": "markdown",
   "id": "8626880d",
   "metadata": {},
   "source": [
    "## Load data\n"
   ]
  },
  {
   "cell_type": "code",
   "execution_count": 1920,
   "id": "2adf0b18",
   "metadata": {},
   "outputs": [],
   "source": [
    "try:\n",
    "    data = pd.read_csv('Churn.csv')\n",
    "except:\n",
    "    data = pd.read_csv('datasets/Churn.csv')"
   ]
  },
  {
   "cell_type": "markdown",
   "id": "608d8b2c",
   "metadata": {},
   "source": [
    "## Check the data"
   ]
  },
  {
   "cell_type": "markdown",
   "id": "6e69f166",
   "metadata": {},
   "source": [
    "**Features**\n",
    "\n",
    "- RowNumber — data string index\n",
    "- CustomerId — unique customer identifier\n",
    "- Surname — surname\n",
    "- CreditScore — credit score\n",
    "- Geography — country of residence\n",
    "- Gender — gender\n",
    "- Age — age\n",
    "- Tenure — period of maturation for a customer’s fixed deposit (years)\n",
    "- Balance — account balance\n",
    "- NumOfProducts — number of banking products used by the customer\n",
    "- HasCrCard — customer has a credit card\n",
    "- IsActiveMember — customer’s activeness\n",
    "- EstimatedSalary — estimated salary\n",
    "\n",
    "\n",
    "**Target**\n",
    "\n",
    "- Exited — сustomer has left"
   ]
  },
  {
   "cell_type": "code",
   "execution_count": 1921,
   "id": "9a154865",
   "metadata": {},
   "outputs": [
    {
     "data": {
      "text/html": [
       "<div>\n",
       "<style scoped>\n",
       "    .dataframe tbody tr th:only-of-type {\n",
       "        vertical-align: middle;\n",
       "    }\n",
       "\n",
       "    .dataframe tbody tr th {\n",
       "        vertical-align: top;\n",
       "    }\n",
       "\n",
       "    .dataframe thead th {\n",
       "        text-align: right;\n",
       "    }\n",
       "</style>\n",
       "<table border=\"1\" class=\"dataframe\">\n",
       "  <thead>\n",
       "    <tr style=\"text-align: right;\">\n",
       "      <th></th>\n",
       "      <th>RowNumber</th>\n",
       "      <th>CustomerId</th>\n",
       "      <th>Surname</th>\n",
       "      <th>CreditScore</th>\n",
       "      <th>Geography</th>\n",
       "      <th>Gender</th>\n",
       "      <th>Age</th>\n",
       "      <th>Tenure</th>\n",
       "      <th>Balance</th>\n",
       "      <th>NumOfProducts</th>\n",
       "      <th>HasCrCard</th>\n",
       "      <th>IsActiveMember</th>\n",
       "      <th>EstimatedSalary</th>\n",
       "      <th>Exited</th>\n",
       "    </tr>\n",
       "  </thead>\n",
       "  <tbody>\n",
       "    <tr>\n",
       "      <th>8872</th>\n",
       "      <td>8873</td>\n",
       "      <td>15626475</td>\n",
       "      <td>Gamble</td>\n",
       "      <td>685</td>\n",
       "      <td>France</td>\n",
       "      <td>Male</td>\n",
       "      <td>30</td>\n",
       "      <td>2.0</td>\n",
       "      <td>0.00</td>\n",
       "      <td>2</td>\n",
       "      <td>1</td>\n",
       "      <td>1</td>\n",
       "      <td>140889.32</td>\n",
       "      <td>0</td>\n",
       "    </tr>\n",
       "    <tr>\n",
       "      <th>6111</th>\n",
       "      <td>6112</td>\n",
       "      <td>15803337</td>\n",
       "      <td>Baresi</td>\n",
       "      <td>648</td>\n",
       "      <td>France</td>\n",
       "      <td>Male</td>\n",
       "      <td>23</td>\n",
       "      <td>9.0</td>\n",
       "      <td>168372.52</td>\n",
       "      <td>1</td>\n",
       "      <td>1</td>\n",
       "      <td>0</td>\n",
       "      <td>134676.72</td>\n",
       "      <td>0</td>\n",
       "    </tr>\n",
       "    <tr>\n",
       "      <th>9583</th>\n",
       "      <td>9584</td>\n",
       "      <td>15729019</td>\n",
       "      <td>Arcuri</td>\n",
       "      <td>602</td>\n",
       "      <td>Spain</td>\n",
       "      <td>Male</td>\n",
       "      <td>34</td>\n",
       "      <td>8.0</td>\n",
       "      <td>98382.72</td>\n",
       "      <td>1</td>\n",
       "      <td>1</td>\n",
       "      <td>0</td>\n",
       "      <td>39542.00</td>\n",
       "      <td>0</td>\n",
       "    </tr>\n",
       "    <tr>\n",
       "      <th>6736</th>\n",
       "      <td>6737</td>\n",
       "      <td>15771299</td>\n",
       "      <td>Nnachetam</td>\n",
       "      <td>707</td>\n",
       "      <td>France</td>\n",
       "      <td>Female</td>\n",
       "      <td>57</td>\n",
       "      <td>1.0</td>\n",
       "      <td>92053.00</td>\n",
       "      <td>1</td>\n",
       "      <td>1</td>\n",
       "      <td>1</td>\n",
       "      <td>164064.44</td>\n",
       "      <td>1</td>\n",
       "    </tr>\n",
       "    <tr>\n",
       "      <th>3533</th>\n",
       "      <td>3534</td>\n",
       "      <td>15808557</td>\n",
       "      <td>Mancini</td>\n",
       "      <td>695</td>\n",
       "      <td>France</td>\n",
       "      <td>Female</td>\n",
       "      <td>42</td>\n",
       "      <td>5.0</td>\n",
       "      <td>0.00</td>\n",
       "      <td>1</td>\n",
       "      <td>0</td>\n",
       "      <td>1</td>\n",
       "      <td>72172.13</td>\n",
       "      <td>1</td>\n",
       "    </tr>\n",
       "  </tbody>\n",
       "</table>\n",
       "</div>"
      ],
      "text/plain": [
       "      RowNumber  CustomerId    Surname  CreditScore Geography  Gender  Age  \\\n",
       "8872       8873    15626475     Gamble          685    France    Male   30   \n",
       "6111       6112    15803337     Baresi          648    France    Male   23   \n",
       "9583       9584    15729019     Arcuri          602     Spain    Male   34   \n",
       "6736       6737    15771299  Nnachetam          707    France  Female   57   \n",
       "3533       3534    15808557    Mancini          695    France  Female   42   \n",
       "\n",
       "      Tenure    Balance  NumOfProducts  HasCrCard  IsActiveMember  \\\n",
       "8872     2.0       0.00              2          1               1   \n",
       "6111     9.0  168372.52              1          1               0   \n",
       "9583     8.0   98382.72              1          1               0   \n",
       "6736     1.0   92053.00              1          1               1   \n",
       "3533     5.0       0.00              1          0               1   \n",
       "\n",
       "      EstimatedSalary  Exited  \n",
       "8872        140889.32       0  \n",
       "6111        134676.72       0  \n",
       "9583         39542.00       0  \n",
       "6736        164064.44       1  \n",
       "3533         72172.13       1  "
      ]
     },
     "execution_count": 1921,
     "metadata": {},
     "output_type": "execute_result"
    }
   ],
   "source": [
    "data.sample(5)"
   ]
  },
  {
   "cell_type": "code",
   "execution_count": 1922,
   "id": "f0826ab7",
   "metadata": {
    "scrolled": true
   },
   "outputs": [
    {
     "name": "stdout",
     "output_type": "stream",
     "text": [
      "<class 'pandas.core.frame.DataFrame'>\n",
      "RangeIndex: 10000 entries, 0 to 9999\n",
      "Data columns (total 14 columns):\n",
      " #   Column           Non-Null Count  Dtype  \n",
      "---  ------           --------------  -----  \n",
      " 0   RowNumber        10000 non-null  int64  \n",
      " 1   CustomerId       10000 non-null  int64  \n",
      " 2   Surname          10000 non-null  object \n",
      " 3   CreditScore      10000 non-null  int64  \n",
      " 4   Geography        10000 non-null  object \n",
      " 5   Gender           10000 non-null  object \n",
      " 6   Age              10000 non-null  int64  \n",
      " 7   Tenure           9091 non-null   float64\n",
      " 8   Balance          10000 non-null  float64\n",
      " 9   NumOfProducts    10000 non-null  int64  \n",
      " 10  HasCrCard        10000 non-null  int64  \n",
      " 11  IsActiveMember   10000 non-null  int64  \n",
      " 12  EstimatedSalary  10000 non-null  float64\n",
      " 13  Exited           10000 non-null  int64  \n",
      "dtypes: float64(3), int64(8), object(3)\n",
      "memory usage: 1.1+ MB\n"
     ]
    }
   ],
   "source": [
    "data.info()"
   ]
  },
  {
   "cell_type": "markdown",
   "id": "55acdce8",
   "metadata": {},
   "source": [
    "Only Tenure have missing"
   ]
  },
  {
   "cell_type": "code",
   "execution_count": 1923,
   "id": "92b413b5",
   "metadata": {},
   "outputs": [
    {
     "data": {
      "text/html": [
       "<div>\n",
       "<style scoped>\n",
       "    .dataframe tbody tr th:only-of-type {\n",
       "        vertical-align: middle;\n",
       "    }\n",
       "\n",
       "    .dataframe tbody tr th {\n",
       "        vertical-align: top;\n",
       "    }\n",
       "\n",
       "    .dataframe thead th {\n",
       "        text-align: right;\n",
       "    }\n",
       "</style>\n",
       "<table border=\"1\" class=\"dataframe\">\n",
       "  <thead>\n",
       "    <tr style=\"text-align: right;\">\n",
       "      <th></th>\n",
       "      <th>RowNumber</th>\n",
       "      <th>CustomerId</th>\n",
       "      <th>CreditScore</th>\n",
       "      <th>Age</th>\n",
       "      <th>Tenure</th>\n",
       "      <th>Balance</th>\n",
       "      <th>NumOfProducts</th>\n",
       "      <th>HasCrCard</th>\n",
       "      <th>IsActiveMember</th>\n",
       "      <th>EstimatedSalary</th>\n",
       "      <th>Exited</th>\n",
       "    </tr>\n",
       "  </thead>\n",
       "  <tbody>\n",
       "    <tr>\n",
       "      <th>count</th>\n",
       "      <td>10000.00000</td>\n",
       "      <td>1.000000e+04</td>\n",
       "      <td>10000.000000</td>\n",
       "      <td>10000.000000</td>\n",
       "      <td>9091.000000</td>\n",
       "      <td>10000.000000</td>\n",
       "      <td>10000.000000</td>\n",
       "      <td>10000.00000</td>\n",
       "      <td>10000.000000</td>\n",
       "      <td>10000.000000</td>\n",
       "      <td>10000.000000</td>\n",
       "    </tr>\n",
       "    <tr>\n",
       "      <th>mean</th>\n",
       "      <td>5000.50000</td>\n",
       "      <td>1.569094e+07</td>\n",
       "      <td>650.528800</td>\n",
       "      <td>38.921800</td>\n",
       "      <td>4.997690</td>\n",
       "      <td>76485.889288</td>\n",
       "      <td>1.530200</td>\n",
       "      <td>0.70550</td>\n",
       "      <td>0.515100</td>\n",
       "      <td>100090.239881</td>\n",
       "      <td>0.203700</td>\n",
       "    </tr>\n",
       "    <tr>\n",
       "      <th>std</th>\n",
       "      <td>2886.89568</td>\n",
       "      <td>7.193619e+04</td>\n",
       "      <td>96.653299</td>\n",
       "      <td>10.487806</td>\n",
       "      <td>2.894723</td>\n",
       "      <td>62397.405202</td>\n",
       "      <td>0.581654</td>\n",
       "      <td>0.45584</td>\n",
       "      <td>0.499797</td>\n",
       "      <td>57510.492818</td>\n",
       "      <td>0.402769</td>\n",
       "    </tr>\n",
       "    <tr>\n",
       "      <th>min</th>\n",
       "      <td>1.00000</td>\n",
       "      <td>1.556570e+07</td>\n",
       "      <td>350.000000</td>\n",
       "      <td>18.000000</td>\n",
       "      <td>0.000000</td>\n",
       "      <td>0.000000</td>\n",
       "      <td>1.000000</td>\n",
       "      <td>0.00000</td>\n",
       "      <td>0.000000</td>\n",
       "      <td>11.580000</td>\n",
       "      <td>0.000000</td>\n",
       "    </tr>\n",
       "    <tr>\n",
       "      <th>25%</th>\n",
       "      <td>2500.75000</td>\n",
       "      <td>1.562853e+07</td>\n",
       "      <td>584.000000</td>\n",
       "      <td>32.000000</td>\n",
       "      <td>2.000000</td>\n",
       "      <td>0.000000</td>\n",
       "      <td>1.000000</td>\n",
       "      <td>0.00000</td>\n",
       "      <td>0.000000</td>\n",
       "      <td>51002.110000</td>\n",
       "      <td>0.000000</td>\n",
       "    </tr>\n",
       "    <tr>\n",
       "      <th>50%</th>\n",
       "      <td>5000.50000</td>\n",
       "      <td>1.569074e+07</td>\n",
       "      <td>652.000000</td>\n",
       "      <td>37.000000</td>\n",
       "      <td>5.000000</td>\n",
       "      <td>97198.540000</td>\n",
       "      <td>1.000000</td>\n",
       "      <td>1.00000</td>\n",
       "      <td>1.000000</td>\n",
       "      <td>100193.915000</td>\n",
       "      <td>0.000000</td>\n",
       "    </tr>\n",
       "    <tr>\n",
       "      <th>75%</th>\n",
       "      <td>7500.25000</td>\n",
       "      <td>1.575323e+07</td>\n",
       "      <td>718.000000</td>\n",
       "      <td>44.000000</td>\n",
       "      <td>7.000000</td>\n",
       "      <td>127644.240000</td>\n",
       "      <td>2.000000</td>\n",
       "      <td>1.00000</td>\n",
       "      <td>1.000000</td>\n",
       "      <td>149388.247500</td>\n",
       "      <td>0.000000</td>\n",
       "    </tr>\n",
       "    <tr>\n",
       "      <th>max</th>\n",
       "      <td>10000.00000</td>\n",
       "      <td>1.581569e+07</td>\n",
       "      <td>850.000000</td>\n",
       "      <td>92.000000</td>\n",
       "      <td>10.000000</td>\n",
       "      <td>250898.090000</td>\n",
       "      <td>4.000000</td>\n",
       "      <td>1.00000</td>\n",
       "      <td>1.000000</td>\n",
       "      <td>199992.480000</td>\n",
       "      <td>1.000000</td>\n",
       "    </tr>\n",
       "  </tbody>\n",
       "</table>\n",
       "</div>"
      ],
      "text/plain": [
       "         RowNumber    CustomerId   CreditScore           Age       Tenure  \\\n",
       "count  10000.00000  1.000000e+04  10000.000000  10000.000000  9091.000000   \n",
       "mean    5000.50000  1.569094e+07    650.528800     38.921800     4.997690   \n",
       "std     2886.89568  7.193619e+04     96.653299     10.487806     2.894723   \n",
       "min        1.00000  1.556570e+07    350.000000     18.000000     0.000000   \n",
       "25%     2500.75000  1.562853e+07    584.000000     32.000000     2.000000   \n",
       "50%     5000.50000  1.569074e+07    652.000000     37.000000     5.000000   \n",
       "75%     7500.25000  1.575323e+07    718.000000     44.000000     7.000000   \n",
       "max    10000.00000  1.581569e+07    850.000000     92.000000    10.000000   \n",
       "\n",
       "             Balance  NumOfProducts    HasCrCard  IsActiveMember  \\\n",
       "count   10000.000000   10000.000000  10000.00000    10000.000000   \n",
       "mean    76485.889288       1.530200      0.70550        0.515100   \n",
       "std     62397.405202       0.581654      0.45584        0.499797   \n",
       "min         0.000000       1.000000      0.00000        0.000000   \n",
       "25%         0.000000       1.000000      0.00000        0.000000   \n",
       "50%     97198.540000       1.000000      1.00000        1.000000   \n",
       "75%    127644.240000       2.000000      1.00000        1.000000   \n",
       "max    250898.090000       4.000000      1.00000        1.000000   \n",
       "\n",
       "       EstimatedSalary        Exited  \n",
       "count     10000.000000  10000.000000  \n",
       "mean     100090.239881      0.203700  \n",
       "std       57510.492818      0.402769  \n",
       "min          11.580000      0.000000  \n",
       "25%       51002.110000      0.000000  \n",
       "50%      100193.915000      0.000000  \n",
       "75%      149388.247500      0.000000  \n",
       "max      199992.480000      1.000000  "
      ]
     },
     "execution_count": 1923,
     "metadata": {},
     "output_type": "execute_result"
    }
   ],
   "source": [
    "data.describe()"
   ]
  },
  {
   "cell_type": "markdown",
   "id": "228fc285",
   "metadata": {},
   "source": [
    "CreditScore mean and median are almost identical with low std\n",
    "\n",
    "Age mean and median are almost identical. The youngest user is 18.\n",
    "\n",
    "Tenure mean and median are almost identical std is high. almost the same as the mean value.\n",
    "\n",
    "Balance mean is much lower then the median. Since the Q1 is 0 we can assume lot of observations have 0 balance.\n",
    "\n",
    "NumOfProducts varies between 1 to 4.\n",
    "\n",
    "HasCrCard is boolean - 0 for no 1 for yes. Same for IsActiveMember.\n",
    "\n",
    "EstimatedSalary mean and median are almost identical. High std\n",
    "\n",
    "Exited is boolean - 0 for no 1 for yes.\n",
    "\n"
   ]
  },
  {
   "cell_type": "markdown",
   "id": "eef53039",
   "metadata": {},
   "source": [
    "## Treating missing values\n",
    "\n",
    "We will replace the missing values with -1 to distinguish the observation with 0 deposit to places with no tracked deposit at all that also may be 0 deposit\n",
    "imp"
   ]
  },
  {
   "cell_type": "code",
   "execution_count": 1924,
   "id": "f83a605e",
   "metadata": {},
   "outputs": [],
   "source": [
    "data['Tenure'].fillna(-1, inplace=True)"
   ]
  },
  {
   "cell_type": "markdown",
   "id": "df973650",
   "metadata": {},
   "source": [
    "## Transforming categorical features into numerical features"
   ]
  },
  {
   "cell_type": "markdown",
   "id": "af0a7333",
   "metadata": {},
   "source": [
    "### Geography"
   ]
  },
  {
   "cell_type": "code",
   "execution_count": 1925,
   "id": "97a30033",
   "metadata": {},
   "outputs": [],
   "source": [
    "# create dummies for Geography\n",
    "data_ohe = pd.get_dummies(data['Geography'], drop_first=True)"
   ]
  },
  {
   "cell_type": "code",
   "execution_count": 1926,
   "id": "3f320eaa",
   "metadata": {},
   "outputs": [],
   "source": [
    "# join the data with the ohe data of the Geography\n",
    "data_modified = data.drop('Geography', axis=1).join(data_ohe)"
   ]
  },
  {
   "cell_type": "code",
   "execution_count": 1927,
   "id": "5d957413",
   "metadata": {
    "scrolled": false
   },
   "outputs": [
    {
     "data": {
      "text/html": [
       "<div>\n",
       "<style scoped>\n",
       "    .dataframe tbody tr th:only-of-type {\n",
       "        vertical-align: middle;\n",
       "    }\n",
       "\n",
       "    .dataframe tbody tr th {\n",
       "        vertical-align: top;\n",
       "    }\n",
       "\n",
       "    .dataframe thead th {\n",
       "        text-align: right;\n",
       "    }\n",
       "</style>\n",
       "<table border=\"1\" class=\"dataframe\">\n",
       "  <thead>\n",
       "    <tr style=\"text-align: right;\">\n",
       "      <th></th>\n",
       "      <th>RowNumber</th>\n",
       "      <th>CustomerId</th>\n",
       "      <th>Surname</th>\n",
       "      <th>CreditScore</th>\n",
       "      <th>Gender</th>\n",
       "      <th>Age</th>\n",
       "      <th>Tenure</th>\n",
       "      <th>Balance</th>\n",
       "      <th>NumOfProducts</th>\n",
       "      <th>HasCrCard</th>\n",
       "      <th>IsActiveMember</th>\n",
       "      <th>EstimatedSalary</th>\n",
       "      <th>Exited</th>\n",
       "      <th>Germany</th>\n",
       "      <th>Spain</th>\n",
       "    </tr>\n",
       "  </thead>\n",
       "  <tbody>\n",
       "    <tr>\n",
       "      <th>8802</th>\n",
       "      <td>8803</td>\n",
       "      <td>15714642</td>\n",
       "      <td>Hawkins</td>\n",
       "      <td>792</td>\n",
       "      <td>Female</td>\n",
       "      <td>40</td>\n",
       "      <td>-1.0</td>\n",
       "      <td>0.00</td>\n",
       "      <td>1</td>\n",
       "      <td>1</td>\n",
       "      <td>0</td>\n",
       "      <td>141652.20</td>\n",
       "      <td>0</td>\n",
       "      <td>0</td>\n",
       "      <td>1</td>\n",
       "    </tr>\n",
       "    <tr>\n",
       "      <th>1944</th>\n",
       "      <td>1945</td>\n",
       "      <td>15687310</td>\n",
       "      <td>Humphries</td>\n",
       "      <td>783</td>\n",
       "      <td>Male</td>\n",
       "      <td>39</td>\n",
       "      <td>9.0</td>\n",
       "      <td>0.00</td>\n",
       "      <td>2</td>\n",
       "      <td>1</td>\n",
       "      <td>0</td>\n",
       "      <td>143752.77</td>\n",
       "      <td>0</td>\n",
       "      <td>0</td>\n",
       "      <td>1</td>\n",
       "    </tr>\n",
       "    <tr>\n",
       "      <th>5376</th>\n",
       "      <td>5377</td>\n",
       "      <td>15602500</td>\n",
       "      <td>Maslova</td>\n",
       "      <td>850</td>\n",
       "      <td>Male</td>\n",
       "      <td>38</td>\n",
       "      <td>1.0</td>\n",
       "      <td>146343.98</td>\n",
       "      <td>1</td>\n",
       "      <td>0</td>\n",
       "      <td>1</td>\n",
       "      <td>103902.11</td>\n",
       "      <td>0</td>\n",
       "      <td>0</td>\n",
       "      <td>1</td>\n",
       "    </tr>\n",
       "  </tbody>\n",
       "</table>\n",
       "</div>"
      ],
      "text/plain": [
       "      RowNumber  CustomerId    Surname  CreditScore  Gender  Age  Tenure  \\\n",
       "8802       8803    15714642    Hawkins          792  Female   40    -1.0   \n",
       "1944       1945    15687310  Humphries          783    Male   39     9.0   \n",
       "5376       5377    15602500    Maslova          850    Male   38     1.0   \n",
       "\n",
       "        Balance  NumOfProducts  HasCrCard  IsActiveMember  EstimatedSalary  \\\n",
       "8802       0.00              1          1               0        141652.20   \n",
       "1944       0.00              2          1               0        143752.77   \n",
       "5376  146343.98              1          0               1        103902.11   \n",
       "\n",
       "      Exited  Germany  Spain  \n",
       "8802       0        0      1  \n",
       "1944       0        0      1  \n",
       "5376       0        0      1  "
      ]
     },
     "execution_count": 1927,
     "metadata": {},
     "output_type": "execute_result"
    }
   ],
   "source": [
    "data_modified.sample(3)"
   ]
  },
  {
   "cell_type": "markdown",
   "id": "9c616d59",
   "metadata": {},
   "source": [
    "### Gender"
   ]
  },
  {
   "cell_type": "markdown",
   "id": "3377a99a",
   "metadata": {},
   "source": [
    "Repeat the same steps on data_modified for ohe here"
   ]
  },
  {
   "cell_type": "code",
   "execution_count": 1928,
   "id": "0f9032c0",
   "metadata": {},
   "outputs": [
    {
     "data": {
      "text/html": [
       "<div>\n",
       "<style scoped>\n",
       "    .dataframe tbody tr th:only-of-type {\n",
       "        vertical-align: middle;\n",
       "    }\n",
       "\n",
       "    .dataframe tbody tr th {\n",
       "        vertical-align: top;\n",
       "    }\n",
       "\n",
       "    .dataframe thead th {\n",
       "        text-align: right;\n",
       "    }\n",
       "</style>\n",
       "<table border=\"1\" class=\"dataframe\">\n",
       "  <thead>\n",
       "    <tr style=\"text-align: right;\">\n",
       "      <th></th>\n",
       "      <th>RowNumber</th>\n",
       "      <th>CustomerId</th>\n",
       "      <th>Surname</th>\n",
       "      <th>CreditScore</th>\n",
       "      <th>Age</th>\n",
       "      <th>Tenure</th>\n",
       "      <th>Balance</th>\n",
       "      <th>NumOfProducts</th>\n",
       "      <th>HasCrCard</th>\n",
       "      <th>IsActiveMember</th>\n",
       "      <th>EstimatedSalary</th>\n",
       "      <th>Exited</th>\n",
       "      <th>Germany</th>\n",
       "      <th>Spain</th>\n",
       "      <th>Male</th>\n",
       "    </tr>\n",
       "  </thead>\n",
       "  <tbody>\n",
       "    <tr>\n",
       "      <th>2900</th>\n",
       "      <td>2901</td>\n",
       "      <td>15668575</td>\n",
       "      <td>Hao</td>\n",
       "      <td>626</td>\n",
       "      <td>26</td>\n",
       "      <td>-1.0</td>\n",
       "      <td>148610.41</td>\n",
       "      <td>3</td>\n",
       "      <td>0</td>\n",
       "      <td>1</td>\n",
       "      <td>104502.02</td>\n",
       "      <td>1</td>\n",
       "      <td>0</td>\n",
       "      <td>1</td>\n",
       "      <td>0</td>\n",
       "    </tr>\n",
       "    <tr>\n",
       "      <th>3774</th>\n",
       "      <td>3775</td>\n",
       "      <td>15691785</td>\n",
       "      <td>Findlay</td>\n",
       "      <td>850</td>\n",
       "      <td>61</td>\n",
       "      <td>1.0</td>\n",
       "      <td>0.00</td>\n",
       "      <td>1</td>\n",
       "      <td>1</td>\n",
       "      <td>0</td>\n",
       "      <td>53067.83</td>\n",
       "      <td>1</td>\n",
       "      <td>0</td>\n",
       "      <td>0</td>\n",
       "      <td>1</td>\n",
       "    </tr>\n",
       "    <tr>\n",
       "      <th>8188</th>\n",
       "      <td>8189</td>\n",
       "      <td>15623314</td>\n",
       "      <td>Tucker</td>\n",
       "      <td>506</td>\n",
       "      <td>59</td>\n",
       "      <td>3.0</td>\n",
       "      <td>190353.08</td>\n",
       "      <td>1</td>\n",
       "      <td>1</td>\n",
       "      <td>0</td>\n",
       "      <td>78365.75</td>\n",
       "      <td>0</td>\n",
       "      <td>1</td>\n",
       "      <td>0</td>\n",
       "      <td>0</td>\n",
       "    </tr>\n",
       "  </tbody>\n",
       "</table>\n",
       "</div>"
      ],
      "text/plain": [
       "      RowNumber  CustomerId  Surname  CreditScore  Age  Tenure    Balance  \\\n",
       "2900       2901    15668575      Hao          626   26    -1.0  148610.41   \n",
       "3774       3775    15691785  Findlay          850   61     1.0       0.00   \n",
       "8188       8189    15623314   Tucker          506   59     3.0  190353.08   \n",
       "\n",
       "      NumOfProducts  HasCrCard  IsActiveMember  EstimatedSalary  Exited  \\\n",
       "2900              3          0               1        104502.02       1   \n",
       "3774              1          1               0         53067.83       1   \n",
       "8188              1          1               0         78365.75       0   \n",
       "\n",
       "      Germany  Spain  Male  \n",
       "2900        0      1     0  \n",
       "3774        0      0     1  \n",
       "8188        1      0     0  "
      ]
     },
     "execution_count": 1928,
     "metadata": {},
     "output_type": "execute_result"
    }
   ],
   "source": [
    "\n",
    "data_ohe = pd.get_dummies(data_modified['Gender'], drop_first=True)\n",
    "data_modified = data_modified.drop('Gender', axis=1).join(data_ohe)\n",
    "data_modified.sample(3)"
   ]
  },
  {
   "cell_type": "markdown",
   "id": "3696dde7",
   "metadata": {},
   "source": [
    "## Features scaling"
   ]
  },
  {
   "cell_type": "markdown",
   "id": "195d84f9",
   "metadata": {},
   "source": [
    "Scale the numeric features "
   ]
  },
  {
   "cell_type": "code",
   "execution_count": 1929,
   "id": "693ae684",
   "metadata": {},
   "outputs": [
    {
     "data": {
      "text/html": [
       "<div>\n",
       "<style scoped>\n",
       "    .dataframe tbody tr th:only-of-type {\n",
       "        vertical-align: middle;\n",
       "    }\n",
       "\n",
       "    .dataframe tbody tr th {\n",
       "        vertical-align: top;\n",
       "    }\n",
       "\n",
       "    .dataframe thead th {\n",
       "        text-align: right;\n",
       "    }\n",
       "</style>\n",
       "<table border=\"1\" class=\"dataframe\">\n",
       "  <thead>\n",
       "    <tr style=\"text-align: right;\">\n",
       "      <th></th>\n",
       "      <th>RowNumber</th>\n",
       "      <th>CustomerId</th>\n",
       "      <th>Surname</th>\n",
       "      <th>CreditScore</th>\n",
       "      <th>Age</th>\n",
       "      <th>Tenure</th>\n",
       "      <th>Balance</th>\n",
       "      <th>NumOfProducts</th>\n",
       "      <th>HasCrCard</th>\n",
       "      <th>IsActiveMember</th>\n",
       "      <th>EstimatedSalary</th>\n",
       "      <th>Exited</th>\n",
       "      <th>Germany</th>\n",
       "      <th>Spain</th>\n",
       "      <th>Male</th>\n",
       "    </tr>\n",
       "  </thead>\n",
       "  <tbody>\n",
       "    <tr>\n",
       "      <th>0</th>\n",
       "      <td>1</td>\n",
       "      <td>15634602</td>\n",
       "      <td>Hargrave</td>\n",
       "      <td>619</td>\n",
       "      <td>42</td>\n",
       "      <td>2.0</td>\n",
       "      <td>0.00</td>\n",
       "      <td>1</td>\n",
       "      <td>1</td>\n",
       "      <td>1</td>\n",
       "      <td>101348.88</td>\n",
       "      <td>1</td>\n",
       "      <td>0</td>\n",
       "      <td>0</td>\n",
       "      <td>0</td>\n",
       "    </tr>\n",
       "    <tr>\n",
       "      <th>1</th>\n",
       "      <td>2</td>\n",
       "      <td>15647311</td>\n",
       "      <td>Hill</td>\n",
       "      <td>608</td>\n",
       "      <td>41</td>\n",
       "      <td>1.0</td>\n",
       "      <td>83807.86</td>\n",
       "      <td>1</td>\n",
       "      <td>0</td>\n",
       "      <td>1</td>\n",
       "      <td>112542.58</td>\n",
       "      <td>0</td>\n",
       "      <td>0</td>\n",
       "      <td>1</td>\n",
       "      <td>0</td>\n",
       "    </tr>\n",
       "    <tr>\n",
       "      <th>2</th>\n",
       "      <td>3</td>\n",
       "      <td>15619304</td>\n",
       "      <td>Onio</td>\n",
       "      <td>502</td>\n",
       "      <td>42</td>\n",
       "      <td>8.0</td>\n",
       "      <td>159660.80</td>\n",
       "      <td>3</td>\n",
       "      <td>1</td>\n",
       "      <td>0</td>\n",
       "      <td>113931.57</td>\n",
       "      <td>1</td>\n",
       "      <td>0</td>\n",
       "      <td>0</td>\n",
       "      <td>0</td>\n",
       "    </tr>\n",
       "    <tr>\n",
       "      <th>3</th>\n",
       "      <td>4</td>\n",
       "      <td>15701354</td>\n",
       "      <td>Boni</td>\n",
       "      <td>699</td>\n",
       "      <td>39</td>\n",
       "      <td>1.0</td>\n",
       "      <td>0.00</td>\n",
       "      <td>2</td>\n",
       "      <td>0</td>\n",
       "      <td>0</td>\n",
       "      <td>93826.63</td>\n",
       "      <td>0</td>\n",
       "      <td>0</td>\n",
       "      <td>0</td>\n",
       "      <td>0</td>\n",
       "    </tr>\n",
       "    <tr>\n",
       "      <th>4</th>\n",
       "      <td>5</td>\n",
       "      <td>15737888</td>\n",
       "      <td>Mitchell</td>\n",
       "      <td>850</td>\n",
       "      <td>43</td>\n",
       "      <td>2.0</td>\n",
       "      <td>125510.82</td>\n",
       "      <td>1</td>\n",
       "      <td>1</td>\n",
       "      <td>1</td>\n",
       "      <td>79084.10</td>\n",
       "      <td>0</td>\n",
       "      <td>0</td>\n",
       "      <td>1</td>\n",
       "      <td>0</td>\n",
       "    </tr>\n",
       "    <tr>\n",
       "      <th>...</th>\n",
       "      <td>...</td>\n",
       "      <td>...</td>\n",
       "      <td>...</td>\n",
       "      <td>...</td>\n",
       "      <td>...</td>\n",
       "      <td>...</td>\n",
       "      <td>...</td>\n",
       "      <td>...</td>\n",
       "      <td>...</td>\n",
       "      <td>...</td>\n",
       "      <td>...</td>\n",
       "      <td>...</td>\n",
       "      <td>...</td>\n",
       "      <td>...</td>\n",
       "      <td>...</td>\n",
       "    </tr>\n",
       "    <tr>\n",
       "      <th>9995</th>\n",
       "      <td>9996</td>\n",
       "      <td>15606229</td>\n",
       "      <td>Obijiaku</td>\n",
       "      <td>771</td>\n",
       "      <td>39</td>\n",
       "      <td>5.0</td>\n",
       "      <td>0.00</td>\n",
       "      <td>2</td>\n",
       "      <td>1</td>\n",
       "      <td>0</td>\n",
       "      <td>96270.64</td>\n",
       "      <td>0</td>\n",
       "      <td>0</td>\n",
       "      <td>0</td>\n",
       "      <td>1</td>\n",
       "    </tr>\n",
       "    <tr>\n",
       "      <th>9996</th>\n",
       "      <td>9997</td>\n",
       "      <td>15569892</td>\n",
       "      <td>Johnstone</td>\n",
       "      <td>516</td>\n",
       "      <td>35</td>\n",
       "      <td>10.0</td>\n",
       "      <td>57369.61</td>\n",
       "      <td>1</td>\n",
       "      <td>1</td>\n",
       "      <td>1</td>\n",
       "      <td>101699.77</td>\n",
       "      <td>0</td>\n",
       "      <td>0</td>\n",
       "      <td>0</td>\n",
       "      <td>1</td>\n",
       "    </tr>\n",
       "    <tr>\n",
       "      <th>9997</th>\n",
       "      <td>9998</td>\n",
       "      <td>15584532</td>\n",
       "      <td>Liu</td>\n",
       "      <td>709</td>\n",
       "      <td>36</td>\n",
       "      <td>7.0</td>\n",
       "      <td>0.00</td>\n",
       "      <td>1</td>\n",
       "      <td>0</td>\n",
       "      <td>1</td>\n",
       "      <td>42085.58</td>\n",
       "      <td>1</td>\n",
       "      <td>0</td>\n",
       "      <td>0</td>\n",
       "      <td>0</td>\n",
       "    </tr>\n",
       "    <tr>\n",
       "      <th>9998</th>\n",
       "      <td>9999</td>\n",
       "      <td>15682355</td>\n",
       "      <td>Sabbatini</td>\n",
       "      <td>772</td>\n",
       "      <td>42</td>\n",
       "      <td>3.0</td>\n",
       "      <td>75075.31</td>\n",
       "      <td>2</td>\n",
       "      <td>1</td>\n",
       "      <td>0</td>\n",
       "      <td>92888.52</td>\n",
       "      <td>1</td>\n",
       "      <td>1</td>\n",
       "      <td>0</td>\n",
       "      <td>1</td>\n",
       "    </tr>\n",
       "    <tr>\n",
       "      <th>9999</th>\n",
       "      <td>10000</td>\n",
       "      <td>15628319</td>\n",
       "      <td>Walker</td>\n",
       "      <td>792</td>\n",
       "      <td>28</td>\n",
       "      <td>-1.0</td>\n",
       "      <td>130142.79</td>\n",
       "      <td>1</td>\n",
       "      <td>1</td>\n",
       "      <td>0</td>\n",
       "      <td>38190.78</td>\n",
       "      <td>0</td>\n",
       "      <td>0</td>\n",
       "      <td>0</td>\n",
       "      <td>0</td>\n",
       "    </tr>\n",
       "  </tbody>\n",
       "</table>\n",
       "<p>10000 rows × 15 columns</p>\n",
       "</div>"
      ],
      "text/plain": [
       "      RowNumber  CustomerId    Surname  CreditScore  Age  Tenure    Balance  \\\n",
       "0             1    15634602   Hargrave          619   42     2.0       0.00   \n",
       "1             2    15647311       Hill          608   41     1.0   83807.86   \n",
       "2             3    15619304       Onio          502   42     8.0  159660.80   \n",
       "3             4    15701354       Boni          699   39     1.0       0.00   \n",
       "4             5    15737888   Mitchell          850   43     2.0  125510.82   \n",
       "...         ...         ...        ...          ...  ...     ...        ...   \n",
       "9995       9996    15606229   Obijiaku          771   39     5.0       0.00   \n",
       "9996       9997    15569892  Johnstone          516   35    10.0   57369.61   \n",
       "9997       9998    15584532        Liu          709   36     7.0       0.00   \n",
       "9998       9999    15682355  Sabbatini          772   42     3.0   75075.31   \n",
       "9999      10000    15628319     Walker          792   28    -1.0  130142.79   \n",
       "\n",
       "      NumOfProducts  HasCrCard  IsActiveMember  EstimatedSalary  Exited  \\\n",
       "0                 1          1               1        101348.88       1   \n",
       "1                 1          0               1        112542.58       0   \n",
       "2                 3          1               0        113931.57       1   \n",
       "3                 2          0               0         93826.63       0   \n",
       "4                 1          1               1         79084.10       0   \n",
       "...             ...        ...             ...              ...     ...   \n",
       "9995              2          1               0         96270.64       0   \n",
       "9996              1          1               1        101699.77       0   \n",
       "9997              1          0               1         42085.58       1   \n",
       "9998              2          1               0         92888.52       1   \n",
       "9999              1          1               0         38190.78       0   \n",
       "\n",
       "      Germany  Spain  Male  \n",
       "0           0      0     0  \n",
       "1           0      1     0  \n",
       "2           0      0     0  \n",
       "3           0      0     0  \n",
       "4           0      1     0  \n",
       "...       ...    ...   ...  \n",
       "9995        0      0     1  \n",
       "9996        0      0     1  \n",
       "9997        0      0     0  \n",
       "9998        1      0     1  \n",
       "9999        0      0     0  \n",
       "\n",
       "[10000 rows x 15 columns]"
      ]
     },
     "execution_count": 1929,
     "metadata": {},
     "output_type": "execute_result"
    }
   ],
   "source": [
    "data_modified"
   ]
  },
  {
   "cell_type": "code",
   "execution_count": 1930,
   "id": "e85f18aa",
   "metadata": {},
   "outputs": [],
   "source": [
    "numeric = ['CreditScore', 'Age', 'Tenure', 'Balance', 'EstimatedSalary', 'NumOfProducts']"
   ]
  },
  {
   "cell_type": "code",
   "execution_count": 1931,
   "id": "e1861de5",
   "metadata": {},
   "outputs": [
    {
     "data": {
      "text/html": [
       "<style>#sk-container-id-61 {color: black;background-color: white;}#sk-container-id-61 pre{padding: 0;}#sk-container-id-61 div.sk-toggleable {background-color: white;}#sk-container-id-61 label.sk-toggleable__label {cursor: pointer;display: block;width: 100%;margin-bottom: 0;padding: 0.3em;box-sizing: border-box;text-align: center;}#sk-container-id-61 label.sk-toggleable__label-arrow:before {content: \"▸\";float: left;margin-right: 0.25em;color: #696969;}#sk-container-id-61 label.sk-toggleable__label-arrow:hover:before {color: black;}#sk-container-id-61 div.sk-estimator:hover label.sk-toggleable__label-arrow:before {color: black;}#sk-container-id-61 div.sk-toggleable__content {max-height: 0;max-width: 0;overflow: hidden;text-align: left;background-color: #f0f8ff;}#sk-container-id-61 div.sk-toggleable__content pre {margin: 0.2em;color: black;border-radius: 0.25em;background-color: #f0f8ff;}#sk-container-id-61 input.sk-toggleable__control:checked~div.sk-toggleable__content {max-height: 200px;max-width: 100%;overflow: auto;}#sk-container-id-61 input.sk-toggleable__control:checked~label.sk-toggleable__label-arrow:before {content: \"▾\";}#sk-container-id-61 div.sk-estimator input.sk-toggleable__control:checked~label.sk-toggleable__label {background-color: #d4ebff;}#sk-container-id-61 div.sk-label input.sk-toggleable__control:checked~label.sk-toggleable__label {background-color: #d4ebff;}#sk-container-id-61 input.sk-hidden--visually {border: 0;clip: rect(1px 1px 1px 1px);clip: rect(1px, 1px, 1px, 1px);height: 1px;margin: -1px;overflow: hidden;padding: 0;position: absolute;width: 1px;}#sk-container-id-61 div.sk-estimator {font-family: monospace;background-color: #f0f8ff;border: 1px dotted black;border-radius: 0.25em;box-sizing: border-box;margin-bottom: 0.5em;}#sk-container-id-61 div.sk-estimator:hover {background-color: #d4ebff;}#sk-container-id-61 div.sk-parallel-item::after {content: \"\";width: 100%;border-bottom: 1px solid gray;flex-grow: 1;}#sk-container-id-61 div.sk-label:hover label.sk-toggleable__label {background-color: #d4ebff;}#sk-container-id-61 div.sk-serial::before {content: \"\";position: absolute;border-left: 1px solid gray;box-sizing: border-box;top: 0;bottom: 0;left: 50%;z-index: 0;}#sk-container-id-61 div.sk-serial {display: flex;flex-direction: column;align-items: center;background-color: white;padding-right: 0.2em;padding-left: 0.2em;position: relative;}#sk-container-id-61 div.sk-item {position: relative;z-index: 1;}#sk-container-id-61 div.sk-parallel {display: flex;align-items: stretch;justify-content: center;background-color: white;position: relative;}#sk-container-id-61 div.sk-item::before, #sk-container-id-61 div.sk-parallel-item::before {content: \"\";position: absolute;border-left: 1px solid gray;box-sizing: border-box;top: 0;bottom: 0;left: 50%;z-index: -1;}#sk-container-id-61 div.sk-parallel-item {display: flex;flex-direction: column;z-index: 1;position: relative;background-color: white;}#sk-container-id-61 div.sk-parallel-item:first-child::after {align-self: flex-end;width: 50%;}#sk-container-id-61 div.sk-parallel-item:last-child::after {align-self: flex-start;width: 50%;}#sk-container-id-61 div.sk-parallel-item:only-child::after {width: 0;}#sk-container-id-61 div.sk-dashed-wrapped {border: 1px dashed gray;margin: 0 0.4em 0.5em 0.4em;box-sizing: border-box;padding-bottom: 0.4em;background-color: white;}#sk-container-id-61 div.sk-label label {font-family: monospace;font-weight: bold;display: inline-block;line-height: 1.2em;}#sk-container-id-61 div.sk-label-container {text-align: center;}#sk-container-id-61 div.sk-container {/* jupyter's `normalize.less` sets `[hidden] { display: none; }` but bootstrap.min.css set `[hidden] { display: none !important; }` so we also need the `!important` here to be able to override the default hidden behavior on the sphinx rendered scikit-learn.org. See: https://github.com/scikit-learn/scikit-learn/issues/21755 */display: inline-block !important;position: relative;}#sk-container-id-61 div.sk-text-repr-fallback {display: none;}</style><div id=\"sk-container-id-61\" class=\"sk-top-container\"><div class=\"sk-text-repr-fallback\"><pre>StandardScaler()</pre><b>In a Jupyter environment, please rerun this cell to show the HTML representation or trust the notebook. <br />On GitHub, the HTML representation is unable to render, please try loading this page with nbviewer.org.</b></div><div class=\"sk-container\" hidden><div class=\"sk-item\"><div class=\"sk-estimator sk-toggleable\"><input class=\"sk-toggleable__control sk-hidden--visually\" id=\"sk-estimator-id-61\" type=\"checkbox\" checked><label for=\"sk-estimator-id-61\" class=\"sk-toggleable__label sk-toggleable__label-arrow\">StandardScaler</label><div class=\"sk-toggleable__content\"><pre>StandardScaler()</pre></div></div></div></div></div>"
      ],
      "text/plain": [
       "StandardScaler()"
      ]
     },
     "execution_count": 1931,
     "metadata": {},
     "output_type": "execute_result"
    }
   ],
   "source": [
    "# train the scaler\n",
    "scaler = StandardScaler()\n",
    "scaler.fit(data_modified[numeric]) "
   ]
  },
  {
   "cell_type": "code",
   "execution_count": 1932,
   "id": "bc41a98f",
   "metadata": {},
   "outputs": [],
   "source": [
    "# create copy of the modified data\n",
    "data_modified_scaled = data_modified.copy(deep=True)"
   ]
  },
  {
   "cell_type": "code",
   "execution_count": 1933,
   "id": "859fc0d3",
   "metadata": {},
   "outputs": [],
   "source": [
    "# produced scaled data\n",
    "data_modified_scaled[numeric] = scaler.transform(data_modified[numeric])"
   ]
  },
  {
   "cell_type": "code",
   "execution_count": 1934,
   "id": "dfe5c8e8",
   "metadata": {
    "scrolled": true
   },
   "outputs": [
    {
     "data": {
      "text/html": [
       "<div>\n",
       "<style scoped>\n",
       "    .dataframe tbody tr th:only-of-type {\n",
       "        vertical-align: middle;\n",
       "    }\n",
       "\n",
       "    .dataframe tbody tr th {\n",
       "        vertical-align: top;\n",
       "    }\n",
       "\n",
       "    .dataframe thead th {\n",
       "        text-align: right;\n",
       "    }\n",
       "</style>\n",
       "<table border=\"1\" class=\"dataframe\">\n",
       "  <thead>\n",
       "    <tr style=\"text-align: right;\">\n",
       "      <th></th>\n",
       "      <th>RowNumber</th>\n",
       "      <th>CustomerId</th>\n",
       "      <th>Surname</th>\n",
       "      <th>CreditScore</th>\n",
       "      <th>Age</th>\n",
       "      <th>Tenure</th>\n",
       "      <th>Balance</th>\n",
       "      <th>NumOfProducts</th>\n",
       "      <th>HasCrCard</th>\n",
       "      <th>IsActiveMember</th>\n",
       "      <th>EstimatedSalary</th>\n",
       "      <th>Exited</th>\n",
       "      <th>Germany</th>\n",
       "      <th>Spain</th>\n",
       "      <th>Male</th>\n",
       "    </tr>\n",
       "  </thead>\n",
       "  <tbody>\n",
       "    <tr>\n",
       "      <th>0</th>\n",
       "      <td>1</td>\n",
       "      <td>15634602</td>\n",
       "      <td>Hargrave</td>\n",
       "      <td>-0.326221</td>\n",
       "      <td>0.293517</td>\n",
       "      <td>-0.753651</td>\n",
       "      <td>-1.225848</td>\n",
       "      <td>-0.911583</td>\n",
       "      <td>1</td>\n",
       "      <td>1</td>\n",
       "      <td>0.021886</td>\n",
       "      <td>1</td>\n",
       "      <td>0</td>\n",
       "      <td>0</td>\n",
       "      <td>0</td>\n",
       "    </tr>\n",
       "    <tr>\n",
       "      <th>1</th>\n",
       "      <td>2</td>\n",
       "      <td>15647311</td>\n",
       "      <td>Hill</td>\n",
       "      <td>-0.440036</td>\n",
       "      <td>0.198164</td>\n",
       "      <td>-1.060950</td>\n",
       "      <td>0.117350</td>\n",
       "      <td>-0.911583</td>\n",
       "      <td>0</td>\n",
       "      <td>1</td>\n",
       "      <td>0.216534</td>\n",
       "      <td>0</td>\n",
       "      <td>0</td>\n",
       "      <td>1</td>\n",
       "      <td>0</td>\n",
       "    </tr>\n",
       "    <tr>\n",
       "      <th>2</th>\n",
       "      <td>3</td>\n",
       "      <td>15619304</td>\n",
       "      <td>Onio</td>\n",
       "      <td>-1.536794</td>\n",
       "      <td>0.293517</td>\n",
       "      <td>1.090144</td>\n",
       "      <td>1.333053</td>\n",
       "      <td>2.527057</td>\n",
       "      <td>1</td>\n",
       "      <td>0</td>\n",
       "      <td>0.240687</td>\n",
       "      <td>1</td>\n",
       "      <td>0</td>\n",
       "      <td>0</td>\n",
       "      <td>0</td>\n",
       "    </tr>\n",
       "    <tr>\n",
       "      <th>3</th>\n",
       "      <td>4</td>\n",
       "      <td>15701354</td>\n",
       "      <td>Boni</td>\n",
       "      <td>0.501521</td>\n",
       "      <td>0.007457</td>\n",
       "      <td>-1.060950</td>\n",
       "      <td>-1.225848</td>\n",
       "      <td>0.807737</td>\n",
       "      <td>0</td>\n",
       "      <td>0</td>\n",
       "      <td>-0.108918</td>\n",
       "      <td>0</td>\n",
       "      <td>0</td>\n",
       "      <td>0</td>\n",
       "      <td>0</td>\n",
       "    </tr>\n",
       "    <tr>\n",
       "      <th>4</th>\n",
       "      <td>5</td>\n",
       "      <td>15737888</td>\n",
       "      <td>Mitchell</td>\n",
       "      <td>2.063884</td>\n",
       "      <td>0.388871</td>\n",
       "      <td>-0.753651</td>\n",
       "      <td>0.785728</td>\n",
       "      <td>-0.911583</td>\n",
       "      <td>1</td>\n",
       "      <td>1</td>\n",
       "      <td>-0.365276</td>\n",
       "      <td>0</td>\n",
       "      <td>0</td>\n",
       "      <td>1</td>\n",
       "      <td>0</td>\n",
       "    </tr>\n",
       "    <tr>\n",
       "      <th>...</th>\n",
       "      <td>...</td>\n",
       "      <td>...</td>\n",
       "      <td>...</td>\n",
       "      <td>...</td>\n",
       "      <td>...</td>\n",
       "      <td>...</td>\n",
       "      <td>...</td>\n",
       "      <td>...</td>\n",
       "      <td>...</td>\n",
       "      <td>...</td>\n",
       "      <td>...</td>\n",
       "      <td>...</td>\n",
       "      <td>...</td>\n",
       "      <td>...</td>\n",
       "      <td>...</td>\n",
       "    </tr>\n",
       "    <tr>\n",
       "      <th>9995</th>\n",
       "      <td>9996</td>\n",
       "      <td>15606229</td>\n",
       "      <td>Obijiaku</td>\n",
       "      <td>1.246488</td>\n",
       "      <td>0.007457</td>\n",
       "      <td>0.168246</td>\n",
       "      <td>-1.225848</td>\n",
       "      <td>0.807737</td>\n",
       "      <td>1</td>\n",
       "      <td>0</td>\n",
       "      <td>-0.066419</td>\n",
       "      <td>0</td>\n",
       "      <td>0</td>\n",
       "      <td>0</td>\n",
       "      <td>1</td>\n",
       "    </tr>\n",
       "    <tr>\n",
       "      <th>9996</th>\n",
       "      <td>9997</td>\n",
       "      <td>15569892</td>\n",
       "      <td>Johnstone</td>\n",
       "      <td>-1.391939</td>\n",
       "      <td>-0.373958</td>\n",
       "      <td>1.704742</td>\n",
       "      <td>-0.306379</td>\n",
       "      <td>-0.911583</td>\n",
       "      <td>1</td>\n",
       "      <td>1</td>\n",
       "      <td>0.027988</td>\n",
       "      <td>0</td>\n",
       "      <td>0</td>\n",
       "      <td>0</td>\n",
       "      <td>1</td>\n",
       "    </tr>\n",
       "    <tr>\n",
       "      <th>9997</th>\n",
       "      <td>9998</td>\n",
       "      <td>15584532</td>\n",
       "      <td>Liu</td>\n",
       "      <td>0.604988</td>\n",
       "      <td>-0.278604</td>\n",
       "      <td>0.782845</td>\n",
       "      <td>-1.225848</td>\n",
       "      <td>-0.911583</td>\n",
       "      <td>0</td>\n",
       "      <td>1</td>\n",
       "      <td>-1.008643</td>\n",
       "      <td>1</td>\n",
       "      <td>0</td>\n",
       "      <td>0</td>\n",
       "      <td>0</td>\n",
       "    </tr>\n",
       "    <tr>\n",
       "      <th>9998</th>\n",
       "      <td>9999</td>\n",
       "      <td>15682355</td>\n",
       "      <td>Sabbatini</td>\n",
       "      <td>1.256835</td>\n",
       "      <td>0.293517</td>\n",
       "      <td>-0.446352</td>\n",
       "      <td>-0.022608</td>\n",
       "      <td>0.807737</td>\n",
       "      <td>1</td>\n",
       "      <td>0</td>\n",
       "      <td>-0.125231</td>\n",
       "      <td>1</td>\n",
       "      <td>1</td>\n",
       "      <td>0</td>\n",
       "      <td>1</td>\n",
       "    </tr>\n",
       "    <tr>\n",
       "      <th>9999</th>\n",
       "      <td>10000</td>\n",
       "      <td>15628319</td>\n",
       "      <td>Walker</td>\n",
       "      <td>1.463771</td>\n",
       "      <td>-1.041433</td>\n",
       "      <td>-1.675549</td>\n",
       "      <td>0.859965</td>\n",
       "      <td>-0.911583</td>\n",
       "      <td>1</td>\n",
       "      <td>0</td>\n",
       "      <td>-1.076370</td>\n",
       "      <td>0</td>\n",
       "      <td>0</td>\n",
       "      <td>0</td>\n",
       "      <td>0</td>\n",
       "    </tr>\n",
       "  </tbody>\n",
       "</table>\n",
       "<p>10000 rows × 15 columns</p>\n",
       "</div>"
      ],
      "text/plain": [
       "      RowNumber  CustomerId    Surname  CreditScore       Age    Tenure  \\\n",
       "0             1    15634602   Hargrave    -0.326221  0.293517 -0.753651   \n",
       "1             2    15647311       Hill    -0.440036  0.198164 -1.060950   \n",
       "2             3    15619304       Onio    -1.536794  0.293517  1.090144   \n",
       "3             4    15701354       Boni     0.501521  0.007457 -1.060950   \n",
       "4             5    15737888   Mitchell     2.063884  0.388871 -0.753651   \n",
       "...         ...         ...        ...          ...       ...       ...   \n",
       "9995       9996    15606229   Obijiaku     1.246488  0.007457  0.168246   \n",
       "9996       9997    15569892  Johnstone    -1.391939 -0.373958  1.704742   \n",
       "9997       9998    15584532        Liu     0.604988 -0.278604  0.782845   \n",
       "9998       9999    15682355  Sabbatini     1.256835  0.293517 -0.446352   \n",
       "9999      10000    15628319     Walker     1.463771 -1.041433 -1.675549   \n",
       "\n",
       "       Balance  NumOfProducts  HasCrCard  IsActiveMember  EstimatedSalary  \\\n",
       "0    -1.225848      -0.911583          1               1         0.021886   \n",
       "1     0.117350      -0.911583          0               1         0.216534   \n",
       "2     1.333053       2.527057          1               0         0.240687   \n",
       "3    -1.225848       0.807737          0               0        -0.108918   \n",
       "4     0.785728      -0.911583          1               1        -0.365276   \n",
       "...        ...            ...        ...             ...              ...   \n",
       "9995 -1.225848       0.807737          1               0        -0.066419   \n",
       "9996 -0.306379      -0.911583          1               1         0.027988   \n",
       "9997 -1.225848      -0.911583          0               1        -1.008643   \n",
       "9998 -0.022608       0.807737          1               0        -0.125231   \n",
       "9999  0.859965      -0.911583          1               0        -1.076370   \n",
       "\n",
       "      Exited  Germany  Spain  Male  \n",
       "0          1        0      0     0  \n",
       "1          0        0      1     0  \n",
       "2          1        0      0     0  \n",
       "3          0        0      0     0  \n",
       "4          0        0      1     0  \n",
       "...      ...      ...    ...   ...  \n",
       "9995       0        0      0     1  \n",
       "9996       0        0      0     1  \n",
       "9997       1        0      0     0  \n",
       "9998       1        1      0     1  \n",
       "9999       0        0      0     0  \n",
       "\n",
       "[10000 rows x 15 columns]"
      ]
     },
     "execution_count": 1934,
     "metadata": {},
     "output_type": "execute_result"
    }
   ],
   "source": [
    "# print sample\n",
    "data_modified_scaled"
   ]
  },
  {
   "cell_type": "markdown",
   "id": "86f98640",
   "metadata": {},
   "source": [
    "Use the modified data with scaling"
   ]
  },
  {
   "cell_type": "code",
   "execution_count": 1935,
   "id": "0ade7ba1",
   "metadata": {},
   "outputs": [],
   "source": [
    "data_modified = data_modified_scaled.copy(deep=True)"
   ]
  },
  {
   "cell_type": "markdown",
   "id": "2791754d",
   "metadata": {},
   "source": [
    "## Features selection\n",
    "In the data we have RowNumber, CustomerId. This info is irrelevant for our prediction because ID are given randomly to users and row number is arbitrary. Lets see if surname is also irrelevant "
   ]
  },
  {
   "cell_type": "code",
   "execution_count": 1936,
   "id": "d82c391a",
   "metadata": {},
   "outputs": [
    {
     "data": {
      "text/plain": [
       "Smith       32\n",
       "Scott       29\n",
       "Martin      29\n",
       "Walker      28\n",
       "Brown       26\n",
       "            ..\n",
       "Izmailov     1\n",
       "Bold         1\n",
       "Bonham       1\n",
       "Poninski     1\n",
       "Burbidge     1\n",
       "Name: Surname, Length: 2932, dtype: int64"
      ]
     },
     "execution_count": 1936,
     "metadata": {},
     "output_type": "execute_result"
    }
   ],
   "source": [
    "data_modified['Surname'].value_counts()"
   ]
  },
  {
   "cell_type": "markdown",
   "id": "830f304f",
   "metadata": {},
   "source": [
    "We can also remove this column. It's irrelevant feature for us also. "
   ]
  },
  {
   "cell_type": "code",
   "execution_count": 1937,
   "id": "cb30667b",
   "metadata": {},
   "outputs": [
    {
     "data": {
      "text/html": [
       "<div>\n",
       "<style scoped>\n",
       "    .dataframe tbody tr th:only-of-type {\n",
       "        vertical-align: middle;\n",
       "    }\n",
       "\n",
       "    .dataframe tbody tr th {\n",
       "        vertical-align: top;\n",
       "    }\n",
       "\n",
       "    .dataframe thead th {\n",
       "        text-align: right;\n",
       "    }\n",
       "</style>\n",
       "<table border=\"1\" class=\"dataframe\">\n",
       "  <thead>\n",
       "    <tr style=\"text-align: right;\">\n",
       "      <th></th>\n",
       "      <th>CreditScore</th>\n",
       "      <th>Age</th>\n",
       "      <th>Tenure</th>\n",
       "      <th>Balance</th>\n",
       "      <th>NumOfProducts</th>\n",
       "      <th>HasCrCard</th>\n",
       "      <th>IsActiveMember</th>\n",
       "      <th>EstimatedSalary</th>\n",
       "      <th>Exited</th>\n",
       "      <th>Germany</th>\n",
       "      <th>Spain</th>\n",
       "      <th>Male</th>\n",
       "    </tr>\n",
       "  </thead>\n",
       "  <tbody>\n",
       "    <tr>\n",
       "      <th>0</th>\n",
       "      <td>-0.326221</td>\n",
       "      <td>0.293517</td>\n",
       "      <td>-0.753651</td>\n",
       "      <td>-1.225848</td>\n",
       "      <td>-0.911583</td>\n",
       "      <td>1</td>\n",
       "      <td>1</td>\n",
       "      <td>0.021886</td>\n",
       "      <td>1</td>\n",
       "      <td>0</td>\n",
       "      <td>0</td>\n",
       "      <td>0</td>\n",
       "    </tr>\n",
       "    <tr>\n",
       "      <th>1</th>\n",
       "      <td>-0.440036</td>\n",
       "      <td>0.198164</td>\n",
       "      <td>-1.060950</td>\n",
       "      <td>0.117350</td>\n",
       "      <td>-0.911583</td>\n",
       "      <td>0</td>\n",
       "      <td>1</td>\n",
       "      <td>0.216534</td>\n",
       "      <td>0</td>\n",
       "      <td>0</td>\n",
       "      <td>1</td>\n",
       "      <td>0</td>\n",
       "    </tr>\n",
       "    <tr>\n",
       "      <th>2</th>\n",
       "      <td>-1.536794</td>\n",
       "      <td>0.293517</td>\n",
       "      <td>1.090144</td>\n",
       "      <td>1.333053</td>\n",
       "      <td>2.527057</td>\n",
       "      <td>1</td>\n",
       "      <td>0</td>\n",
       "      <td>0.240687</td>\n",
       "      <td>1</td>\n",
       "      <td>0</td>\n",
       "      <td>0</td>\n",
       "      <td>0</td>\n",
       "    </tr>\n",
       "    <tr>\n",
       "      <th>3</th>\n",
       "      <td>0.501521</td>\n",
       "      <td>0.007457</td>\n",
       "      <td>-1.060950</td>\n",
       "      <td>-1.225848</td>\n",
       "      <td>0.807737</td>\n",
       "      <td>0</td>\n",
       "      <td>0</td>\n",
       "      <td>-0.108918</td>\n",
       "      <td>0</td>\n",
       "      <td>0</td>\n",
       "      <td>0</td>\n",
       "      <td>0</td>\n",
       "    </tr>\n",
       "    <tr>\n",
       "      <th>4</th>\n",
       "      <td>2.063884</td>\n",
       "      <td>0.388871</td>\n",
       "      <td>-0.753651</td>\n",
       "      <td>0.785728</td>\n",
       "      <td>-0.911583</td>\n",
       "      <td>1</td>\n",
       "      <td>1</td>\n",
       "      <td>-0.365276</td>\n",
       "      <td>0</td>\n",
       "      <td>0</td>\n",
       "      <td>1</td>\n",
       "      <td>0</td>\n",
       "    </tr>\n",
       "  </tbody>\n",
       "</table>\n",
       "</div>"
      ],
      "text/plain": [
       "   CreditScore       Age    Tenure   Balance  NumOfProducts  HasCrCard  \\\n",
       "0    -0.326221  0.293517 -0.753651 -1.225848      -0.911583          1   \n",
       "1    -0.440036  0.198164 -1.060950  0.117350      -0.911583          0   \n",
       "2    -1.536794  0.293517  1.090144  1.333053       2.527057          1   \n",
       "3     0.501521  0.007457 -1.060950 -1.225848       0.807737          0   \n",
       "4     2.063884  0.388871 -0.753651  0.785728      -0.911583          1   \n",
       "\n",
       "   IsActiveMember  EstimatedSalary  Exited  Germany  Spain  Male  \n",
       "0               1         0.021886       1        0      0     0  \n",
       "1               1         0.216534       0        0      1     0  \n",
       "2               0         0.240687       1        0      0     0  \n",
       "3               0        -0.108918       0        0      0     0  \n",
       "4               1        -0.365276       0        0      1     0  "
      ]
     },
     "execution_count": 1937,
     "metadata": {},
     "output_type": "execute_result"
    }
   ],
   "source": [
    "# remove irrelevant columns and remain only with relevant features and target\n",
    "data_modified = data_modified.drop(['Surname', 'RowNumber', 'CustomerId'], axis=1)\n",
    "data_modified.head()"
   ]
  },
  {
   "cell_type": "markdown",
   "id": "1d9c0d90",
   "metadata": {},
   "source": [
    "## Check for correlations"
   ]
  },
  {
   "cell_type": "code",
   "execution_count": 1938,
   "id": "a37e413e",
   "metadata": {},
   "outputs": [],
   "source": [
    "corr = data_modified.corr()"
   ]
  },
  {
   "cell_type": "code",
   "execution_count": 1939,
   "id": "0f38114b",
   "metadata": {},
   "outputs": [
    {
     "data": {
      "application/vnd.plotly.v1+json": {
       "config": {
        "plotlyServerURL": "https://plot.ly"
       },
       "data": [
        {
         "coloraxis": "coloraxis",
         "hovertemplate": "x: %{x}<br>y: %{y}<br>color: %{z}<extra></extra>",
         "name": "0",
         "type": "heatmap",
         "x": [
          "CreditScore",
          "Age",
          "Tenure",
          "Balance",
          "NumOfProducts",
          "HasCrCard",
          "IsActiveMember",
          "EstimatedSalary",
          "Exited",
          "Germany",
          "Spain",
          "Male"
         ],
         "xaxis": "x",
         "y": [
          "CreditScore",
          "Age",
          "Tenure",
          "Balance",
          "NumOfProducts",
          "HasCrCard",
          "IsActiveMember",
          "EstimatedSalary",
          "Exited",
          "Germany",
          "Spain",
          "Male"
         ],
         "yaxis": "y",
         "z": [
          [
           1,
           -0.0039649055253900955,
           0.0035519386836331953,
           0.006268381616008729,
           0.012237879283268093,
           -0.00545848209462341,
           0.02565132328314863,
           -0.0013842928679845194,
           -0.027093539754657912,
           0.005537552606602559,
           0.004779770274798438,
           -0.0028566201204472575
          ],
          [
           -0.0039649055253900955,
           1,
           -0.006315022794268963,
           0.02830836832749165,
           -0.03068008796150856,
           -0.011721029001738744,
           0.08547214540357671,
           -0.0072010423766573324,
           0.2853230378350675,
           0.04689705116398521,
           -0.0016853693311733575,
           -0.02754399265388866
          ],
          [
           0.0035519386836331953,
           -0.006315022794268963,
           1,
           -0.005400333716804405,
           0.009660535344617886,
           0.020131595720068545,
           -0.024461568959732255,
           0.011174332347680739,
           -0.012569938572694277,
           0.002458039891310123,
           -0.0009854109264227804,
           0.015041180564431829
          ],
          [
           0.006268381616008729,
           0.02830836832749165,
           -0.005400333716804405,
           1,
           -0.3041797383605488,
           -0.01485834494459872,
           -0.010084100438351675,
           0.012797496340555655,
           0.11853276877163378,
           0.4011102451620938,
           -0.13489191074131787,
           0.012086568634240246
          ],
          [
           0.012237879283268093,
           -0.03068008796150856,
           0.009660535344617886,
           -0.3041797383605488,
           1,
           0.0031831459930522486,
           0.009611875911327984,
           0.014204195129094587,
           -0.04781986494944057,
           -0.01041900699364709,
           0.009039007105901265,
           -0.021858567612308515
          ],
          [
           -0.00545848209462341,
           -0.011721029001738744,
           0.020131595720068545,
           -0.01485834494459872,
           0.0031831459930522486,
           1,
           -0.011865636878457913,
           -0.009933414652547821,
           -0.007137765603039006,
           0.010576580713803529,
           -0.013479728330052097,
           0.005766124371501144
          ],
          [
           0.02565132328314863,
           0.08547214540357671,
           -0.024461568959732255,
           -0.010084100438351675,
           0.009611875911327984,
           -0.011865636878457913,
           1,
           -0.0114214304849567,
           -0.15612827818890554,
           -0.020485800270395746,
           0.0167318636818743,
           0.022544324652307955
          ],
          [
           -0.0013842928679845194,
           -0.0072010423766573324,
           0.011174332347680739,
           0.012797496340555655,
           0.014204195129094587,
           -0.009933414652547821,
           -0.0114214304849567,
           1,
           0.012096861026844733,
           0.010297067546982726,
           -0.006482362407729691,
           -0.008112338913542958
          ],
          [
           -0.027093539754657912,
           0.2853230378350675,
           -0.012569938572694277,
           0.11853276877163378,
           -0.04781986494944057,
           -0.007137765603039006,
           -0.15612827818890554,
           0.012096861026844733,
           1,
           0.17348787015297085,
           -0.05266676206212404,
           -0.10651248767347467
          ],
          [
           0.005537552606602559,
           0.04689705116398521,
           0.002458039891310123,
           0.4011102451620938,
           -0.01041900699364709,
           0.010576580713803529,
           -0.020485800270395746,
           0.010297067546982726,
           0.17348787015297085,
           1,
           -0.3320839640331286,
           -0.024627879392114648
          ],
          [
           0.004779770274798438,
           -0.0016853693311733575,
           -0.0009854109264227804,
           -0.13489191074131787,
           0.009039007105901265,
           -0.013479728330052097,
           0.0167318636818743,
           -0.006482362407729691,
           -0.05266676206212404,
           -0.3320839640331286,
           1,
           0.016889348835205178
          ],
          [
           -0.0028566201204472575,
           -0.02754399265388866,
           0.015041180564431829,
           0.012086568634240246,
           -0.021858567612308515,
           0.005766124371501144,
           0.022544324652307955,
           -0.008112338913542958,
           -0.10651248767347467,
           -0.024627879392114648,
           0.016889348835205178,
           1
          ]
         ]
        }
       ],
       "layout": {
        "coloraxis": {
         "colorscale": [
          [
           0,
           "#0d0887"
          ],
          [
           0.1111111111111111,
           "#46039f"
          ],
          [
           0.2222222222222222,
           "#7201a8"
          ],
          [
           0.3333333333333333,
           "#9c179e"
          ],
          [
           0.4444444444444444,
           "#bd3786"
          ],
          [
           0.5555555555555556,
           "#d8576b"
          ],
          [
           0.6666666666666666,
           "#ed7953"
          ],
          [
           0.7777777777777778,
           "#fb9f3a"
          ],
          [
           0.8888888888888888,
           "#fdca26"
          ],
          [
           1,
           "#f0f921"
          ]
         ]
        },
        "margin": {
         "t": 60
        },
        "template": {
         "data": {
          "bar": [
           {
            "error_x": {
             "color": "#2a3f5f"
            },
            "error_y": {
             "color": "#2a3f5f"
            },
            "marker": {
             "line": {
              "color": "#E5ECF6",
              "width": 0.5
             },
             "pattern": {
              "fillmode": "overlay",
              "size": 10,
              "solidity": 0.2
             }
            },
            "type": "bar"
           }
          ],
          "barpolar": [
           {
            "marker": {
             "line": {
              "color": "#E5ECF6",
              "width": 0.5
             },
             "pattern": {
              "fillmode": "overlay",
              "size": 10,
              "solidity": 0.2
             }
            },
            "type": "barpolar"
           }
          ],
          "carpet": [
           {
            "aaxis": {
             "endlinecolor": "#2a3f5f",
             "gridcolor": "white",
             "linecolor": "white",
             "minorgridcolor": "white",
             "startlinecolor": "#2a3f5f"
            },
            "baxis": {
             "endlinecolor": "#2a3f5f",
             "gridcolor": "white",
             "linecolor": "white",
             "minorgridcolor": "white",
             "startlinecolor": "#2a3f5f"
            },
            "type": "carpet"
           }
          ],
          "choropleth": [
           {
            "colorbar": {
             "outlinewidth": 0,
             "ticks": ""
            },
            "type": "choropleth"
           }
          ],
          "contour": [
           {
            "colorbar": {
             "outlinewidth": 0,
             "ticks": ""
            },
            "colorscale": [
             [
              0,
              "#0d0887"
             ],
             [
              0.1111111111111111,
              "#46039f"
             ],
             [
              0.2222222222222222,
              "#7201a8"
             ],
             [
              0.3333333333333333,
              "#9c179e"
             ],
             [
              0.4444444444444444,
              "#bd3786"
             ],
             [
              0.5555555555555556,
              "#d8576b"
             ],
             [
              0.6666666666666666,
              "#ed7953"
             ],
             [
              0.7777777777777778,
              "#fb9f3a"
             ],
             [
              0.8888888888888888,
              "#fdca26"
             ],
             [
              1,
              "#f0f921"
             ]
            ],
            "type": "contour"
           }
          ],
          "contourcarpet": [
           {
            "colorbar": {
             "outlinewidth": 0,
             "ticks": ""
            },
            "type": "contourcarpet"
           }
          ],
          "heatmap": [
           {
            "colorbar": {
             "outlinewidth": 0,
             "ticks": ""
            },
            "colorscale": [
             [
              0,
              "#0d0887"
             ],
             [
              0.1111111111111111,
              "#46039f"
             ],
             [
              0.2222222222222222,
              "#7201a8"
             ],
             [
              0.3333333333333333,
              "#9c179e"
             ],
             [
              0.4444444444444444,
              "#bd3786"
             ],
             [
              0.5555555555555556,
              "#d8576b"
             ],
             [
              0.6666666666666666,
              "#ed7953"
             ],
             [
              0.7777777777777778,
              "#fb9f3a"
             ],
             [
              0.8888888888888888,
              "#fdca26"
             ],
             [
              1,
              "#f0f921"
             ]
            ],
            "type": "heatmap"
           }
          ],
          "heatmapgl": [
           {
            "colorbar": {
             "outlinewidth": 0,
             "ticks": ""
            },
            "colorscale": [
             [
              0,
              "#0d0887"
             ],
             [
              0.1111111111111111,
              "#46039f"
             ],
             [
              0.2222222222222222,
              "#7201a8"
             ],
             [
              0.3333333333333333,
              "#9c179e"
             ],
             [
              0.4444444444444444,
              "#bd3786"
             ],
             [
              0.5555555555555556,
              "#d8576b"
             ],
             [
              0.6666666666666666,
              "#ed7953"
             ],
             [
              0.7777777777777778,
              "#fb9f3a"
             ],
             [
              0.8888888888888888,
              "#fdca26"
             ],
             [
              1,
              "#f0f921"
             ]
            ],
            "type": "heatmapgl"
           }
          ],
          "histogram": [
           {
            "marker": {
             "pattern": {
              "fillmode": "overlay",
              "size": 10,
              "solidity": 0.2
             }
            },
            "type": "histogram"
           }
          ],
          "histogram2d": [
           {
            "colorbar": {
             "outlinewidth": 0,
             "ticks": ""
            },
            "colorscale": [
             [
              0,
              "#0d0887"
             ],
             [
              0.1111111111111111,
              "#46039f"
             ],
             [
              0.2222222222222222,
              "#7201a8"
             ],
             [
              0.3333333333333333,
              "#9c179e"
             ],
             [
              0.4444444444444444,
              "#bd3786"
             ],
             [
              0.5555555555555556,
              "#d8576b"
             ],
             [
              0.6666666666666666,
              "#ed7953"
             ],
             [
              0.7777777777777778,
              "#fb9f3a"
             ],
             [
              0.8888888888888888,
              "#fdca26"
             ],
             [
              1,
              "#f0f921"
             ]
            ],
            "type": "histogram2d"
           }
          ],
          "histogram2dcontour": [
           {
            "colorbar": {
             "outlinewidth": 0,
             "ticks": ""
            },
            "colorscale": [
             [
              0,
              "#0d0887"
             ],
             [
              0.1111111111111111,
              "#46039f"
             ],
             [
              0.2222222222222222,
              "#7201a8"
             ],
             [
              0.3333333333333333,
              "#9c179e"
             ],
             [
              0.4444444444444444,
              "#bd3786"
             ],
             [
              0.5555555555555556,
              "#d8576b"
             ],
             [
              0.6666666666666666,
              "#ed7953"
             ],
             [
              0.7777777777777778,
              "#fb9f3a"
             ],
             [
              0.8888888888888888,
              "#fdca26"
             ],
             [
              1,
              "#f0f921"
             ]
            ],
            "type": "histogram2dcontour"
           }
          ],
          "mesh3d": [
           {
            "colorbar": {
             "outlinewidth": 0,
             "ticks": ""
            },
            "type": "mesh3d"
           }
          ],
          "parcoords": [
           {
            "line": {
             "colorbar": {
              "outlinewidth": 0,
              "ticks": ""
             }
            },
            "type": "parcoords"
           }
          ],
          "pie": [
           {
            "automargin": true,
            "type": "pie"
           }
          ],
          "scatter": [
           {
            "marker": {
             "colorbar": {
              "outlinewidth": 0,
              "ticks": ""
             }
            },
            "type": "scatter"
           }
          ],
          "scatter3d": [
           {
            "line": {
             "colorbar": {
              "outlinewidth": 0,
              "ticks": ""
             }
            },
            "marker": {
             "colorbar": {
              "outlinewidth": 0,
              "ticks": ""
             }
            },
            "type": "scatter3d"
           }
          ],
          "scattercarpet": [
           {
            "marker": {
             "colorbar": {
              "outlinewidth": 0,
              "ticks": ""
             }
            },
            "type": "scattercarpet"
           }
          ],
          "scattergeo": [
           {
            "marker": {
             "colorbar": {
              "outlinewidth": 0,
              "ticks": ""
             }
            },
            "type": "scattergeo"
           }
          ],
          "scattergl": [
           {
            "marker": {
             "colorbar": {
              "outlinewidth": 0,
              "ticks": ""
             }
            },
            "type": "scattergl"
           }
          ],
          "scattermapbox": [
           {
            "marker": {
             "colorbar": {
              "outlinewidth": 0,
              "ticks": ""
             }
            },
            "type": "scattermapbox"
           }
          ],
          "scatterpolar": [
           {
            "marker": {
             "colorbar": {
              "outlinewidth": 0,
              "ticks": ""
             }
            },
            "type": "scatterpolar"
           }
          ],
          "scatterpolargl": [
           {
            "marker": {
             "colorbar": {
              "outlinewidth": 0,
              "ticks": ""
             }
            },
            "type": "scatterpolargl"
           }
          ],
          "scatterternary": [
           {
            "marker": {
             "colorbar": {
              "outlinewidth": 0,
              "ticks": ""
             }
            },
            "type": "scatterternary"
           }
          ],
          "surface": [
           {
            "colorbar": {
             "outlinewidth": 0,
             "ticks": ""
            },
            "colorscale": [
             [
              0,
              "#0d0887"
             ],
             [
              0.1111111111111111,
              "#46039f"
             ],
             [
              0.2222222222222222,
              "#7201a8"
             ],
             [
              0.3333333333333333,
              "#9c179e"
             ],
             [
              0.4444444444444444,
              "#bd3786"
             ],
             [
              0.5555555555555556,
              "#d8576b"
             ],
             [
              0.6666666666666666,
              "#ed7953"
             ],
             [
              0.7777777777777778,
              "#fb9f3a"
             ],
             [
              0.8888888888888888,
              "#fdca26"
             ],
             [
              1,
              "#f0f921"
             ]
            ],
            "type": "surface"
           }
          ],
          "table": [
           {
            "cells": {
             "fill": {
              "color": "#EBF0F8"
             },
             "line": {
              "color": "white"
             }
            },
            "header": {
             "fill": {
              "color": "#C8D4E3"
             },
             "line": {
              "color": "white"
             }
            },
            "type": "table"
           }
          ]
         },
         "layout": {
          "annotationdefaults": {
           "arrowcolor": "#2a3f5f",
           "arrowhead": 0,
           "arrowwidth": 1
          },
          "autotypenumbers": "strict",
          "coloraxis": {
           "colorbar": {
            "outlinewidth": 0,
            "ticks": ""
           }
          },
          "colorscale": {
           "diverging": [
            [
             0,
             "#8e0152"
            ],
            [
             0.1,
             "#c51b7d"
            ],
            [
             0.2,
             "#de77ae"
            ],
            [
             0.3,
             "#f1b6da"
            ],
            [
             0.4,
             "#fde0ef"
            ],
            [
             0.5,
             "#f7f7f7"
            ],
            [
             0.6,
             "#e6f5d0"
            ],
            [
             0.7,
             "#b8e186"
            ],
            [
             0.8,
             "#7fbc41"
            ],
            [
             0.9,
             "#4d9221"
            ],
            [
             1,
             "#276419"
            ]
           ],
           "sequential": [
            [
             0,
             "#0d0887"
            ],
            [
             0.1111111111111111,
             "#46039f"
            ],
            [
             0.2222222222222222,
             "#7201a8"
            ],
            [
             0.3333333333333333,
             "#9c179e"
            ],
            [
             0.4444444444444444,
             "#bd3786"
            ],
            [
             0.5555555555555556,
             "#d8576b"
            ],
            [
             0.6666666666666666,
             "#ed7953"
            ],
            [
             0.7777777777777778,
             "#fb9f3a"
            ],
            [
             0.8888888888888888,
             "#fdca26"
            ],
            [
             1,
             "#f0f921"
            ]
           ],
           "sequentialminus": [
            [
             0,
             "#0d0887"
            ],
            [
             0.1111111111111111,
             "#46039f"
            ],
            [
             0.2222222222222222,
             "#7201a8"
            ],
            [
             0.3333333333333333,
             "#9c179e"
            ],
            [
             0.4444444444444444,
             "#bd3786"
            ],
            [
             0.5555555555555556,
             "#d8576b"
            ],
            [
             0.6666666666666666,
             "#ed7953"
            ],
            [
             0.7777777777777778,
             "#fb9f3a"
            ],
            [
             0.8888888888888888,
             "#fdca26"
            ],
            [
             1,
             "#f0f921"
            ]
           ]
          },
          "colorway": [
           "#636efa",
           "#EF553B",
           "#00cc96",
           "#ab63fa",
           "#FFA15A",
           "#19d3f3",
           "#FF6692",
           "#B6E880",
           "#FF97FF",
           "#FECB52"
          ],
          "font": {
           "color": "#2a3f5f"
          },
          "geo": {
           "bgcolor": "white",
           "lakecolor": "white",
           "landcolor": "#E5ECF6",
           "showlakes": true,
           "showland": true,
           "subunitcolor": "white"
          },
          "hoverlabel": {
           "align": "left"
          },
          "hovermode": "closest",
          "mapbox": {
           "style": "light"
          },
          "paper_bgcolor": "white",
          "plot_bgcolor": "#E5ECF6",
          "polar": {
           "angularaxis": {
            "gridcolor": "white",
            "linecolor": "white",
            "ticks": ""
           },
           "bgcolor": "#E5ECF6",
           "radialaxis": {
            "gridcolor": "white",
            "linecolor": "white",
            "ticks": ""
           }
          },
          "scene": {
           "xaxis": {
            "backgroundcolor": "#E5ECF6",
            "gridcolor": "white",
            "gridwidth": 2,
            "linecolor": "white",
            "showbackground": true,
            "ticks": "",
            "zerolinecolor": "white"
           },
           "yaxis": {
            "backgroundcolor": "#E5ECF6",
            "gridcolor": "white",
            "gridwidth": 2,
            "linecolor": "white",
            "showbackground": true,
            "ticks": "",
            "zerolinecolor": "white"
           },
           "zaxis": {
            "backgroundcolor": "#E5ECF6",
            "gridcolor": "white",
            "gridwidth": 2,
            "linecolor": "white",
            "showbackground": true,
            "ticks": "",
            "zerolinecolor": "white"
           }
          },
          "shapedefaults": {
           "line": {
            "color": "#2a3f5f"
           }
          },
          "ternary": {
           "aaxis": {
            "gridcolor": "white",
            "linecolor": "white",
            "ticks": ""
           },
           "baxis": {
            "gridcolor": "white",
            "linecolor": "white",
            "ticks": ""
           },
           "bgcolor": "#E5ECF6",
           "caxis": {
            "gridcolor": "white",
            "linecolor": "white",
            "ticks": ""
           }
          },
          "title": {
           "x": 0.05
          },
          "xaxis": {
           "automargin": true,
           "gridcolor": "white",
           "linecolor": "white",
           "ticks": "",
           "title": {
            "standoff": 15
           },
           "zerolinecolor": "white",
           "zerolinewidth": 2
          },
          "yaxis": {
           "automargin": true,
           "gridcolor": "white",
           "linecolor": "white",
           "ticks": "",
           "title": {
            "standoff": 15
           },
           "zerolinecolor": "white",
           "zerolinewidth": 2
          }
         }
        },
        "xaxis": {
         "anchor": "y",
         "constrain": "domain",
         "domain": [
          0,
          1
         ],
         "scaleanchor": "y"
        },
        "yaxis": {
         "anchor": "x",
         "autorange": "reversed",
         "constrain": "domain",
         "domain": [
          0,
          1
         ]
        }
       }
      },
      "text/html": [
       "<div>                            <div id=\"f15f3307-a226-4f20-adbe-44e5c71ad25a\" class=\"plotly-graph-div\" style=\"height:525px; width:100%;\"></div>            <script type=\"text/javascript\">                require([\"plotly\"], function(Plotly) {                    window.PLOTLYENV=window.PLOTLYENV || {};                                    if (document.getElementById(\"f15f3307-a226-4f20-adbe-44e5c71ad25a\")) {                    Plotly.newPlot(                        \"f15f3307-a226-4f20-adbe-44e5c71ad25a\",                        [{\"coloraxis\":\"coloraxis\",\"name\":\"0\",\"x\":[\"CreditScore\",\"Age\",\"Tenure\",\"Balance\",\"NumOfProducts\",\"HasCrCard\",\"IsActiveMember\",\"EstimatedSalary\",\"Exited\",\"Germany\",\"Spain\",\"Male\"],\"y\":[\"CreditScore\",\"Age\",\"Tenure\",\"Balance\",\"NumOfProducts\",\"HasCrCard\",\"IsActiveMember\",\"EstimatedSalary\",\"Exited\",\"Germany\",\"Spain\",\"Male\"],\"z\":[[1.0,-0.0039649055253900955,0.0035519386836331953,0.006268381616008729,0.012237879283268093,-0.00545848209462341,0.02565132328314863,-0.0013842928679845194,-0.027093539754657912,0.005537552606602559,0.004779770274798438,-0.0028566201204472575],[-0.0039649055253900955,1.0,-0.006315022794268963,0.02830836832749165,-0.03068008796150856,-0.011721029001738744,0.08547214540357671,-0.0072010423766573324,0.2853230378350675,0.04689705116398521,-0.0016853693311733575,-0.02754399265388866],[0.0035519386836331953,-0.006315022794268963,1.0,-0.005400333716804405,0.009660535344617886,0.020131595720068545,-0.024461568959732255,0.011174332347680739,-0.012569938572694277,0.002458039891310123,-0.0009854109264227804,0.015041180564431829],[0.006268381616008729,0.02830836832749165,-0.005400333716804405,1.0,-0.3041797383605488,-0.01485834494459872,-0.010084100438351675,0.012797496340555655,0.11853276877163378,0.4011102451620938,-0.13489191074131787,0.012086568634240246],[0.012237879283268093,-0.03068008796150856,0.009660535344617886,-0.3041797383605488,1.0,0.0031831459930522486,0.009611875911327984,0.014204195129094587,-0.04781986494944057,-0.01041900699364709,0.009039007105901265,-0.021858567612308515],[-0.00545848209462341,-0.011721029001738744,0.020131595720068545,-0.01485834494459872,0.0031831459930522486,1.0,-0.011865636878457913,-0.009933414652547821,-0.007137765603039006,0.010576580713803529,-0.013479728330052097,0.005766124371501144],[0.02565132328314863,0.08547214540357671,-0.024461568959732255,-0.010084100438351675,0.009611875911327984,-0.011865636878457913,1.0,-0.0114214304849567,-0.15612827818890554,-0.020485800270395746,0.0167318636818743,0.022544324652307955],[-0.0013842928679845194,-0.0072010423766573324,0.011174332347680739,0.012797496340555655,0.014204195129094587,-0.009933414652547821,-0.0114214304849567,1.0,0.012096861026844733,0.010297067546982726,-0.006482362407729691,-0.008112338913542958],[-0.027093539754657912,0.2853230378350675,-0.012569938572694277,0.11853276877163378,-0.04781986494944057,-0.007137765603039006,-0.15612827818890554,0.012096861026844733,1.0,0.17348787015297085,-0.05266676206212404,-0.10651248767347467],[0.005537552606602559,0.04689705116398521,0.002458039891310123,0.4011102451620938,-0.01041900699364709,0.010576580713803529,-0.020485800270395746,0.010297067546982726,0.17348787015297085,1.0,-0.3320839640331286,-0.024627879392114648],[0.004779770274798438,-0.0016853693311733575,-0.0009854109264227804,-0.13489191074131787,0.009039007105901265,-0.013479728330052097,0.0167318636818743,-0.006482362407729691,-0.05266676206212404,-0.3320839640331286,1.0,0.016889348835205178],[-0.0028566201204472575,-0.02754399265388866,0.015041180564431829,0.012086568634240246,-0.021858567612308515,0.005766124371501144,0.022544324652307955,-0.008112338913542958,-0.10651248767347467,-0.024627879392114648,0.016889348835205178,1.0]],\"type\":\"heatmap\",\"xaxis\":\"x\",\"yaxis\":\"y\",\"hovertemplate\":\"x: %{x}<br>y: %{y}<br>color: %{z}<extra></extra>\"}],                        {\"template\":{\"data\":{\"bar\":[{\"error_x\":{\"color\":\"#2a3f5f\"},\"error_y\":{\"color\":\"#2a3f5f\"},\"marker\":{\"line\":{\"color\":\"#E5ECF6\",\"width\":0.5},\"pattern\":{\"fillmode\":\"overlay\",\"size\":10,\"solidity\":0.2}},\"type\":\"bar\"}],\"barpolar\":[{\"marker\":{\"line\":{\"color\":\"#E5ECF6\",\"width\":0.5},\"pattern\":{\"fillmode\":\"overlay\",\"size\":10,\"solidity\":0.2}},\"type\":\"barpolar\"}],\"carpet\":[{\"aaxis\":{\"endlinecolor\":\"#2a3f5f\",\"gridcolor\":\"white\",\"linecolor\":\"white\",\"minorgridcolor\":\"white\",\"startlinecolor\":\"#2a3f5f\"},\"baxis\":{\"endlinecolor\":\"#2a3f5f\",\"gridcolor\":\"white\",\"linecolor\":\"white\",\"minorgridcolor\":\"white\",\"startlinecolor\":\"#2a3f5f\"},\"type\":\"carpet\"}],\"choropleth\":[{\"colorbar\":{\"outlinewidth\":0,\"ticks\":\"\"},\"type\":\"choropleth\"}],\"contour\":[{\"colorbar\":{\"outlinewidth\":0,\"ticks\":\"\"},\"colorscale\":[[0.0,\"#0d0887\"],[0.1111111111111111,\"#46039f\"],[0.2222222222222222,\"#7201a8\"],[0.3333333333333333,\"#9c179e\"],[0.4444444444444444,\"#bd3786\"],[0.5555555555555556,\"#d8576b\"],[0.6666666666666666,\"#ed7953\"],[0.7777777777777778,\"#fb9f3a\"],[0.8888888888888888,\"#fdca26\"],[1.0,\"#f0f921\"]],\"type\":\"contour\"}],\"contourcarpet\":[{\"colorbar\":{\"outlinewidth\":0,\"ticks\":\"\"},\"type\":\"contourcarpet\"}],\"heatmap\":[{\"colorbar\":{\"outlinewidth\":0,\"ticks\":\"\"},\"colorscale\":[[0.0,\"#0d0887\"],[0.1111111111111111,\"#46039f\"],[0.2222222222222222,\"#7201a8\"],[0.3333333333333333,\"#9c179e\"],[0.4444444444444444,\"#bd3786\"],[0.5555555555555556,\"#d8576b\"],[0.6666666666666666,\"#ed7953\"],[0.7777777777777778,\"#fb9f3a\"],[0.8888888888888888,\"#fdca26\"],[1.0,\"#f0f921\"]],\"type\":\"heatmap\"}],\"heatmapgl\":[{\"colorbar\":{\"outlinewidth\":0,\"ticks\":\"\"},\"colorscale\":[[0.0,\"#0d0887\"],[0.1111111111111111,\"#46039f\"],[0.2222222222222222,\"#7201a8\"],[0.3333333333333333,\"#9c179e\"],[0.4444444444444444,\"#bd3786\"],[0.5555555555555556,\"#d8576b\"],[0.6666666666666666,\"#ed7953\"],[0.7777777777777778,\"#fb9f3a\"],[0.8888888888888888,\"#fdca26\"],[1.0,\"#f0f921\"]],\"type\":\"heatmapgl\"}],\"histogram\":[{\"marker\":{\"pattern\":{\"fillmode\":\"overlay\",\"size\":10,\"solidity\":0.2}},\"type\":\"histogram\"}],\"histogram2d\":[{\"colorbar\":{\"outlinewidth\":0,\"ticks\":\"\"},\"colorscale\":[[0.0,\"#0d0887\"],[0.1111111111111111,\"#46039f\"],[0.2222222222222222,\"#7201a8\"],[0.3333333333333333,\"#9c179e\"],[0.4444444444444444,\"#bd3786\"],[0.5555555555555556,\"#d8576b\"],[0.6666666666666666,\"#ed7953\"],[0.7777777777777778,\"#fb9f3a\"],[0.8888888888888888,\"#fdca26\"],[1.0,\"#f0f921\"]],\"type\":\"histogram2d\"}],\"histogram2dcontour\":[{\"colorbar\":{\"outlinewidth\":0,\"ticks\":\"\"},\"colorscale\":[[0.0,\"#0d0887\"],[0.1111111111111111,\"#46039f\"],[0.2222222222222222,\"#7201a8\"],[0.3333333333333333,\"#9c179e\"],[0.4444444444444444,\"#bd3786\"],[0.5555555555555556,\"#d8576b\"],[0.6666666666666666,\"#ed7953\"],[0.7777777777777778,\"#fb9f3a\"],[0.8888888888888888,\"#fdca26\"],[1.0,\"#f0f921\"]],\"type\":\"histogram2dcontour\"}],\"mesh3d\":[{\"colorbar\":{\"outlinewidth\":0,\"ticks\":\"\"},\"type\":\"mesh3d\"}],\"parcoords\":[{\"line\":{\"colorbar\":{\"outlinewidth\":0,\"ticks\":\"\"}},\"type\":\"parcoords\"}],\"pie\":[{\"automargin\":true,\"type\":\"pie\"}],\"scatter\":[{\"marker\":{\"colorbar\":{\"outlinewidth\":0,\"ticks\":\"\"}},\"type\":\"scatter\"}],\"scatter3d\":[{\"line\":{\"colorbar\":{\"outlinewidth\":0,\"ticks\":\"\"}},\"marker\":{\"colorbar\":{\"outlinewidth\":0,\"ticks\":\"\"}},\"type\":\"scatter3d\"}],\"scattercarpet\":[{\"marker\":{\"colorbar\":{\"outlinewidth\":0,\"ticks\":\"\"}},\"type\":\"scattercarpet\"}],\"scattergeo\":[{\"marker\":{\"colorbar\":{\"outlinewidth\":0,\"ticks\":\"\"}},\"type\":\"scattergeo\"}],\"scattergl\":[{\"marker\":{\"colorbar\":{\"outlinewidth\":0,\"ticks\":\"\"}},\"type\":\"scattergl\"}],\"scattermapbox\":[{\"marker\":{\"colorbar\":{\"outlinewidth\":0,\"ticks\":\"\"}},\"type\":\"scattermapbox\"}],\"scatterpolar\":[{\"marker\":{\"colorbar\":{\"outlinewidth\":0,\"ticks\":\"\"}},\"type\":\"scatterpolar\"}],\"scatterpolargl\":[{\"marker\":{\"colorbar\":{\"outlinewidth\":0,\"ticks\":\"\"}},\"type\":\"scatterpolargl\"}],\"scatterternary\":[{\"marker\":{\"colorbar\":{\"outlinewidth\":0,\"ticks\":\"\"}},\"type\":\"scatterternary\"}],\"surface\":[{\"colorbar\":{\"outlinewidth\":0,\"ticks\":\"\"},\"colorscale\":[[0.0,\"#0d0887\"],[0.1111111111111111,\"#46039f\"],[0.2222222222222222,\"#7201a8\"],[0.3333333333333333,\"#9c179e\"],[0.4444444444444444,\"#bd3786\"],[0.5555555555555556,\"#d8576b\"],[0.6666666666666666,\"#ed7953\"],[0.7777777777777778,\"#fb9f3a\"],[0.8888888888888888,\"#fdca26\"],[1.0,\"#f0f921\"]],\"type\":\"surface\"}],\"table\":[{\"cells\":{\"fill\":{\"color\":\"#EBF0F8\"},\"line\":{\"color\":\"white\"}},\"header\":{\"fill\":{\"color\":\"#C8D4E3\"},\"line\":{\"color\":\"white\"}},\"type\":\"table\"}]},\"layout\":{\"annotationdefaults\":{\"arrowcolor\":\"#2a3f5f\",\"arrowhead\":0,\"arrowwidth\":1},\"autotypenumbers\":\"strict\",\"coloraxis\":{\"colorbar\":{\"outlinewidth\":0,\"ticks\":\"\"}},\"colorscale\":{\"diverging\":[[0,\"#8e0152\"],[0.1,\"#c51b7d\"],[0.2,\"#de77ae\"],[0.3,\"#f1b6da\"],[0.4,\"#fde0ef\"],[0.5,\"#f7f7f7\"],[0.6,\"#e6f5d0\"],[0.7,\"#b8e186\"],[0.8,\"#7fbc41\"],[0.9,\"#4d9221\"],[1,\"#276419\"]],\"sequential\":[[0.0,\"#0d0887\"],[0.1111111111111111,\"#46039f\"],[0.2222222222222222,\"#7201a8\"],[0.3333333333333333,\"#9c179e\"],[0.4444444444444444,\"#bd3786\"],[0.5555555555555556,\"#d8576b\"],[0.6666666666666666,\"#ed7953\"],[0.7777777777777778,\"#fb9f3a\"],[0.8888888888888888,\"#fdca26\"],[1.0,\"#f0f921\"]],\"sequentialminus\":[[0.0,\"#0d0887\"],[0.1111111111111111,\"#46039f\"],[0.2222222222222222,\"#7201a8\"],[0.3333333333333333,\"#9c179e\"],[0.4444444444444444,\"#bd3786\"],[0.5555555555555556,\"#d8576b\"],[0.6666666666666666,\"#ed7953\"],[0.7777777777777778,\"#fb9f3a\"],[0.8888888888888888,\"#fdca26\"],[1.0,\"#f0f921\"]]},\"colorway\":[\"#636efa\",\"#EF553B\",\"#00cc96\",\"#ab63fa\",\"#FFA15A\",\"#19d3f3\",\"#FF6692\",\"#B6E880\",\"#FF97FF\",\"#FECB52\"],\"font\":{\"color\":\"#2a3f5f\"},\"geo\":{\"bgcolor\":\"white\",\"lakecolor\":\"white\",\"landcolor\":\"#E5ECF6\",\"showlakes\":true,\"showland\":true,\"subunitcolor\":\"white\"},\"hoverlabel\":{\"align\":\"left\"},\"hovermode\":\"closest\",\"mapbox\":{\"style\":\"light\"},\"paper_bgcolor\":\"white\",\"plot_bgcolor\":\"#E5ECF6\",\"polar\":{\"angularaxis\":{\"gridcolor\":\"white\",\"linecolor\":\"white\",\"ticks\":\"\"},\"bgcolor\":\"#E5ECF6\",\"radialaxis\":{\"gridcolor\":\"white\",\"linecolor\":\"white\",\"ticks\":\"\"}},\"scene\":{\"xaxis\":{\"backgroundcolor\":\"#E5ECF6\",\"gridcolor\":\"white\",\"gridwidth\":2,\"linecolor\":\"white\",\"showbackground\":true,\"ticks\":\"\",\"zerolinecolor\":\"white\"},\"yaxis\":{\"backgroundcolor\":\"#E5ECF6\",\"gridcolor\":\"white\",\"gridwidth\":2,\"linecolor\":\"white\",\"showbackground\":true,\"ticks\":\"\",\"zerolinecolor\":\"white\"},\"zaxis\":{\"backgroundcolor\":\"#E5ECF6\",\"gridcolor\":\"white\",\"gridwidth\":2,\"linecolor\":\"white\",\"showbackground\":true,\"ticks\":\"\",\"zerolinecolor\":\"white\"}},\"shapedefaults\":{\"line\":{\"color\":\"#2a3f5f\"}},\"ternary\":{\"aaxis\":{\"gridcolor\":\"white\",\"linecolor\":\"white\",\"ticks\":\"\"},\"baxis\":{\"gridcolor\":\"white\",\"linecolor\":\"white\",\"ticks\":\"\"},\"bgcolor\":\"#E5ECF6\",\"caxis\":{\"gridcolor\":\"white\",\"linecolor\":\"white\",\"ticks\":\"\"}},\"title\":{\"x\":0.05},\"xaxis\":{\"automargin\":true,\"gridcolor\":\"white\",\"linecolor\":\"white\",\"ticks\":\"\",\"title\":{\"standoff\":15},\"zerolinecolor\":\"white\",\"zerolinewidth\":2},\"yaxis\":{\"automargin\":true,\"gridcolor\":\"white\",\"linecolor\":\"white\",\"ticks\":\"\",\"title\":{\"standoff\":15},\"zerolinecolor\":\"white\",\"zerolinewidth\":2}}},\"xaxis\":{\"anchor\":\"y\",\"domain\":[0.0,1.0],\"scaleanchor\":\"y\",\"constrain\":\"domain\"},\"yaxis\":{\"anchor\":\"x\",\"domain\":[0.0,1.0],\"autorange\":\"reversed\",\"constrain\":\"domain\"},\"coloraxis\":{\"colorscale\":[[0.0,\"#0d0887\"],[0.1111111111111111,\"#46039f\"],[0.2222222222222222,\"#7201a8\"],[0.3333333333333333,\"#9c179e\"],[0.4444444444444444,\"#bd3786\"],[0.5555555555555556,\"#d8576b\"],[0.6666666666666666,\"#ed7953\"],[0.7777777777777778,\"#fb9f3a\"],[0.8888888888888888,\"#fdca26\"],[1.0,\"#f0f921\"]]},\"margin\":{\"t\":60}},                        {\"responsive\": true}                    ).then(function(){\n",
       "                            \n",
       "var gd = document.getElementById('f15f3307-a226-4f20-adbe-44e5c71ad25a');\n",
       "var x = new MutationObserver(function (mutations, observer) {{\n",
       "        var display = window.getComputedStyle(gd).display;\n",
       "        if (!display || display === 'none') {{\n",
       "            console.log([gd, 'removed!']);\n",
       "            Plotly.purge(gd);\n",
       "            observer.disconnect();\n",
       "        }}\n",
       "}});\n",
       "\n",
       "// Listen for the removal of the full notebook cells\n",
       "var notebookContainer = gd.closest('#notebook-container');\n",
       "if (notebookContainer) {{\n",
       "    x.observe(notebookContainer, {childList: true});\n",
       "}}\n",
       "\n",
       "// Listen for the clearing of the current output cell\n",
       "var outputEl = gd.closest('.output');\n",
       "if (outputEl) {{\n",
       "    x.observe(outputEl, {childList: true});\n",
       "}}\n",
       "\n",
       "                        })                };                });            </script>        </div>"
      ]
     },
     "metadata": {},
     "output_type": "display_data"
    }
   ],
   "source": [
    "fig = px.imshow(corr)\n",
    "fig.show()"
   ]
  },
  {
   "cell_type": "markdown",
   "id": "137c3c1d",
   "metadata": {},
   "source": [
    "We can see that Exited which is the target have positive correlation with Age. Beside that residence of Germany have good balance"
   ]
  },
  {
   "cell_type": "code",
   "execution_count": 1940,
   "id": "35b32723",
   "metadata": {},
   "outputs": [
    {
     "data": {
      "text/html": [
       "<div>\n",
       "<style scoped>\n",
       "    .dataframe tbody tr th:only-of-type {\n",
       "        vertical-align: middle;\n",
       "    }\n",
       "\n",
       "    .dataframe tbody tr th {\n",
       "        vertical-align: top;\n",
       "    }\n",
       "\n",
       "    .dataframe thead th {\n",
       "        text-align: right;\n",
       "    }\n",
       "</style>\n",
       "<table border=\"1\" class=\"dataframe\">\n",
       "  <thead>\n",
       "    <tr style=\"text-align: right;\">\n",
       "      <th></th>\n",
       "      <th>CreditScore</th>\n",
       "      <th>Age</th>\n",
       "      <th>Tenure</th>\n",
       "      <th>Balance</th>\n",
       "      <th>NumOfProducts</th>\n",
       "      <th>HasCrCard</th>\n",
       "      <th>IsActiveMember</th>\n",
       "      <th>EstimatedSalary</th>\n",
       "      <th>Exited</th>\n",
       "      <th>Germany</th>\n",
       "      <th>Spain</th>\n",
       "      <th>Male</th>\n",
       "    </tr>\n",
       "  </thead>\n",
       "  <tbody>\n",
       "    <tr>\n",
       "      <th>0</th>\n",
       "      <td>-0.326221</td>\n",
       "      <td>0.293517</td>\n",
       "      <td>-0.753651</td>\n",
       "      <td>-1.225848</td>\n",
       "      <td>-0.911583</td>\n",
       "      <td>1</td>\n",
       "      <td>1</td>\n",
       "      <td>0.021886</td>\n",
       "      <td>1</td>\n",
       "      <td>0</td>\n",
       "      <td>0</td>\n",
       "      <td>0</td>\n",
       "    </tr>\n",
       "    <tr>\n",
       "      <th>1</th>\n",
       "      <td>-0.440036</td>\n",
       "      <td>0.198164</td>\n",
       "      <td>-1.060950</td>\n",
       "      <td>0.117350</td>\n",
       "      <td>-0.911583</td>\n",
       "      <td>0</td>\n",
       "      <td>1</td>\n",
       "      <td>0.216534</td>\n",
       "      <td>0</td>\n",
       "      <td>0</td>\n",
       "      <td>1</td>\n",
       "      <td>0</td>\n",
       "    </tr>\n",
       "    <tr>\n",
       "      <th>2</th>\n",
       "      <td>-1.536794</td>\n",
       "      <td>0.293517</td>\n",
       "      <td>1.090144</td>\n",
       "      <td>1.333053</td>\n",
       "      <td>2.527057</td>\n",
       "      <td>1</td>\n",
       "      <td>0</td>\n",
       "      <td>0.240687</td>\n",
       "      <td>1</td>\n",
       "      <td>0</td>\n",
       "      <td>0</td>\n",
       "      <td>0</td>\n",
       "    </tr>\n",
       "    <tr>\n",
       "      <th>3</th>\n",
       "      <td>0.501521</td>\n",
       "      <td>0.007457</td>\n",
       "      <td>-1.060950</td>\n",
       "      <td>-1.225848</td>\n",
       "      <td>0.807737</td>\n",
       "      <td>0</td>\n",
       "      <td>0</td>\n",
       "      <td>-0.108918</td>\n",
       "      <td>0</td>\n",
       "      <td>0</td>\n",
       "      <td>0</td>\n",
       "      <td>0</td>\n",
       "    </tr>\n",
       "    <tr>\n",
       "      <th>4</th>\n",
       "      <td>2.063884</td>\n",
       "      <td>0.388871</td>\n",
       "      <td>-0.753651</td>\n",
       "      <td>0.785728</td>\n",
       "      <td>-0.911583</td>\n",
       "      <td>1</td>\n",
       "      <td>1</td>\n",
       "      <td>-0.365276</td>\n",
       "      <td>0</td>\n",
       "      <td>0</td>\n",
       "      <td>1</td>\n",
       "      <td>0</td>\n",
       "    </tr>\n",
       "    <tr>\n",
       "      <th>...</th>\n",
       "      <td>...</td>\n",
       "      <td>...</td>\n",
       "      <td>...</td>\n",
       "      <td>...</td>\n",
       "      <td>...</td>\n",
       "      <td>...</td>\n",
       "      <td>...</td>\n",
       "      <td>...</td>\n",
       "      <td>...</td>\n",
       "      <td>...</td>\n",
       "      <td>...</td>\n",
       "      <td>...</td>\n",
       "    </tr>\n",
       "    <tr>\n",
       "      <th>9995</th>\n",
       "      <td>1.246488</td>\n",
       "      <td>0.007457</td>\n",
       "      <td>0.168246</td>\n",
       "      <td>-1.225848</td>\n",
       "      <td>0.807737</td>\n",
       "      <td>1</td>\n",
       "      <td>0</td>\n",
       "      <td>-0.066419</td>\n",
       "      <td>0</td>\n",
       "      <td>0</td>\n",
       "      <td>0</td>\n",
       "      <td>1</td>\n",
       "    </tr>\n",
       "    <tr>\n",
       "      <th>9996</th>\n",
       "      <td>-1.391939</td>\n",
       "      <td>-0.373958</td>\n",
       "      <td>1.704742</td>\n",
       "      <td>-0.306379</td>\n",
       "      <td>-0.911583</td>\n",
       "      <td>1</td>\n",
       "      <td>1</td>\n",
       "      <td>0.027988</td>\n",
       "      <td>0</td>\n",
       "      <td>0</td>\n",
       "      <td>0</td>\n",
       "      <td>1</td>\n",
       "    </tr>\n",
       "    <tr>\n",
       "      <th>9997</th>\n",
       "      <td>0.604988</td>\n",
       "      <td>-0.278604</td>\n",
       "      <td>0.782845</td>\n",
       "      <td>-1.225848</td>\n",
       "      <td>-0.911583</td>\n",
       "      <td>0</td>\n",
       "      <td>1</td>\n",
       "      <td>-1.008643</td>\n",
       "      <td>1</td>\n",
       "      <td>0</td>\n",
       "      <td>0</td>\n",
       "      <td>0</td>\n",
       "    </tr>\n",
       "    <tr>\n",
       "      <th>9998</th>\n",
       "      <td>1.256835</td>\n",
       "      <td>0.293517</td>\n",
       "      <td>-0.446352</td>\n",
       "      <td>-0.022608</td>\n",
       "      <td>0.807737</td>\n",
       "      <td>1</td>\n",
       "      <td>0</td>\n",
       "      <td>-0.125231</td>\n",
       "      <td>1</td>\n",
       "      <td>1</td>\n",
       "      <td>0</td>\n",
       "      <td>1</td>\n",
       "    </tr>\n",
       "    <tr>\n",
       "      <th>9999</th>\n",
       "      <td>1.463771</td>\n",
       "      <td>-1.041433</td>\n",
       "      <td>-1.675549</td>\n",
       "      <td>0.859965</td>\n",
       "      <td>-0.911583</td>\n",
       "      <td>1</td>\n",
       "      <td>0</td>\n",
       "      <td>-1.076370</td>\n",
       "      <td>0</td>\n",
       "      <td>0</td>\n",
       "      <td>0</td>\n",
       "      <td>0</td>\n",
       "    </tr>\n",
       "  </tbody>\n",
       "</table>\n",
       "<p>10000 rows × 12 columns</p>\n",
       "</div>"
      ],
      "text/plain": [
       "      CreditScore       Age    Tenure   Balance  NumOfProducts  HasCrCard  \\\n",
       "0       -0.326221  0.293517 -0.753651 -1.225848      -0.911583          1   \n",
       "1       -0.440036  0.198164 -1.060950  0.117350      -0.911583          0   \n",
       "2       -1.536794  0.293517  1.090144  1.333053       2.527057          1   \n",
       "3        0.501521  0.007457 -1.060950 -1.225848       0.807737          0   \n",
       "4        2.063884  0.388871 -0.753651  0.785728      -0.911583          1   \n",
       "...           ...       ...       ...       ...            ...        ...   \n",
       "9995     1.246488  0.007457  0.168246 -1.225848       0.807737          1   \n",
       "9996    -1.391939 -0.373958  1.704742 -0.306379      -0.911583          1   \n",
       "9997     0.604988 -0.278604  0.782845 -1.225848      -0.911583          0   \n",
       "9998     1.256835  0.293517 -0.446352 -0.022608       0.807737          1   \n",
       "9999     1.463771 -1.041433 -1.675549  0.859965      -0.911583          1   \n",
       "\n",
       "      IsActiveMember  EstimatedSalary  Exited  Germany  Spain  Male  \n",
       "0                  1         0.021886       1        0      0     0  \n",
       "1                  1         0.216534       0        0      1     0  \n",
       "2                  0         0.240687       1        0      0     0  \n",
       "3                  0        -0.108918       0        0      0     0  \n",
       "4                  1        -0.365276       0        0      1     0  \n",
       "...              ...              ...     ...      ...    ...   ...  \n",
       "9995               0        -0.066419       0        0      0     1  \n",
       "9996               1         0.027988       0        0      0     1  \n",
       "9997               1        -1.008643       1        0      0     0  \n",
       "9998               0        -0.125231       1        1      0     1  \n",
       "9999               0        -1.076370       0        0      0     0  \n",
       "\n",
       "[10000 rows x 12 columns]"
      ]
     },
     "execution_count": 1940,
     "metadata": {},
     "output_type": "execute_result"
    }
   ],
   "source": [
    "data_modified\n"
   ]
  },
  {
   "cell_type": "code",
   "execution_count": 1941,
   "id": "9ea41d78",
   "metadata": {},
   "outputs": [
    {
     "name": "stdout",
     "output_type": "stream",
     "text": [
      "<class 'pandas.core.frame.DataFrame'>\n",
      "RangeIndex: 10000 entries, 0 to 9999\n",
      "Data columns (total 12 columns):\n",
      " #   Column           Non-Null Count  Dtype  \n",
      "---  ------           --------------  -----  \n",
      " 0   CreditScore      10000 non-null  float64\n",
      " 1   Age              10000 non-null  float64\n",
      " 2   Tenure           10000 non-null  float64\n",
      " 3   Balance          10000 non-null  float64\n",
      " 4   NumOfProducts    10000 non-null  float64\n",
      " 5   HasCrCard        10000 non-null  int64  \n",
      " 6   IsActiveMember   10000 non-null  int64  \n",
      " 7   EstimatedSalary  10000 non-null  float64\n",
      " 8   Exited           10000 non-null  int64  \n",
      " 9   Germany          10000 non-null  uint8  \n",
      " 10  Spain            10000 non-null  uint8  \n",
      " 11  Male             10000 non-null  uint8  \n",
      "dtypes: float64(6), int64(3), uint8(3)\n",
      "memory usage: 732.5 KB\n"
     ]
    }
   ],
   "source": [
    "data_modified.info()"
   ]
  },
  {
   "cell_type": "markdown",
   "id": "16f92910",
   "metadata": {},
   "source": [
    "# Examine the balance of classes"
   ]
  },
  {
   "cell_type": "markdown",
   "id": "4b27704d",
   "metadata": {},
   "source": [
    "## Split the modified data into a training, validation and test set"
   ]
  },
  {
   "cell_type": "markdown",
   "id": "c3634db2",
   "metadata": {},
   "source": [
    "Lets train a model with the modified data as it is without taking into account the imbalance"
   ]
  },
  {
   "cell_type": "markdown",
   "id": "e5ca4141",
   "metadata": {},
   "source": [
    "This is a classification task so we will check which learning algorithm for classification yields the best F1 score. The models we will check are: Decision tree, Random forest and Logistic regression.\n",
    "\n",
    "For checking the balance necessity we will use the simple Decision tree model only."
   ]
  },
  {
   "cell_type": "markdown",
   "id": "d3035075",
   "metadata": {},
   "source": [
    "Split the data"
   ]
  },
  {
   "cell_type": "code",
   "execution_count": 1942,
   "id": "af8ac3a1",
   "metadata": {},
   "outputs": [],
   "source": [
    "df_train, df_valid_and_test = train_test_split(data_modified, test_size=0.4, random_state=12345)\n",
    "df_valid, df_test = train_test_split(df_valid_and_test, test_size=0.5, random_state=12345)"
   ]
  },
  {
   "cell_type": "markdown",
   "id": "1d007be3",
   "metadata": {},
   "source": [
    "For final training on a larger set - create a concat df of train and validation set"
   ]
  },
  {
   "cell_type": "code",
   "execution_count": 1943,
   "id": "697beec6",
   "metadata": {
    "scrolled": true
   },
   "outputs": [],
   "source": [
    "# concat the train and valid data \n",
    "df_train_and_valid = pd.concat([df_train, df_valid], ignore_index=True)"
   ]
  },
  {
   "cell_type": "code",
   "execution_count": 1944,
   "id": "0fcaf131",
   "metadata": {},
   "outputs": [],
   "source": [
    "\n",
    "features_train = df_train.drop(['Exited'], axis=1)\n",
    "target_train = df_train['Exited']\n",
    "features_valid = df_valid.drop(['Exited'], axis=1)\n",
    "target_valid = df_valid['Exited']\n",
    "features_test = df_test.drop(['Exited'], axis=1)\n",
    "target_test = df_test['Exited']\n",
    "\n",
    "# split also the concat df\n",
    "features_train_and_valid = df_train_and_valid.drop(['Exited'], axis=1)\n",
    "target_train_and_valid = df_train_and_valid['Exited']\n"
   ]
  },
  {
   "cell_type": "markdown",
   "id": "7e754ca1",
   "metadata": {},
   "source": [
    "Create a function to see the share of exited observation from the data"
   ]
  },
  {
   "cell_type": "code",
   "execution_count": 1945,
   "id": "de7b66c4",
   "metadata": {},
   "outputs": [],
   "source": [
    "def proportion_of_1(df, target):\n",
    "    value_count = df[target].value_counts()\n",
    "    proportion = df[target].value_counts()[1]/(\n",
    "        df[target].value_counts()[1]+df[target].value_counts()[0])\n",
    "    return round(proportion, 2)"
   ]
  },
  {
   "cell_type": "code",
   "execution_count": 1946,
   "id": "025f0570",
   "metadata": {
    "scrolled": true
   },
   "outputs": [
    {
     "name": "stdout",
     "output_type": "stream",
     "text": [
      "df original proportion: 0.2\n",
      "\n",
      "df_train proportion: 0.2\n",
      "df_valid proportion: 0.21\n",
      "df_test proportion: 0.21\n"
     ]
    }
   ],
   "source": [
    "print('df original proportion:', proportion_of_1(df=data_modified, target='Exited'))\n",
    "print()\n",
    "print('df_train proportion:', proportion_of_1(df=df_train, target='Exited'))\n",
    "print('df_valid proportion:', proportion_of_1(df=df_valid, target='Exited'))\n",
    "print('df_test proportion:', proportion_of_1(df=df_test, target='Exited'))\n"
   ]
  },
  {
   "cell_type": "markdown",
   "id": "febdd854",
   "metadata": {},
   "source": [
    "We have much higher share of non exited observation. Probably balance needed. This time we will test without"
   ]
  },
  {
   "cell_type": "markdown",
   "id": "01cfb5c9",
   "metadata": {},
   "source": [
    "create features and target "
   ]
  },
  {
   "cell_type": "markdown",
   "id": "c0ce65d9",
   "metadata": {},
   "source": [
    "## Train the model"
   ]
  },
  {
   "cell_type": "markdown",
   "id": "35d74e62",
   "metadata": {},
   "source": [
    "### Desicion tree"
   ]
  },
  {
   "cell_type": "markdown",
   "id": "ba33cce2",
   "metadata": {},
   "source": [
    "loop tree depth to optimize the model depth with best accuracy"
   ]
  },
  {
   "cell_type": "code",
   "execution_count": 1947,
   "id": "143ec046",
   "metadata": {
    "scrolled": true
   },
   "outputs": [
    {
     "name": "stdout",
     "output_type": "stream",
     "text": [
      "max_depth = 1 : 0.0\n",
      "max_depth = 2 : 0.522\n",
      "max_depth = 3 : 0.423\n",
      "max_depth = 4 : 0.553\n",
      "max_depth = 5 : 0.541\n",
      "max_depth = 6 : 0.57\n",
      "max_depth = 7 : 0.526\n",
      "max_depth = 8 : 0.534\n",
      "max_depth = 9 : 0.563\n",
      "\n",
      "F1 of the best model is (best_depth = 6): 0.57\n"
     ]
    }
   ],
   "source": [
    "best_depth = 0\n",
    "best_f1_score = 0\n",
    "for depth in range(1,10):\n",
    "    model = DecisionTreeClassifier(random_state=12345, max_depth=depth) # create a model with the given depth\n",
    "    model.fit(features_train, target_train) # train the model\n",
    "    predictions_dt_valid = model.predict(features_valid) # get the model's predictions\n",
    "    my_f1_score = f1_score(target_valid, predictions_dt_valid)\n",
    "    print(\"max_depth =\", depth, \": \", end='')\n",
    "    print(round(my_f1_score, 3))\n",
    "    if my_f1_score > best_f1_score:\n",
    "        best_f1_score = my_f1_score\n",
    "        best_depth = depth\n",
    "print()\n",
    "print(\"F1 of the best model is (best_depth = {}): {}\".format(best_depth, round(best_f1_score,3)))\n",
    "    "
   ]
  },
  {
   "cell_type": "markdown",
   "id": "43446999",
   "metadata": {},
   "source": [
    "Now we will build a model and save it under the name - model_dt dt- desicion tree"
   ]
  },
  {
   "cell_type": "code",
   "execution_count": 1948,
   "id": "35a5246c",
   "metadata": {},
   "outputs": [
    {
     "name": "stdout",
     "output_type": "stream",
     "text": [
      "F1 score is: 0.57\n"
     ]
    }
   ],
   "source": [
    "# create model desicion tree on the chosen depth\n",
    "model_dt = DecisionTreeClassifier(random_state=12345, max_depth=best_depth)\n",
    "model_dt.fit(features_train, target_train) # train the model\n",
    "predictions_valid_dt = model_dt.predict(features_valid) # get the model's predictions\n",
    "my_f1_score = f1_score(target_valid, predictions_valid_dt)\n",
    "print(\"F1 score is: {}\".format(round(my_f1_score,3)))"
   ]
  },
  {
   "cell_type": "markdown",
   "id": "66cb14cf",
   "metadata": {},
   "source": [
    "calculate the ROC_AUC"
   ]
  },
  {
   "cell_type": "code",
   "execution_count": 1949,
   "id": "c7aa2f0b",
   "metadata": {},
   "outputs": [
    {
     "name": "stdout",
     "output_type": "stream",
     "text": [
      "ROC/AUC: 0.7078133789824521\n"
     ]
    }
   ],
   "source": [
    "my_roc_auc_score = roc_auc_score(target_valid, predictions_valid_dt)\n",
    "print(\"ROC/AUC: {}\".format(my_roc_auc_score))\n"
   ]
  },
  {
   "cell_type": "markdown",
   "id": "75eb878d",
   "metadata": {},
   "source": [
    "Add the results to results data frame"
   ]
  },
  {
   "cell_type": "code",
   "execution_count": 1950,
   "id": "2f42bca7",
   "metadata": {},
   "outputs": [],
   "source": [
    "col = ('model_name', 'balance_type', 'threshold', 'F1_score', 'ROC_AUC_score') \n",
    "results_df = pd.DataFrame(columns=col)"
   ]
  },
  {
   "cell_type": "markdown",
   "id": "74702b4a",
   "metadata": {},
   "source": [
    "Create a function to add results to results_df"
   ]
  },
  {
   "cell_type": "code",
   "execution_count": 1951,
   "id": "1b3d7912",
   "metadata": {},
   "outputs": [],
   "source": [
    "def add_data_to_results_df(model_name:str,\n",
    "                           balance_type:str,\n",
    "                           threshold:str,\n",
    "                           F1_score:float,\n",
    "                           ROC_AUC_score:float,\n",
    "                           temp_results_df):\n",
    "    data = {'model_name': [model_name],\n",
    "        'balance_type': [balance_type],\n",
    "        'threshold': [threshold],\n",
    "        'F1_score': [F1_score],\n",
    "        'ROC_AUC_score': [ROC_AUC_score],\n",
    "       }\n",
    "    temp_df = pd.DataFrame.from_dict(data)\n",
    "    temp_results_df = temp_results_df.append(temp_df, ignore_index=True)\n",
    "    return temp_results_df"
   ]
  },
  {
   "cell_type": "code",
   "execution_count": 1952,
   "id": "6d8471bf",
   "metadata": {
    "scrolled": true
   },
   "outputs": [
    {
     "data": {
      "text/html": [
       "<div>\n",
       "<style scoped>\n",
       "    .dataframe tbody tr th:only-of-type {\n",
       "        vertical-align: middle;\n",
       "    }\n",
       "\n",
       "    .dataframe tbody tr th {\n",
       "        vertical-align: top;\n",
       "    }\n",
       "\n",
       "    .dataframe thead th {\n",
       "        text-align: right;\n",
       "    }\n",
       "</style>\n",
       "<table border=\"1\" class=\"dataframe\">\n",
       "  <thead>\n",
       "    <tr style=\"text-align: right;\">\n",
       "      <th></th>\n",
       "      <th>model_name</th>\n",
       "      <th>balance_type</th>\n",
       "      <th>threshold</th>\n",
       "      <th>F1_score</th>\n",
       "      <th>ROC_AUC_score</th>\n",
       "    </tr>\n",
       "  </thead>\n",
       "  <tbody>\n",
       "    <tr>\n",
       "      <th>0</th>\n",
       "      <td>desicion_tree</td>\n",
       "      <td>no</td>\n",
       "      <td>no</td>\n",
       "      <td>0.569697</td>\n",
       "      <td>0.707813</td>\n",
       "    </tr>\n",
       "  </tbody>\n",
       "</table>\n",
       "</div>"
      ],
      "text/plain": [
       "      model_name balance_type threshold  F1_score  ROC_AUC_score\n",
       "0  desicion_tree           no        no  0.569697       0.707813"
      ]
     },
     "execution_count": 1952,
     "metadata": {},
     "output_type": "execute_result"
    }
   ],
   "source": [
    "results_df = add_data_to_results_df(model_name='desicion_tree',\n",
    "                                   balance_type='no',\n",
    "                                   threshold='no',\n",
    "                                   F1_score=my_f1_score,\n",
    "                                   ROC_AUC_score=my_roc_auc_score,\n",
    "                                   temp_results_df=results_df)\n",
    "results_df"
   ]
  },
  {
   "cell_type": "markdown",
   "id": "1d71f7be",
   "metadata": {},
   "source": [
    "# Improve the quality of the model by fixing class imbalance"
   ]
  },
  {
   "cell_type": "markdown",
   "id": "5e905347",
   "metadata": {},
   "source": [
    "### Continue with desicion tree"
   ]
  },
  {
   "cell_type": "markdown",
   "id": "b2fd495b",
   "metadata": {},
   "source": [
    "#### Balance desicion tree model with upsample"
   ]
  },
  {
   "cell_type": "markdown",
   "id": "63e83a71",
   "metadata": {},
   "source": [
    "Write a fuction to upsample the minority class"
   ]
  },
  {
   "cell_type": "code",
   "execution_count": 1953,
   "id": "5dfc9295",
   "metadata": {},
   "outputs": [],
   "source": [
    "def upsample(features, target, repeat):\n",
    "    features_zeros = features[target == 0]\n",
    "    features_ones = features[target == 1]\n",
    "    target_zeros = target[target == 0]\n",
    "    target_ones = target[target == 1]\n",
    "\n",
    "    features_upsampled = pd.concat([features_zeros] + [features_ones] * repeat)\n",
    "    target_upsampled = pd.concat([target_zeros] + [target_ones] * repeat)\n",
    "\n",
    "    features_upsampled, target_upsampled = shuffle(\n",
    "        features_upsampled, target_upsampled, random_state=12345\n",
    "    )\n",
    "\n",
    "    return features_upsampled, target_upsampled"
   ]
  },
  {
   "cell_type": "markdown",
   "id": "8e7830f8",
   "metadata": {},
   "source": [
    "Continue with the desicion treee model from last chapter. This time with balancing the existing class"
   ]
  },
  {
   "cell_type": "markdown",
   "id": "378b135b",
   "metadata": {},
   "source": [
    "Iterate manually with the upsample factor and found that multiply by 2 gives best results"
   ]
  },
  {
   "cell_type": "code",
   "execution_count": 1954,
   "id": "acde18a1",
   "metadata": {},
   "outputs": [],
   "source": [
    "features_upsampled, target_upsampled = upsample(\n",
    "    features_train, target_train, 2\n",
    ")"
   ]
  },
  {
   "cell_type": "code",
   "execution_count": 1955,
   "id": "1d2449bc",
   "metadata": {
    "scrolled": true
   },
   "outputs": [
    {
     "data": {
      "text/plain": [
       "0.33240689271817675"
      ]
     },
     "execution_count": 1955,
     "metadata": {},
     "output_type": "execute_result"
    }
   ],
   "source": [
    "target_upsampled.value_counts()[1]/len(target_upsampled)"
   ]
  },
  {
   "cell_type": "code",
   "execution_count": 1956,
   "id": "49dd25c6",
   "metadata": {},
   "outputs": [
    {
     "name": "stdout",
     "output_type": "stream",
     "text": [
      "max_depth = 1 : 0.499\n",
      "max_depth = 2 : 0.522\n",
      "max_depth = 3 : 0.547\n",
      "max_depth = 4 : 0.573\n",
      "max_depth = 5 : 0.58\n",
      "max_depth = 6 : 0.598\n",
      "max_depth = 7 : 0.579\n",
      "max_depth = 8 : 0.559\n",
      "max_depth = 9 : 0.585\n",
      "\n",
      "F1 of the best model is (best_depth = 6): 0.598\n"
     ]
    }
   ],
   "source": [
    "best_depth = 0\n",
    "best_f1_score = 0\n",
    "for depth in range(1,10):\n",
    "    model = DecisionTreeClassifier(random_state=12345, max_depth=depth) # create a model with the given depth\n",
    "    model.fit(features_upsampled, target_upsampled) # train the model\n",
    "    predictions_dt_valid = model.predict(features_valid) # get the model's predictions\n",
    "    my_f1_score = f1_score(target_valid, predictions_dt_valid)\n",
    "    print(\"max_depth =\", depth, \": \", end='')\n",
    "    print(round(my_f1_score, 3))\n",
    "    if my_f1_score > best_f1_score:\n",
    "        best_f1_score = my_f1_score\n",
    "        best_depth = depth\n",
    "print()\n",
    "print(\"F1 of the best model is (best_depth = {}): {}\".format(best_depth, round(best_f1_score,3)))"
   ]
  },
  {
   "cell_type": "code",
   "execution_count": 1957,
   "id": "4264142a",
   "metadata": {},
   "outputs": [],
   "source": [
    "model_dt_upsample = DecisionTreeClassifier(random_state=12345, max_depth=best_depth)\n",
    "model_dt_upsample.fit(features_upsampled, target_upsampled)\n",
    "predicted_valid_dt_upsample = model_dt_upsample.predict(features_valid)"
   ]
  },
  {
   "cell_type": "code",
   "execution_count": 1958,
   "id": "87fd5b02",
   "metadata": {},
   "outputs": [
    {
     "name": "stdout",
     "output_type": "stream",
     "text": [
      "F1 score is: 0.598\n"
     ]
    }
   ],
   "source": [
    "my_f1_score = best_f1_score\n",
    "print(\"F1 score is: {}\".format(round(my_f1_score,3)))"
   ]
  },
  {
   "cell_type": "code",
   "execution_count": 1959,
   "id": "391af53c",
   "metadata": {
    "scrolled": true
   },
   "outputs": [
    {
     "name": "stdout",
     "output_type": "stream",
     "text": [
      "ROC/AUC: 0.730808316043528\n"
     ]
    }
   ],
   "source": [
    "my_roc_auc_score = roc_auc_score(target_valid, predicted_valid_dt_upsample)\n",
    "print(\"ROC/AUC: {}\".format(my_roc_auc_score))"
   ]
  },
  {
   "cell_type": "code",
   "execution_count": 1960,
   "id": "bad8034d",
   "metadata": {
    "scrolled": true
   },
   "outputs": [
    {
     "data": {
      "text/html": [
       "<div>\n",
       "<style scoped>\n",
       "    .dataframe tbody tr th:only-of-type {\n",
       "        vertical-align: middle;\n",
       "    }\n",
       "\n",
       "    .dataframe tbody tr th {\n",
       "        vertical-align: top;\n",
       "    }\n",
       "\n",
       "    .dataframe thead th {\n",
       "        text-align: right;\n",
       "    }\n",
       "</style>\n",
       "<table border=\"1\" class=\"dataframe\">\n",
       "  <thead>\n",
       "    <tr style=\"text-align: right;\">\n",
       "      <th></th>\n",
       "      <th>model_name</th>\n",
       "      <th>balance_type</th>\n",
       "      <th>threshold</th>\n",
       "      <th>F1_score</th>\n",
       "      <th>ROC_AUC_score</th>\n",
       "    </tr>\n",
       "  </thead>\n",
       "  <tbody>\n",
       "    <tr>\n",
       "      <th>0</th>\n",
       "      <td>desicion_tree</td>\n",
       "      <td>no</td>\n",
       "      <td>no</td>\n",
       "      <td>0.569697</td>\n",
       "      <td>0.707813</td>\n",
       "    </tr>\n",
       "    <tr>\n",
       "      <th>1</th>\n",
       "      <td>desicion_tree</td>\n",
       "      <td>upsample</td>\n",
       "      <td>no</td>\n",
       "      <td>0.597796</td>\n",
       "      <td>0.730808</td>\n",
       "    </tr>\n",
       "  </tbody>\n",
       "</table>\n",
       "</div>"
      ],
      "text/plain": [
       "      model_name balance_type threshold  F1_score  ROC_AUC_score\n",
       "0  desicion_tree           no        no  0.569697       0.707813\n",
       "1  desicion_tree     upsample        no  0.597796       0.730808"
      ]
     },
     "execution_count": 1960,
     "metadata": {},
     "output_type": "execute_result"
    }
   ],
   "source": [
    "results_df = add_data_to_results_df(model_name='desicion_tree',\n",
    "                                   balance_type='upsample',\n",
    "                                   threshold='no',\n",
    "                                   F1_score=my_f1_score,\n",
    "                                   ROC_AUC_score=my_roc_auc_score,\n",
    "                                   temp_results_df=results_df)\n",
    "results_df"
   ]
  },
  {
   "cell_type": "markdown",
   "id": "171fb406",
   "metadata": {},
   "source": [
    "#### Balance desicion tree model with class_weight"
   ]
  },
  {
   "cell_type": "code",
   "execution_count": 1961,
   "id": "7f8ba139",
   "metadata": {
    "scrolled": true
   },
   "outputs": [
    {
     "name": "stdout",
     "output_type": "stream",
     "text": [
      "max_depth = 1 : 0.499\n",
      "max_depth = 2 : 0.541\n",
      "max_depth = 3 : 0.541\n",
      "max_depth = 4 : 0.528\n",
      "max_depth = 5 : 0.596\n",
      "max_depth = 6 : 0.558\n",
      "max_depth = 7 : 0.556\n",
      "max_depth = 8 : 0.54\n",
      "max_depth = 9 : 0.535\n",
      "\n",
      "F1 of the best model is (best_depth = 5): 0.596\n"
     ]
    }
   ],
   "source": [
    "best_depth = 0\n",
    "best_f1_score = 0\n",
    "for depth in range(1,10):\n",
    "    model = DecisionTreeClassifier(random_state=12345, max_depth=depth, class_weight='balanced') # create a model with the given depth\n",
    "    model.fit(features_train, target_train) # train the model\n",
    "    predictions_dt_valid = model.predict(features_valid) # get the model's predictions\n",
    "    my_f1_score = f1_score(target_valid, predictions_dt_valid)\n",
    "    print(\"max_depth =\", depth, \": \", end='')\n",
    "    print(round(my_f1_score, 3))\n",
    "    if my_f1_score > best_f1_score:\n",
    "        best_f1_score = my_f1_score\n",
    "        best_depth = depth\n",
    "print()\n",
    "print(\"F1 of the best model is (best_depth = {}): {}\".format(best_depth, round(best_f1_score,3)))\n",
    "    "
   ]
  },
  {
   "cell_type": "markdown",
   "id": "399043a9",
   "metadata": {},
   "source": [
    "Now we will build a model and save it under the name - model_dt dt- desicion tree"
   ]
  },
  {
   "cell_type": "code",
   "execution_count": 1962,
   "id": "1b766a7d",
   "metadata": {},
   "outputs": [
    {
     "name": "stdout",
     "output_type": "stream",
     "text": [
      "F1 score is: 0.596\n"
     ]
    }
   ],
   "source": [
    "# create model desicion tree on the chosen depth\n",
    "model_dt_balanced = DecisionTreeClassifier(random_state=12345, max_depth=best_depth,  class_weight='balanced')\n",
    "model_dt_balanced.fit(features_train, target_train) # train the model\n",
    "predictions_valid_dt_balanced = model_dt_balanced.predict(features_valid) # get the model's predictions\n",
    "my_f1_score = f1_score(target_valid, predictions_valid_dt_balanced)\n",
    "print(\"F1 score is: {}\".format(round(my_f1_score,3)))"
   ]
  },
  {
   "cell_type": "markdown",
   "id": "2d77271e",
   "metadata": {},
   "source": [
    "calculate the ROC_AUC"
   ]
  },
  {
   "cell_type": "code",
   "execution_count": 1963,
   "id": "a1528e0f",
   "metadata": {},
   "outputs": [
    {
     "name": "stdout",
     "output_type": "stream",
     "text": [
      "ROC/AUC: 0.7587588238496482\n"
     ]
    }
   ],
   "source": [
    "my_roc_auc_score = roc_auc_score(target_valid, predictions_valid_dt_balanced)\n",
    "print(\"ROC/AUC: {}\".format(my_roc_auc_score))\n"
   ]
  },
  {
   "cell_type": "code",
   "execution_count": 1964,
   "id": "2c6e6312",
   "metadata": {},
   "outputs": [
    {
     "data": {
      "text/html": [
       "<div>\n",
       "<style scoped>\n",
       "    .dataframe tbody tr th:only-of-type {\n",
       "        vertical-align: middle;\n",
       "    }\n",
       "\n",
       "    .dataframe tbody tr th {\n",
       "        vertical-align: top;\n",
       "    }\n",
       "\n",
       "    .dataframe thead th {\n",
       "        text-align: right;\n",
       "    }\n",
       "</style>\n",
       "<table border=\"1\" class=\"dataframe\">\n",
       "  <thead>\n",
       "    <tr style=\"text-align: right;\">\n",
       "      <th></th>\n",
       "      <th>model_name</th>\n",
       "      <th>balance_type</th>\n",
       "      <th>threshold</th>\n",
       "      <th>F1_score</th>\n",
       "      <th>ROC_AUC_score</th>\n",
       "    </tr>\n",
       "  </thead>\n",
       "  <tbody>\n",
       "    <tr>\n",
       "      <th>0</th>\n",
       "      <td>desicion_tree</td>\n",
       "      <td>no</td>\n",
       "      <td>no</td>\n",
       "      <td>0.569697</td>\n",
       "      <td>0.707813</td>\n",
       "    </tr>\n",
       "    <tr>\n",
       "      <th>1</th>\n",
       "      <td>desicion_tree</td>\n",
       "      <td>upsample</td>\n",
       "      <td>no</td>\n",
       "      <td>0.597796</td>\n",
       "      <td>0.730808</td>\n",
       "    </tr>\n",
       "    <tr>\n",
       "      <th>2</th>\n",
       "      <td>desicion_tree</td>\n",
       "      <td>class_weigh=balanced</td>\n",
       "      <td>no</td>\n",
       "      <td>0.596379</td>\n",
       "      <td>0.758759</td>\n",
       "    </tr>\n",
       "  </tbody>\n",
       "</table>\n",
       "</div>"
      ],
      "text/plain": [
       "      model_name          balance_type threshold  F1_score  ROC_AUC_score\n",
       "0  desicion_tree                    no        no  0.569697       0.707813\n",
       "1  desicion_tree              upsample        no  0.597796       0.730808\n",
       "2  desicion_tree  class_weigh=balanced        no  0.596379       0.758759"
      ]
     },
     "execution_count": 1964,
     "metadata": {},
     "output_type": "execute_result"
    }
   ],
   "source": [
    "results_df = add_data_to_results_df(model_name='desicion_tree',\n",
    "                                   balance_type='class_weigh=balanced',\n",
    "                                   threshold='no',\n",
    "                                   F1_score=my_f1_score,\n",
    "                                   ROC_AUC_score=my_roc_auc_score,\n",
    "                                   temp_results_df=results_df)\n",
    "results_df"
   ]
  },
  {
   "cell_type": "markdown",
   "id": "b9139167",
   "metadata": {},
   "source": [
    "## Test other models for classification"
   ]
  },
  {
   "cell_type": "markdown",
   "id": "2926fb25",
   "metadata": {},
   "source": [
    "### Random Forest"
   ]
  },
  {
   "cell_type": "markdown",
   "id": "20b9e005",
   "metadata": {},
   "source": [
    "#### No balance"
   ]
  },
  {
   "cell_type": "code",
   "execution_count": 1965,
   "id": "4a41b71e",
   "metadata": {},
   "outputs": [
    {
     "name": "stdout",
     "output_type": "stream",
     "text": [
      "F1 score of the best model on the validation set(n_estimators = 6, max_depth = 9): 0.5787106446776611\n"
     ]
    }
   ],
   "source": [
    "best_f1_score = 0\n",
    "best_est = 0\n",
    "best_depth = 0\n",
    "for est in range(1, 15): # choose hyperparameter range\n",
    "    for depth in range(1,10):\n",
    "        model = RandomForestClassifier(random_state=12345, n_estimators=est, max_depth=depth) # set number of trees\n",
    "        model.fit(features_train, target_train) # train model on training set\n",
    "        predictions_rf_valid = model.predict(features_valid) # get the model's predictions\n",
    "        my_rf_f1_score = f1_score(target_valid, predictions_rf_valid)\n",
    "        if my_rf_f1_score > best_f1_score:\n",
    "            best_f1_score = my_rf_f1_score # save best f1 score on validation set\n",
    "            best_est = est# save number of estimators corresponding to best accuracy score\n",
    "            best_depth = depth\n",
    "\n",
    "print(\"F1 score of the best model on the validation set\\\n",
    "(n_estimators = {}, max_depth = {}): {}\".format(best_est, best_depth, best_f1_score))\n"
   ]
  },
  {
   "cell_type": "code",
   "execution_count": 1966,
   "id": "27397c3c",
   "metadata": {},
   "outputs": [],
   "source": [
    "# create model random forest on the chosen n_estimators\n",
    "model_rf = RandomForestClassifier(random_state=12345, n_estimators=best_est, max_depth=best_depth)\n",
    "model_rf.fit(features_train, target_train) # train the model\n",
    "predictions_valid_rf = model_rf.predict(features_valid) # get the model's predictions"
   ]
  },
  {
   "cell_type": "code",
   "execution_count": 1967,
   "id": "1fbcbb2a",
   "metadata": {},
   "outputs": [
    {
     "name": "stdout",
     "output_type": "stream",
     "text": [
      "F1 score is: 0.579\n"
     ]
    }
   ],
   "source": [
    "my_f1_score = f1_score(target_valid, predictions_valid_rf)\n",
    "print(\"F1 score is: {}\".format(round(my_f1_score,3)))"
   ]
  },
  {
   "cell_type": "code",
   "execution_count": 1968,
   "id": "544897a5",
   "metadata": {},
   "outputs": [
    {
     "name": "stdout",
     "output_type": "stream",
     "text": [
      "ROC/AUC: 0.713162128974891\n"
     ]
    }
   ],
   "source": [
    "my_roc_auc_score = roc_auc_score(target_valid, predictions_valid_rf)\n",
    "print(\"ROC/AUC: {}\".format(my_roc_auc_score))"
   ]
  },
  {
   "cell_type": "code",
   "execution_count": 1969,
   "id": "9fa6be53",
   "metadata": {},
   "outputs": [
    {
     "data": {
      "text/html": [
       "<div>\n",
       "<style scoped>\n",
       "    .dataframe tbody tr th:only-of-type {\n",
       "        vertical-align: middle;\n",
       "    }\n",
       "\n",
       "    .dataframe tbody tr th {\n",
       "        vertical-align: top;\n",
       "    }\n",
       "\n",
       "    .dataframe thead th {\n",
       "        text-align: right;\n",
       "    }\n",
       "</style>\n",
       "<table border=\"1\" class=\"dataframe\">\n",
       "  <thead>\n",
       "    <tr style=\"text-align: right;\">\n",
       "      <th></th>\n",
       "      <th>model_name</th>\n",
       "      <th>balance_type</th>\n",
       "      <th>threshold</th>\n",
       "      <th>F1_score</th>\n",
       "      <th>ROC_AUC_score</th>\n",
       "    </tr>\n",
       "  </thead>\n",
       "  <tbody>\n",
       "    <tr>\n",
       "      <th>0</th>\n",
       "      <td>desicion_tree</td>\n",
       "      <td>no</td>\n",
       "      <td>no</td>\n",
       "      <td>0.569697</td>\n",
       "      <td>0.707813</td>\n",
       "    </tr>\n",
       "    <tr>\n",
       "      <th>1</th>\n",
       "      <td>desicion_tree</td>\n",
       "      <td>upsample</td>\n",
       "      <td>no</td>\n",
       "      <td>0.597796</td>\n",
       "      <td>0.730808</td>\n",
       "    </tr>\n",
       "    <tr>\n",
       "      <th>2</th>\n",
       "      <td>desicion_tree</td>\n",
       "      <td>class_weigh=balanced</td>\n",
       "      <td>no</td>\n",
       "      <td>0.596379</td>\n",
       "      <td>0.758759</td>\n",
       "    </tr>\n",
       "    <tr>\n",
       "      <th>3</th>\n",
       "      <td>random_forest</td>\n",
       "      <td>no</td>\n",
       "      <td>no</td>\n",
       "      <td>0.578711</td>\n",
       "      <td>0.713162</td>\n",
       "    </tr>\n",
       "  </tbody>\n",
       "</table>\n",
       "</div>"
      ],
      "text/plain": [
       "      model_name          balance_type threshold  F1_score  ROC_AUC_score\n",
       "0  desicion_tree                    no        no  0.569697       0.707813\n",
       "1  desicion_tree              upsample        no  0.597796       0.730808\n",
       "2  desicion_tree  class_weigh=balanced        no  0.596379       0.758759\n",
       "3  random_forest                    no        no  0.578711       0.713162"
      ]
     },
     "execution_count": 1969,
     "metadata": {},
     "output_type": "execute_result"
    }
   ],
   "source": [
    "results_df = add_data_to_results_df(model_name='random_forest',\n",
    "                                   balance_type='no',\n",
    "                                   threshold='no',\n",
    "                                   F1_score=my_f1_score,\n",
    "                                   ROC_AUC_score=my_roc_auc_score,\n",
    "                                   temp_results_df=results_df)\n",
    "results_df"
   ]
  },
  {
   "cell_type": "markdown",
   "id": "6f932cf1",
   "metadata": {},
   "source": [
    "#### With balance - upsample approach"
   ]
  },
  {
   "cell_type": "code",
   "execution_count": 1970,
   "id": "bd4604fb",
   "metadata": {},
   "outputs": [],
   "source": [
    "features_upsampled, target_upsampled = upsample(\n",
    "    features_train, target_train, 4\n",
    ")"
   ]
  },
  {
   "cell_type": "code",
   "execution_count": 1971,
   "id": "67e873d3",
   "metadata": {
    "scrolled": true
   },
   "outputs": [
    {
     "data": {
      "text/plain": [
       "0.49895702962035876"
      ]
     },
     "execution_count": 1971,
     "metadata": {},
     "output_type": "execute_result"
    }
   ],
   "source": [
    "target_upsampled.value_counts()[1]/len(target_upsampled)"
   ]
  },
  {
   "cell_type": "code",
   "execution_count": 1972,
   "id": "a125daf6",
   "metadata": {},
   "outputs": [
    {
     "name": "stdout",
     "output_type": "stream",
     "text": [
      "F1 score of the best model on the validation set(n_estimators = 12, max_depth = 8): 0.6193415637860082\n"
     ]
    }
   ],
   "source": [
    "best_f1_score = 0\n",
    "best_est = 0\n",
    "best_depth = 0\n",
    "for est in range(1, 15): # choose hyperparameter range\n",
    "    for depth in range(1,10):\n",
    "        model = RandomForestClassifier(random_state=12345, n_estimators=est, max_depth=depth) # set number of trees\n",
    "        model.fit(features_upsampled, target_upsampled) # train model on training set\n",
    "        predictions_rf_valid = model.predict(features_valid) # get the model's predictions\n",
    "        my_rf_f1_score = f1_score(target_valid, predictions_rf_valid)\n",
    "        if my_rf_f1_score > best_f1_score:\n",
    "            best_f1_score = my_rf_f1_score # save best f1 score on validation set\n",
    "            best_est = est# save number of estimators corresponding to best accuracy score\n",
    "            best_depth = depth\n",
    "\n",
    "print(\"F1 score of the best model on the validation set\\\n",
    "(n_estimators = {}, max_depth = {}): {}\".format(best_est, best_depth, best_f1_score))\n"
   ]
  },
  {
   "cell_type": "code",
   "execution_count": 1973,
   "id": "6132af5c",
   "metadata": {},
   "outputs": [],
   "source": [
    "# create model random forest on the chosen n_estimators\n",
    "model_rf_upsampled = RandomForestClassifier(random_state=12345, n_estimators=best_est, max_depth=best_depth)\n",
    "model_rf_upsampled.fit(features_upsampled, target_upsampled) # train the model\n",
    "predictions_valid_rf_upsampled = model_rf_upsampled.predict(features_valid) # get the model's predictions"
   ]
  },
  {
   "cell_type": "code",
   "execution_count": 1974,
   "id": "fe32c9af",
   "metadata": {},
   "outputs": [
    {
     "name": "stdout",
     "output_type": "stream",
     "text": [
      "F1 score is: 0.619\n"
     ]
    }
   ],
   "source": [
    "my_f1_score = f1_score(target_valid, predictions_valid_rf_upsampled)\n",
    "print(\"F1 score is: {}\".format(round(my_f1_score,3)))"
   ]
  },
  {
   "cell_type": "code",
   "execution_count": 1975,
   "id": "e3c06065",
   "metadata": {},
   "outputs": [
    {
     "name": "stdout",
     "output_type": "stream",
     "text": [
      "ROC/AUC: 0.7800857735650469\n"
     ]
    }
   ],
   "source": [
    "my_roc_auc_score = roc_auc_score(target_valid, predictions_valid_rf_upsampled)\n",
    "print(\"ROC/AUC: {}\".format(my_roc_auc_score))"
   ]
  },
  {
   "cell_type": "code",
   "execution_count": 1976,
   "id": "c752ad96",
   "metadata": {},
   "outputs": [
    {
     "data": {
      "text/html": [
       "<div>\n",
       "<style scoped>\n",
       "    .dataframe tbody tr th:only-of-type {\n",
       "        vertical-align: middle;\n",
       "    }\n",
       "\n",
       "    .dataframe tbody tr th {\n",
       "        vertical-align: top;\n",
       "    }\n",
       "\n",
       "    .dataframe thead th {\n",
       "        text-align: right;\n",
       "    }\n",
       "</style>\n",
       "<table border=\"1\" class=\"dataframe\">\n",
       "  <thead>\n",
       "    <tr style=\"text-align: right;\">\n",
       "      <th></th>\n",
       "      <th>model_name</th>\n",
       "      <th>balance_type</th>\n",
       "      <th>threshold</th>\n",
       "      <th>F1_score</th>\n",
       "      <th>ROC_AUC_score</th>\n",
       "    </tr>\n",
       "  </thead>\n",
       "  <tbody>\n",
       "    <tr>\n",
       "      <th>0</th>\n",
       "      <td>desicion_tree</td>\n",
       "      <td>no</td>\n",
       "      <td>no</td>\n",
       "      <td>0.569697</td>\n",
       "      <td>0.707813</td>\n",
       "    </tr>\n",
       "    <tr>\n",
       "      <th>1</th>\n",
       "      <td>desicion_tree</td>\n",
       "      <td>upsample</td>\n",
       "      <td>no</td>\n",
       "      <td>0.597796</td>\n",
       "      <td>0.730808</td>\n",
       "    </tr>\n",
       "    <tr>\n",
       "      <th>2</th>\n",
       "      <td>desicion_tree</td>\n",
       "      <td>class_weigh=balanced</td>\n",
       "      <td>no</td>\n",
       "      <td>0.596379</td>\n",
       "      <td>0.758759</td>\n",
       "    </tr>\n",
       "    <tr>\n",
       "      <th>3</th>\n",
       "      <td>random_forest</td>\n",
       "      <td>no</td>\n",
       "      <td>no</td>\n",
       "      <td>0.578711</td>\n",
       "      <td>0.713162</td>\n",
       "    </tr>\n",
       "    <tr>\n",
       "      <th>4</th>\n",
       "      <td>random_forest</td>\n",
       "      <td>upsample</td>\n",
       "      <td>no</td>\n",
       "      <td>0.619342</td>\n",
       "      <td>0.780086</td>\n",
       "    </tr>\n",
       "  </tbody>\n",
       "</table>\n",
       "</div>"
      ],
      "text/plain": [
       "      model_name          balance_type threshold  F1_score  ROC_AUC_score\n",
       "0  desicion_tree                    no        no  0.569697       0.707813\n",
       "1  desicion_tree              upsample        no  0.597796       0.730808\n",
       "2  desicion_tree  class_weigh=balanced        no  0.596379       0.758759\n",
       "3  random_forest                    no        no  0.578711       0.713162\n",
       "4  random_forest              upsample        no  0.619342       0.780086"
      ]
     },
     "execution_count": 1976,
     "metadata": {},
     "output_type": "execute_result"
    }
   ],
   "source": [
    "results_df = add_data_to_results_df(model_name='random_forest',\n",
    "                                   balance_type='upsample',\n",
    "                                   threshold='no',\n",
    "                                   F1_score=my_f1_score,\n",
    "                                   ROC_AUC_score=my_roc_auc_score,\n",
    "                                   temp_results_df=results_df)\n",
    "results_df"
   ]
  },
  {
   "cell_type": "markdown",
   "id": "c436bbdf",
   "metadata": {},
   "source": [
    "#### With balance - class weigh approach"
   ]
  },
  {
   "cell_type": "code",
   "execution_count": 1977,
   "id": "98322cb4",
   "metadata": {},
   "outputs": [
    {
     "name": "stdout",
     "output_type": "stream",
     "text": [
      "F1 score of the best model on the validation set(n_estimators = 7, max_depth = 7): 0.6223628691983123\n"
     ]
    }
   ],
   "source": [
    "best_f1_score = 0\n",
    "best_est = 0\n",
    "best_depth = 0\n",
    "for est in range(1, 15): # choose hyperparameter range\n",
    "    for depth in range(1,10):\n",
    "        model = RandomForestClassifier(random_state=12345,\n",
    "                                       n_estimators=est, max_depth=depth,\n",
    "                                       class_weight='balanced') # set number of trees\n",
    "        model.fit(features_train, target_train) # train model on training set\n",
    "        predictions_rf_valid = model.predict(features_valid) # get the model's predictions\n",
    "        my_rf_f1_score = f1_score(target_valid, predictions_rf_valid)\n",
    "        if my_rf_f1_score > best_f1_score:\n",
    "            best_f1_score = my_rf_f1_score # save best f1 score on validation set\n",
    "            best_est = est# save number of estimators corresponding to best accuracy score\n",
    "            best_depth = depth\n",
    "\n",
    "print(\"F1 score of the best model on the validation set\\\n",
    "(n_estimators = {}, max_depth = {}): {}\".format(best_est, best_depth, best_f1_score))\n"
   ]
  },
  {
   "cell_type": "code",
   "execution_count": 1978,
   "id": "f6f5b3b3",
   "metadata": {},
   "outputs": [],
   "source": [
    "# create model random forest on the chosen n_estimators\n",
    "model_rf_balanced = RandomForestClassifier(random_state=12345,\n",
    "                                           n_estimators=best_est,\n",
    "                                           max_depth=best_depth,\n",
    "                                           class_weight='balanced')\n",
    "model_rf_balanced.fit(features_train, target_train) # train the model\n",
    "predictions_valid_rf_balanced = model_rf_balanced.predict(features_valid) # get the model's predictions"
   ]
  },
  {
   "cell_type": "code",
   "execution_count": 1979,
   "id": "6086f42f",
   "metadata": {},
   "outputs": [
    {
     "name": "stdout",
     "output_type": "stream",
     "text": [
      "F1 score is: 0.622\n"
     ]
    }
   ],
   "source": [
    "my_f1_score = f1_score(target_valid, predictions_valid_rf_balanced)\n",
    "print(\"F1 score is: {}\".format(round(my_f1_score,3)))"
   ]
  },
  {
   "cell_type": "code",
   "execution_count": 1980,
   "id": "b2a34434",
   "metadata": {},
   "outputs": [
    {
     "name": "stdout",
     "output_type": "stream",
     "text": [
      "ROC/AUC: 0.7785977413364465\n"
     ]
    }
   ],
   "source": [
    "my_roc_auc_score = roc_auc_score(target_valid, predictions_valid_rf_balanced)\n",
    "print(\"ROC/AUC: {}\".format(my_roc_auc_score))"
   ]
  },
  {
   "cell_type": "code",
   "execution_count": 1981,
   "id": "b7923894",
   "metadata": {},
   "outputs": [
    {
     "data": {
      "text/html": [
       "<div>\n",
       "<style scoped>\n",
       "    .dataframe tbody tr th:only-of-type {\n",
       "        vertical-align: middle;\n",
       "    }\n",
       "\n",
       "    .dataframe tbody tr th {\n",
       "        vertical-align: top;\n",
       "    }\n",
       "\n",
       "    .dataframe thead th {\n",
       "        text-align: right;\n",
       "    }\n",
       "</style>\n",
       "<table border=\"1\" class=\"dataframe\">\n",
       "  <thead>\n",
       "    <tr style=\"text-align: right;\">\n",
       "      <th></th>\n",
       "      <th>model_name</th>\n",
       "      <th>balance_type</th>\n",
       "      <th>threshold</th>\n",
       "      <th>F1_score</th>\n",
       "      <th>ROC_AUC_score</th>\n",
       "    </tr>\n",
       "  </thead>\n",
       "  <tbody>\n",
       "    <tr>\n",
       "      <th>0</th>\n",
       "      <td>desicion_tree</td>\n",
       "      <td>no</td>\n",
       "      <td>no</td>\n",
       "      <td>0.569697</td>\n",
       "      <td>0.707813</td>\n",
       "    </tr>\n",
       "    <tr>\n",
       "      <th>1</th>\n",
       "      <td>desicion_tree</td>\n",
       "      <td>upsample</td>\n",
       "      <td>no</td>\n",
       "      <td>0.597796</td>\n",
       "      <td>0.730808</td>\n",
       "    </tr>\n",
       "    <tr>\n",
       "      <th>2</th>\n",
       "      <td>desicion_tree</td>\n",
       "      <td>class_weigh=balanced</td>\n",
       "      <td>no</td>\n",
       "      <td>0.596379</td>\n",
       "      <td>0.758759</td>\n",
       "    </tr>\n",
       "    <tr>\n",
       "      <th>3</th>\n",
       "      <td>random_forest</td>\n",
       "      <td>no</td>\n",
       "      <td>no</td>\n",
       "      <td>0.578711</td>\n",
       "      <td>0.713162</td>\n",
       "    </tr>\n",
       "    <tr>\n",
       "      <th>4</th>\n",
       "      <td>random_forest</td>\n",
       "      <td>upsample</td>\n",
       "      <td>no</td>\n",
       "      <td>0.619342</td>\n",
       "      <td>0.780086</td>\n",
       "    </tr>\n",
       "    <tr>\n",
       "      <th>5</th>\n",
       "      <td>random_forest</td>\n",
       "      <td>class_weigh=balanced</td>\n",
       "      <td>no</td>\n",
       "      <td>0.622363</td>\n",
       "      <td>0.778598</td>\n",
       "    </tr>\n",
       "  </tbody>\n",
       "</table>\n",
       "</div>"
      ],
      "text/plain": [
       "      model_name          balance_type threshold  F1_score  ROC_AUC_score\n",
       "0  desicion_tree                    no        no  0.569697       0.707813\n",
       "1  desicion_tree              upsample        no  0.597796       0.730808\n",
       "2  desicion_tree  class_weigh=balanced        no  0.596379       0.758759\n",
       "3  random_forest                    no        no  0.578711       0.713162\n",
       "4  random_forest              upsample        no  0.619342       0.780086\n",
       "5  random_forest  class_weigh=balanced        no  0.622363       0.778598"
      ]
     },
     "execution_count": 1981,
     "metadata": {},
     "output_type": "execute_result"
    }
   ],
   "source": [
    "results_df = add_data_to_results_df(model_name='random_forest',\n",
    "                                   balance_type='class_weigh=balanced',\n",
    "                                   threshold='no',\n",
    "                                   F1_score=my_f1_score,\n",
    "                                   ROC_AUC_score=my_roc_auc_score,\n",
    "                                   temp_results_df=results_df)\n",
    "results_df"
   ]
  },
  {
   "cell_type": "markdown",
   "id": "82ebf442",
   "metadata": {},
   "source": [
    "### Logistic regression"
   ]
  },
  {
   "cell_type": "markdown",
   "id": "50a3a9f8",
   "metadata": {},
   "source": [
    "#### No balance"
   ]
  },
  {
   "cell_type": "code",
   "execution_count": 1982,
   "id": "f43d8eb6",
   "metadata": {},
   "outputs": [],
   "source": [
    "model_lr = LogisticRegression(random_state=12345, solver='liblinear')\n",
    "model_lr.fit(features_train, target_train)\n",
    "pred_lr = model_lr.predict(features_valid)"
   ]
  },
  {
   "cell_type": "code",
   "execution_count": 1983,
   "id": "d4602630",
   "metadata": {
    "scrolled": true
   },
   "outputs": [
    {
     "name": "stdout",
     "output_type": "stream",
     "text": [
      "F1 score is: 0.334\n"
     ]
    }
   ],
   "source": [
    "my_f1_score = f1_score(target_valid, pred_lr)\n",
    "print(\"F1 score is: {}\".format(round(my_f1_score,3)))"
   ]
  },
  {
   "cell_type": "code",
   "execution_count": 1984,
   "id": "6231c0b7",
   "metadata": {},
   "outputs": [
    {
     "name": "stdout",
     "output_type": "stream",
     "text": [
      "ROC/AUC: 0.5944008250715284\n"
     ]
    }
   ],
   "source": [
    "my_roc_auc_score = roc_auc_score(target_valid, pred_lr)\n",
    "print(\"ROC/AUC: {}\".format(my_roc_auc_score))"
   ]
  },
  {
   "cell_type": "code",
   "execution_count": 1985,
   "id": "d198825b",
   "metadata": {},
   "outputs": [
    {
     "data": {
      "text/html": [
       "<div>\n",
       "<style scoped>\n",
       "    .dataframe tbody tr th:only-of-type {\n",
       "        vertical-align: middle;\n",
       "    }\n",
       "\n",
       "    .dataframe tbody tr th {\n",
       "        vertical-align: top;\n",
       "    }\n",
       "\n",
       "    .dataframe thead th {\n",
       "        text-align: right;\n",
       "    }\n",
       "</style>\n",
       "<table border=\"1\" class=\"dataframe\">\n",
       "  <thead>\n",
       "    <tr style=\"text-align: right;\">\n",
       "      <th></th>\n",
       "      <th>model_name</th>\n",
       "      <th>balance_type</th>\n",
       "      <th>threshold</th>\n",
       "      <th>F1_score</th>\n",
       "      <th>ROC_AUC_score</th>\n",
       "    </tr>\n",
       "  </thead>\n",
       "  <tbody>\n",
       "    <tr>\n",
       "      <th>0</th>\n",
       "      <td>desicion_tree</td>\n",
       "      <td>no</td>\n",
       "      <td>no</td>\n",
       "      <td>0.569697</td>\n",
       "      <td>0.707813</td>\n",
       "    </tr>\n",
       "    <tr>\n",
       "      <th>1</th>\n",
       "      <td>desicion_tree</td>\n",
       "      <td>upsample</td>\n",
       "      <td>no</td>\n",
       "      <td>0.597796</td>\n",
       "      <td>0.730808</td>\n",
       "    </tr>\n",
       "    <tr>\n",
       "      <th>2</th>\n",
       "      <td>desicion_tree</td>\n",
       "      <td>class_weigh=balanced</td>\n",
       "      <td>no</td>\n",
       "      <td>0.596379</td>\n",
       "      <td>0.758759</td>\n",
       "    </tr>\n",
       "    <tr>\n",
       "      <th>3</th>\n",
       "      <td>random_forest</td>\n",
       "      <td>no</td>\n",
       "      <td>no</td>\n",
       "      <td>0.578711</td>\n",
       "      <td>0.713162</td>\n",
       "    </tr>\n",
       "    <tr>\n",
       "      <th>4</th>\n",
       "      <td>random_forest</td>\n",
       "      <td>upsample</td>\n",
       "      <td>no</td>\n",
       "      <td>0.619342</td>\n",
       "      <td>0.780086</td>\n",
       "    </tr>\n",
       "    <tr>\n",
       "      <th>5</th>\n",
       "      <td>random_forest</td>\n",
       "      <td>class_weigh=balanced</td>\n",
       "      <td>no</td>\n",
       "      <td>0.622363</td>\n",
       "      <td>0.778598</td>\n",
       "    </tr>\n",
       "    <tr>\n",
       "      <th>6</th>\n",
       "      <td>logistic_regression</td>\n",
       "      <td>no</td>\n",
       "      <td>no</td>\n",
       "      <td>0.333895</td>\n",
       "      <td>0.594401</td>\n",
       "    </tr>\n",
       "  </tbody>\n",
       "</table>\n",
       "</div>"
      ],
      "text/plain": [
       "            model_name          balance_type threshold  F1_score  \\\n",
       "0        desicion_tree                    no        no  0.569697   \n",
       "1        desicion_tree              upsample        no  0.597796   \n",
       "2        desicion_tree  class_weigh=balanced        no  0.596379   \n",
       "3        random_forest                    no        no  0.578711   \n",
       "4        random_forest              upsample        no  0.619342   \n",
       "5        random_forest  class_weigh=balanced        no  0.622363   \n",
       "6  logistic_regression                    no        no  0.333895   \n",
       "\n",
       "   ROC_AUC_score  \n",
       "0       0.707813  \n",
       "1       0.730808  \n",
       "2       0.758759  \n",
       "3       0.713162  \n",
       "4       0.780086  \n",
       "5       0.778598  \n",
       "6       0.594401  "
      ]
     },
     "execution_count": 1985,
     "metadata": {},
     "output_type": "execute_result"
    }
   ],
   "source": [
    "results_df = add_data_to_results_df(model_name='logistic_regression',\n",
    "                                   balance_type='no',\n",
    "                                   threshold='no',\n",
    "                                   F1_score=my_f1_score,\n",
    "                                   ROC_AUC_score=my_roc_auc_score,\n",
    "                                   temp_results_df=results_df)\n",
    "results_df"
   ]
  },
  {
   "cell_type": "markdown",
   "id": "d4bd6eee",
   "metadata": {},
   "source": [
    "#### With balance - SMOTE approach"
   ]
  },
  {
   "cell_type": "code",
   "execution_count": 1986,
   "id": "3d0bbc50",
   "metadata": {},
   "outputs": [],
   "source": [
    "sm = SMOTE(random_state=12345)\n",
    "features_train_res, target_train_res = sm.fit_resample(features_train, target_train)"
   ]
  },
  {
   "cell_type": "code",
   "execution_count": 1987,
   "id": "7993986c",
   "metadata": {},
   "outputs": [
    {
     "data": {
      "text/plain": [
       "0    4804\n",
       "1    1196\n",
       "Name: Exited, dtype: int64"
      ]
     },
     "execution_count": 1987,
     "metadata": {},
     "output_type": "execute_result"
    }
   ],
   "source": [
    "# Before upsampling\n",
    "target_train.value_counts()"
   ]
  },
  {
   "cell_type": "code",
   "execution_count": 1988,
   "id": "27feca0a",
   "metadata": {},
   "outputs": [
    {
     "data": {
      "text/plain": [
       "0    4804\n",
       "1    4804\n",
       "Name: Exited, dtype: int64"
      ]
     },
     "execution_count": 1988,
     "metadata": {},
     "output_type": "execute_result"
    }
   ],
   "source": [
    "# After upsampling\n",
    "target_train_res.value_counts()"
   ]
  },
  {
   "cell_type": "code",
   "execution_count": 1989,
   "id": "39511928",
   "metadata": {},
   "outputs": [],
   "source": [
    "model_lr_smote = LogisticRegression(random_state=12345, solver='liblinear')\n",
    "model_lr_smote.fit(features_train_res, target_train_res)\n",
    "pred_lr_smote = model_lr_smote.predict(features_valid)"
   ]
  },
  {
   "cell_type": "code",
   "execution_count": 1990,
   "id": "7ebbf66c",
   "metadata": {
    "scrolled": true
   },
   "outputs": [
    {
     "name": "stdout",
     "output_type": "stream",
     "text": [
      "F1 score is: 0.491\n"
     ]
    }
   ],
   "source": [
    "my_f1_score = f1_score(target_valid, pred_lr_smote)\n",
    "print(\"F1 score is: {}\".format(round(my_f1_score,3)))"
   ]
  },
  {
   "cell_type": "code",
   "execution_count": 1991,
   "id": "1d1ca34e",
   "metadata": {},
   "outputs": [
    {
     "name": "stdout",
     "output_type": "stream",
     "text": [
      "ROC/AUC: 0.6952316430658304\n"
     ]
    }
   ],
   "source": [
    "my_roc_auc_score = roc_auc_score(target_valid, pred_lr_smote)\n",
    "print(\"ROC/AUC: {}\".format(my_roc_auc_score))"
   ]
  },
  {
   "cell_type": "code",
   "execution_count": 1992,
   "id": "a45a7ea2",
   "metadata": {
    "scrolled": true
   },
   "outputs": [
    {
     "data": {
      "text/html": [
       "<div>\n",
       "<style scoped>\n",
       "    .dataframe tbody tr th:only-of-type {\n",
       "        vertical-align: middle;\n",
       "    }\n",
       "\n",
       "    .dataframe tbody tr th {\n",
       "        vertical-align: top;\n",
       "    }\n",
       "\n",
       "    .dataframe thead th {\n",
       "        text-align: right;\n",
       "    }\n",
       "</style>\n",
       "<table border=\"1\" class=\"dataframe\">\n",
       "  <thead>\n",
       "    <tr style=\"text-align: right;\">\n",
       "      <th></th>\n",
       "      <th>model_name</th>\n",
       "      <th>balance_type</th>\n",
       "      <th>threshold</th>\n",
       "      <th>F1_score</th>\n",
       "      <th>ROC_AUC_score</th>\n",
       "    </tr>\n",
       "  </thead>\n",
       "  <tbody>\n",
       "    <tr>\n",
       "      <th>0</th>\n",
       "      <td>desicion_tree</td>\n",
       "      <td>no</td>\n",
       "      <td>no</td>\n",
       "      <td>0.569697</td>\n",
       "      <td>0.707813</td>\n",
       "    </tr>\n",
       "    <tr>\n",
       "      <th>1</th>\n",
       "      <td>desicion_tree</td>\n",
       "      <td>upsample</td>\n",
       "      <td>no</td>\n",
       "      <td>0.597796</td>\n",
       "      <td>0.730808</td>\n",
       "    </tr>\n",
       "    <tr>\n",
       "      <th>2</th>\n",
       "      <td>desicion_tree</td>\n",
       "      <td>class_weigh=balanced</td>\n",
       "      <td>no</td>\n",
       "      <td>0.596379</td>\n",
       "      <td>0.758759</td>\n",
       "    </tr>\n",
       "    <tr>\n",
       "      <th>3</th>\n",
       "      <td>random_forest</td>\n",
       "      <td>no</td>\n",
       "      <td>no</td>\n",
       "      <td>0.578711</td>\n",
       "      <td>0.713162</td>\n",
       "    </tr>\n",
       "    <tr>\n",
       "      <th>4</th>\n",
       "      <td>random_forest</td>\n",
       "      <td>upsample</td>\n",
       "      <td>no</td>\n",
       "      <td>0.619342</td>\n",
       "      <td>0.780086</td>\n",
       "    </tr>\n",
       "    <tr>\n",
       "      <th>5</th>\n",
       "      <td>random_forest</td>\n",
       "      <td>class_weigh=balanced</td>\n",
       "      <td>no</td>\n",
       "      <td>0.622363</td>\n",
       "      <td>0.778598</td>\n",
       "    </tr>\n",
       "    <tr>\n",
       "      <th>6</th>\n",
       "      <td>logistic_regression</td>\n",
       "      <td>no</td>\n",
       "      <td>no</td>\n",
       "      <td>0.333895</td>\n",
       "      <td>0.594401</td>\n",
       "    </tr>\n",
       "    <tr>\n",
       "      <th>7</th>\n",
       "      <td>logistic_regression</td>\n",
       "      <td>SMOTE</td>\n",
       "      <td>no</td>\n",
       "      <td>0.491228</td>\n",
       "      <td>0.695232</td>\n",
       "    </tr>\n",
       "  </tbody>\n",
       "</table>\n",
       "</div>"
      ],
      "text/plain": [
       "            model_name          balance_type threshold  F1_score  \\\n",
       "0        desicion_tree                    no        no  0.569697   \n",
       "1        desicion_tree              upsample        no  0.597796   \n",
       "2        desicion_tree  class_weigh=balanced        no  0.596379   \n",
       "3        random_forest                    no        no  0.578711   \n",
       "4        random_forest              upsample        no  0.619342   \n",
       "5        random_forest  class_weigh=balanced        no  0.622363   \n",
       "6  logistic_regression                    no        no  0.333895   \n",
       "7  logistic_regression                 SMOTE        no  0.491228   \n",
       "\n",
       "   ROC_AUC_score  \n",
       "0       0.707813  \n",
       "1       0.730808  \n",
       "2       0.758759  \n",
       "3       0.713162  \n",
       "4       0.780086  \n",
       "5       0.778598  \n",
       "6       0.594401  \n",
       "7       0.695232  "
      ]
     },
     "execution_count": 1992,
     "metadata": {},
     "output_type": "execute_result"
    }
   ],
   "source": [
    "results_df = add_data_to_results_df(model_name='logistic_regression',\n",
    "                                   balance_type='SMOTE',\n",
    "                                   threshold='no',\n",
    "                                   F1_score=my_f1_score,\n",
    "                                   ROC_AUC_score=my_roc_auc_score,\n",
    "                                   temp_results_df=results_df)\n",
    "results_df"
   ]
  },
  {
   "cell_type": "code",
   "execution_count": 1993,
   "id": "a705122a",
   "metadata": {},
   "outputs": [],
   "source": [
    "probabilities_lr_valid = model_lr_smote.predict_proba(features_valid)\n",
    "probabilities_lr_one_valid = probabilities_lr_valid[:, 1]"
   ]
  },
  {
   "cell_type": "code",
   "execution_count": 1994,
   "id": "307fe555",
   "metadata": {
    "scrolled": false
   },
   "outputs": [
    {
     "name": "stdout",
     "output_type": "stream",
     "text": [
      "Threshold = 0.00 | Precision = 0.209, Recall = 1.000, F1 score = 0.346 \n",
      "Threshold = 0.02 | Precision = 0.209, Recall = 1.000, F1 score = 0.346 \n",
      "Threshold = 0.04 | Precision = 0.212, Recall = 1.000, F1 score = 0.349 \n",
      "Threshold = 0.06 | Precision = 0.217, Recall = 1.000, F1 score = 0.356 \n",
      "Threshold = 0.08 | Precision = 0.222, Recall = 0.988, F1 score = 0.363 \n",
      "Threshold = 0.10 | Precision = 0.229, Recall = 0.983, F1 score = 0.372 \n",
      "Threshold = 0.12 | Precision = 0.237, Recall = 0.981, F1 score = 0.381 \n",
      "Threshold = 0.14 | Precision = 0.243, Recall = 0.971, F1 score = 0.388 \n",
      "Threshold = 0.16 | Precision = 0.248, Recall = 0.952, F1 score = 0.394 \n",
      "Threshold = 0.18 | Precision = 0.253, Recall = 0.935, F1 score = 0.398 \n",
      "Threshold = 0.20 | Precision = 0.260, Recall = 0.919, F1 score = 0.406 \n",
      "Threshold = 0.22 | Precision = 0.266, Recall = 0.907, F1 score = 0.412 \n",
      "Threshold = 0.24 | Precision = 0.272, Recall = 0.897, F1 score = 0.417 \n",
      "Threshold = 0.26 | Precision = 0.276, Recall = 0.876, F1 score = 0.420 \n",
      "Threshold = 0.28 | Precision = 0.282, Recall = 0.864, F1 score = 0.426 \n",
      "Threshold = 0.30 | Precision = 0.287, Recall = 0.840, F1 score = 0.428 \n",
      "Threshold = 0.32 | Precision = 0.298, Recall = 0.823, F1 score = 0.437 \n",
      "Threshold = 0.34 | Precision = 0.303, Recall = 0.806, F1 score = 0.441 \n",
      "Threshold = 0.36 | Precision = 0.315, Recall = 0.792, F1 score = 0.450 \n",
      "Threshold = 0.38 | Precision = 0.324, Recall = 0.770, F1 score = 0.456 \n",
      "Threshold = 0.40 | Precision = 0.338, Recall = 0.763, F1 score = 0.468 \n",
      "Threshold = 0.42 | Precision = 0.346, Recall = 0.744, F1 score = 0.472 \n",
      "Threshold = 0.44 | Precision = 0.358, Recall = 0.732, F1 score = 0.481 \n",
      "Threshold = 0.46 | Precision = 0.371, Recall = 0.715, F1 score = 0.488 \n",
      "Threshold = 0.48 | Precision = 0.377, Recall = 0.687, F1 score = 0.487 \n",
      "Threshold = 0.50 | Precision = 0.388, Recall = 0.670, F1 score = 0.491 \n",
      "Threshold = 0.52 | Precision = 0.390, Recall = 0.646, F1 score = 0.486 \n",
      "Threshold = 0.54 | Precision = 0.398, Recall = 0.617, F1 score = 0.484 \n",
      "Threshold = 0.56 | Precision = 0.414, Recall = 0.596, F1 score = 0.488 \n",
      "Threshold = 0.58 | Precision = 0.414, Recall = 0.567, F1 score = 0.478 \n",
      "Threshold = 0.60 | Precision = 0.417, Recall = 0.543, F1 score = 0.471 \n",
      "Threshold = 0.62 | Precision = 0.439, Recall = 0.531, F1 score = 0.481 \n",
      "Threshold = 0.64 | Precision = 0.446, Recall = 0.502, F1 score = 0.472 \n",
      "Threshold = 0.66 | Precision = 0.463, Recall = 0.481, F1 score = 0.472 \n",
      "Threshold = 0.68 | Precision = 0.459, Recall = 0.455, F1 score = 0.457 \n",
      "Threshold = 0.70 | Precision = 0.472, Recall = 0.416, F1 score = 0.442 \n",
      "Threshold = 0.72 | Precision = 0.488, Recall = 0.383, F1 score = 0.429 \n",
      "Threshold = 0.74 | Precision = 0.488, Recall = 0.340, F1 score = 0.401 \n",
      "Threshold = 0.76 | Precision = 0.512, Recall = 0.313, F1 score = 0.389 \n",
      "Threshold = 0.78 | Precision = 0.536, Recall = 0.282, F1 score = 0.370 \n",
      "\n",
      "F1 score = 0.491 | Threshold = 0.50 \n"
     ]
    }
   ],
   "source": [
    "best_f1_score_treshold_adj = 0\n",
    "best_threshold = 0\n",
    "for threshold in np.arange(0, 0.8, 0.02):\n",
    "    predicted_valid = probabilities_lr_one_valid > threshold # < write code here >\n",
    "    precision = precision_score(target_valid, predicted_valid)# < write code here >\n",
    "    recall = recall_score(target_valid, predicted_valid)# < write code here >\n",
    "    my_f1_score = f1_score(target_valid, predicted_valid)\n",
    "\n",
    "    print(\n",
    "        \t'Threshold = {:.2f} | Precision = {:.3f}, Recall = {:.3f}, F1 score = {:.3f} '.format(\n",
    "            \tthreshold, precision, recall, my_f1_score\n",
    "        \t)\n",
    "    \t)\n",
    "    if my_f1_score > best_f1_score_treshold_adj:\n",
    "        best_f1_score_treshold_adj = my_f1_score\n",
    "        best_threshold = threshold\n",
    "        \n",
    "print()\n",
    "print('F1 score = {:.3f} | Threshold = {:.2f} '.format(best_f1_score_treshold_adj, best_threshold))\n",
    "    "
   ]
  },
  {
   "cell_type": "code",
   "execution_count": 1995,
   "id": "341ec898",
   "metadata": {},
   "outputs": [],
   "source": [
    "predicted_valid_threshold = probabilities_lr_one_valid > best_threshold "
   ]
  },
  {
   "cell_type": "code",
   "execution_count": 1996,
   "id": "5549862e",
   "metadata": {},
   "outputs": [
    {
     "name": "stdout",
     "output_type": "stream",
     "text": [
      "F1 score is: 0.491\n"
     ]
    }
   ],
   "source": [
    "my_f1_score = f1_score(target_valid, predicted_valid_threshold)\n",
    "print(\"F1 score is: {}\".format(round(my_f1_score,3)))"
   ]
  },
  {
   "cell_type": "code",
   "execution_count": 1997,
   "id": "0cf09a7d",
   "metadata": {},
   "outputs": [
    {
     "name": "stdout",
     "output_type": "stream",
     "text": [
      "ROC/AUC: 0.6952316430658304\n"
     ]
    }
   ],
   "source": [
    "my_roc_auc_score = roc_auc_score(target_valid, predicted_valid_threshold)\n",
    "print(\"ROC/AUC: {}\".format(my_roc_auc_score))"
   ]
  },
  {
   "cell_type": "code",
   "execution_count": 1998,
   "id": "cc4e82dd",
   "metadata": {},
   "outputs": [
    {
     "data": {
      "text/html": [
       "<div>\n",
       "<style scoped>\n",
       "    .dataframe tbody tr th:only-of-type {\n",
       "        vertical-align: middle;\n",
       "    }\n",
       "\n",
       "    .dataframe tbody tr th {\n",
       "        vertical-align: top;\n",
       "    }\n",
       "\n",
       "    .dataframe thead th {\n",
       "        text-align: right;\n",
       "    }\n",
       "</style>\n",
       "<table border=\"1\" class=\"dataframe\">\n",
       "  <thead>\n",
       "    <tr style=\"text-align: right;\">\n",
       "      <th></th>\n",
       "      <th>model_name</th>\n",
       "      <th>balance_type</th>\n",
       "      <th>threshold</th>\n",
       "      <th>F1_score</th>\n",
       "      <th>ROC_AUC_score</th>\n",
       "    </tr>\n",
       "  </thead>\n",
       "  <tbody>\n",
       "    <tr>\n",
       "      <th>0</th>\n",
       "      <td>desicion_tree</td>\n",
       "      <td>no</td>\n",
       "      <td>no</td>\n",
       "      <td>0.569697</td>\n",
       "      <td>0.707813</td>\n",
       "    </tr>\n",
       "    <tr>\n",
       "      <th>1</th>\n",
       "      <td>desicion_tree</td>\n",
       "      <td>upsample</td>\n",
       "      <td>no</td>\n",
       "      <td>0.597796</td>\n",
       "      <td>0.730808</td>\n",
       "    </tr>\n",
       "    <tr>\n",
       "      <th>2</th>\n",
       "      <td>desicion_tree</td>\n",
       "      <td>class_weigh=balanced</td>\n",
       "      <td>no</td>\n",
       "      <td>0.596379</td>\n",
       "      <td>0.758759</td>\n",
       "    </tr>\n",
       "    <tr>\n",
       "      <th>3</th>\n",
       "      <td>random_forest</td>\n",
       "      <td>no</td>\n",
       "      <td>no</td>\n",
       "      <td>0.578711</td>\n",
       "      <td>0.713162</td>\n",
       "    </tr>\n",
       "    <tr>\n",
       "      <th>4</th>\n",
       "      <td>random_forest</td>\n",
       "      <td>upsample</td>\n",
       "      <td>no</td>\n",
       "      <td>0.619342</td>\n",
       "      <td>0.780086</td>\n",
       "    </tr>\n",
       "    <tr>\n",
       "      <th>5</th>\n",
       "      <td>random_forest</td>\n",
       "      <td>class_weigh=balanced</td>\n",
       "      <td>no</td>\n",
       "      <td>0.622363</td>\n",
       "      <td>0.778598</td>\n",
       "    </tr>\n",
       "    <tr>\n",
       "      <th>6</th>\n",
       "      <td>logistic_regression</td>\n",
       "      <td>no</td>\n",
       "      <td>no</td>\n",
       "      <td>0.333895</td>\n",
       "      <td>0.594401</td>\n",
       "    </tr>\n",
       "    <tr>\n",
       "      <th>7</th>\n",
       "      <td>logistic_regression</td>\n",
       "      <td>SMOTE</td>\n",
       "      <td>no</td>\n",
       "      <td>0.491228</td>\n",
       "      <td>0.695232</td>\n",
       "    </tr>\n",
       "    <tr>\n",
       "      <th>8</th>\n",
       "      <td>logistic_regression</td>\n",
       "      <td>SMOTE</td>\n",
       "      <td>adjust to 0.5</td>\n",
       "      <td>0.491228</td>\n",
       "      <td>0.695232</td>\n",
       "    </tr>\n",
       "  </tbody>\n",
       "</table>\n",
       "</div>"
      ],
      "text/plain": [
       "            model_name          balance_type      threshold  F1_score  \\\n",
       "0        desicion_tree                    no             no  0.569697   \n",
       "1        desicion_tree              upsample             no  0.597796   \n",
       "2        desicion_tree  class_weigh=balanced             no  0.596379   \n",
       "3        random_forest                    no             no  0.578711   \n",
       "4        random_forest              upsample             no  0.619342   \n",
       "5        random_forest  class_weigh=balanced             no  0.622363   \n",
       "6  logistic_regression                    no             no  0.333895   \n",
       "7  logistic_regression                 SMOTE             no  0.491228   \n",
       "8  logistic_regression                 SMOTE  adjust to 0.5  0.491228   \n",
       "\n",
       "   ROC_AUC_score  \n",
       "0       0.707813  \n",
       "1       0.730808  \n",
       "2       0.758759  \n",
       "3       0.713162  \n",
       "4       0.780086  \n",
       "5       0.778598  \n",
       "6       0.594401  \n",
       "7       0.695232  \n",
       "8       0.695232  "
      ]
     },
     "execution_count": 1998,
     "metadata": {},
     "output_type": "execute_result"
    }
   ],
   "source": [
    "results_df = add_data_to_results_df(model_name='logistic_regression',\n",
    "                                   balance_type='SMOTE',\n",
    "                                   threshold=f'adjust to {best_threshold}',\n",
    "                                   F1_score=my_f1_score,\n",
    "                                   ROC_AUC_score=my_roc_auc_score,\n",
    "                                   temp_results_df=results_df)\n",
    "results_df"
   ]
  },
  {
   "cell_type": "markdown",
   "id": "2753d1e4",
   "metadata": {},
   "source": [
    "## Training summary"
   ]
  },
  {
   "cell_type": "markdown",
   "id": "fc4d29a4",
   "metadata": {},
   "source": [
    "### Post evaluation - use confusion matrix"
   ]
  },
  {
   "cell_type": "markdown",
   "id": "b277d581",
   "metadata": {},
   "source": [
    "The best models are balanced random forest with both balance approach - upsample and class_weigh=balance. We will test the confusion matrix for both to determine which is better"
   ]
  },
  {
   "cell_type": "markdown",
   "id": "30962f07",
   "metadata": {},
   "source": [
    "Let's create a function to produce confusion matrix heatmap"
   ]
  },
  {
   "cell_type": "code",
   "execution_count": 1999,
   "id": "b786a846",
   "metadata": {},
   "outputs": [],
   "source": [
    "def confusion_matrix_heatmap(target_valid_1, predictions_valid_1):\n",
    "    cf_matrix = confusion_matrix(target_valid_1, predictions_valid_1)\n",
    "    \n",
    "    plt.figure(figsize=(10, 5), dpi=80)\n",
    "\n",
    "    ax = sns.heatmap(cf_matrix, annot=True, cmap='Blues', fmt='g')\n",
    "\n",
    "    ax.set_xlabel('\\nPredicted Values')\n",
    "    ax.set_ylabel('Actual Values ');\n",
    "\n",
    "    ## Ticket labels - List must be in alphabetical order\n",
    "    ax.xaxis.set_ticklabels(['0','1'])\n",
    "    ax.yaxis.set_ticklabels(['0','1'])\n",
    "\n",
    "    ## Display the visualization of the Confusion Matrix.\n",
    "    plt.show()"
   ]
  },
  {
   "cell_type": "markdown",
   "id": "0db33eca",
   "metadata": {},
   "source": [
    "Confusion matrix for random forest balance by upsample"
   ]
  },
  {
   "cell_type": "code",
   "execution_count": 2000,
   "id": "df1ea8a7",
   "metadata": {
    "scrolled": true
   },
   "outputs": [
    {
     "data": {
      "image/png": "[encoded data removed]",
      "text/plain": [
       "<Figure size 800x400 with 2 Axes>"
      ]
     },
     "metadata": {
      "needs_background": "light"
     },
     "output_type": "display_data"
    }
   ],
   "source": [
    "confusion_matrix_heatmap(target_valid, predictions_valid_rf_upsampled)"
   ]
  },
  {
   "cell_type": "markdown",
   "id": "7b279182",
   "metadata": {},
   "source": [
    "Confusion matrix for random forest balance by class weigh"
   ]
  },
  {
   "cell_type": "code",
   "execution_count": 2001,
   "id": "c2621486",
   "metadata": {},
   "outputs": [
    {
     "data": {
      "image/png": "[encoded data removed]",
      "text/plain": [
       "<Figure size 800x400 with 2 Axes>"
      ]
     },
     "metadata": {
      "needs_background": "light"
     },
     "output_type": "display_data"
    }
   ],
   "source": [
    "confusion_matrix_heatmap(target_valid, predictions_valid_rf_balanced)"
   ]
  },
  {
   "cell_type": "markdown",
   "id": "0aa103ff",
   "metadata": {},
   "source": [
    "In the upsample the F1 score is highe. Although the ROC_AUC is little lower the confusion matrix looks better. The difference of more TN in the upsample model is larger then the difference of TP in the class weigh=balanced model. Therefore the confusion matrix looks better for the upsample model. We will choose this model     "
   ]
  },
  {
   "cell_type": "markdown",
   "id": "c5a32a03",
   "metadata": {},
   "source": [
    "# Perform the final testing"
   ]
  },
  {
   "cell_type": "markdown",
   "id": "0bcb3c20",
   "metadata": {},
   "source": [
    "## Train the selected model on the combined train and validation set and test it on the test set"
   ]
  },
  {
   "cell_type": "code",
   "execution_count": 2002,
   "id": "0bca287b",
   "metadata": {},
   "outputs": [],
   "source": [
    "features_upsampled, target_upsampled = upsample(\n",
    "    features_train_and_valid, target_train_and_valid, 4\n",
    ")"
   ]
  },
  {
   "cell_type": "code",
   "execution_count": 2003,
   "id": "adf87ccd",
   "metadata": {},
   "outputs": [
    {
     "data": {
      "text/plain": [
       "0.5027254321756736"
      ]
     },
     "execution_count": 2003,
     "metadata": {},
     "output_type": "execute_result"
    }
   ],
   "source": [
    "target_upsampled.value_counts()[1]/len(target_upsampled)"
   ]
  },
  {
   "cell_type": "code",
   "execution_count": 2004,
   "id": "84e83904",
   "metadata": {},
   "outputs": [],
   "source": [
    "# create model random forest on the chosen n_estimators=11 and max_depth=8 \n",
    "model_rf_upsampled_full_set = RandomForestClassifier(random_state=12345,\n",
    "                                                     n_estimators=11,\n",
    "                                                     max_depth=8)\n",
    "\n",
    "\n",
    "model_rf_upsampled_full_set.fit(features_upsampled, target_upsampled) # train the model\n",
    "#  makeprediction on the features_test\n",
    "predictions_test_rf_upsampled = model_rf_upsampled_full_set.predict(features_test) # get the model's predictions"
   ]
  },
  {
   "cell_type": "markdown",
   "id": "715ff1bb",
   "metadata": {},
   "source": [
    "Check on the target test"
   ]
  },
  {
   "cell_type": "code",
   "execution_count": 2005,
   "id": "141510b9",
   "metadata": {},
   "outputs": [
    {
     "name": "stdout",
     "output_type": "stream",
     "text": [
      "F1 score is: 0.611\n"
     ]
    }
   ],
   "source": [
    "my_f1_score = f1_score(target_test, predictions_test_rf_upsampled)\n",
    "print(\"F1 score is: {}\".format(round(my_f1_score,3)))"
   ]
  },
  {
   "cell_type": "code",
   "execution_count": 2006,
   "id": "19626252",
   "metadata": {},
   "outputs": [
    {
     "name": "stdout",
     "output_type": "stream",
     "text": [
      "ROC/AUC: 0.7719440659240171\n"
     ]
    }
   ],
   "source": [
    "my_roc_auc_score = roc_auc_score(target_test, predictions_test_rf_upsampled)\n",
    "print(\"ROC/AUC: {}\".format(my_roc_auc_score))"
   ]
  },
  {
   "cell_type": "code",
   "execution_count": 2007,
   "id": "856cdb3b",
   "metadata": {},
   "outputs": [
    {
     "data": {
      "text/html": [
       "<div>\n",
       "<style scoped>\n",
       "    .dataframe tbody tr th:only-of-type {\n",
       "        vertical-align: middle;\n",
       "    }\n",
       "\n",
       "    .dataframe tbody tr th {\n",
       "        vertical-align: top;\n",
       "    }\n",
       "\n",
       "    .dataframe thead th {\n",
       "        text-align: right;\n",
       "    }\n",
       "</style>\n",
       "<table border=\"1\" class=\"dataframe\">\n",
       "  <thead>\n",
       "    <tr style=\"text-align: right;\">\n",
       "      <th></th>\n",
       "      <th>model_name</th>\n",
       "      <th>balance_type</th>\n",
       "      <th>threshold</th>\n",
       "      <th>F1_score</th>\n",
       "      <th>ROC_AUC_score</th>\n",
       "    </tr>\n",
       "  </thead>\n",
       "  <tbody>\n",
       "    <tr>\n",
       "      <th>0</th>\n",
       "      <td>desicion_tree</td>\n",
       "      <td>no</td>\n",
       "      <td>no</td>\n",
       "      <td>0.569697</td>\n",
       "      <td>0.707813</td>\n",
       "    </tr>\n",
       "    <tr>\n",
       "      <th>1</th>\n",
       "      <td>desicion_tree</td>\n",
       "      <td>upsample</td>\n",
       "      <td>no</td>\n",
       "      <td>0.597796</td>\n",
       "      <td>0.730808</td>\n",
       "    </tr>\n",
       "    <tr>\n",
       "      <th>2</th>\n",
       "      <td>desicion_tree</td>\n",
       "      <td>class_weigh=balanced</td>\n",
       "      <td>no</td>\n",
       "      <td>0.596379</td>\n",
       "      <td>0.758759</td>\n",
       "    </tr>\n",
       "    <tr>\n",
       "      <th>3</th>\n",
       "      <td>random_forest</td>\n",
       "      <td>no</td>\n",
       "      <td>no</td>\n",
       "      <td>0.578711</td>\n",
       "      <td>0.713162</td>\n",
       "    </tr>\n",
       "    <tr>\n",
       "      <th>4</th>\n",
       "      <td>random_forest</td>\n",
       "      <td>upsample</td>\n",
       "      <td>no</td>\n",
       "      <td>0.619342</td>\n",
       "      <td>0.780086</td>\n",
       "    </tr>\n",
       "    <tr>\n",
       "      <th>5</th>\n",
       "      <td>random_forest</td>\n",
       "      <td>class_weigh=balanced</td>\n",
       "      <td>no</td>\n",
       "      <td>0.622363</td>\n",
       "      <td>0.778598</td>\n",
       "    </tr>\n",
       "    <tr>\n",
       "      <th>6</th>\n",
       "      <td>logistic_regression</td>\n",
       "      <td>no</td>\n",
       "      <td>no</td>\n",
       "      <td>0.333895</td>\n",
       "      <td>0.594401</td>\n",
       "    </tr>\n",
       "    <tr>\n",
       "      <th>7</th>\n",
       "      <td>logistic_regression</td>\n",
       "      <td>SMOTE</td>\n",
       "      <td>no</td>\n",
       "      <td>0.491228</td>\n",
       "      <td>0.695232</td>\n",
       "    </tr>\n",
       "    <tr>\n",
       "      <th>8</th>\n",
       "      <td>logistic_regression</td>\n",
       "      <td>SMOTE</td>\n",
       "      <td>adjust to 0.5</td>\n",
       "      <td>0.491228</td>\n",
       "      <td>0.695232</td>\n",
       "    </tr>\n",
       "    <tr>\n",
       "      <th>9</th>\n",
       "      <td>random_forest - on test set</td>\n",
       "      <td>upsample</td>\n",
       "      <td>no</td>\n",
       "      <td>0.610827</td>\n",
       "      <td>0.771944</td>\n",
       "    </tr>\n",
       "  </tbody>\n",
       "</table>\n",
       "</div>"
      ],
      "text/plain": [
       "                    model_name          balance_type      threshold  F1_score  \\\n",
       "0                desicion_tree                    no             no  0.569697   \n",
       "1                desicion_tree              upsample             no  0.597796   \n",
       "2                desicion_tree  class_weigh=balanced             no  0.596379   \n",
       "3                random_forest                    no             no  0.578711   \n",
       "4                random_forest              upsample             no  0.619342   \n",
       "5                random_forest  class_weigh=balanced             no  0.622363   \n",
       "6          logistic_regression                    no             no  0.333895   \n",
       "7          logistic_regression                 SMOTE             no  0.491228   \n",
       "8          logistic_regression                 SMOTE  adjust to 0.5  0.491228   \n",
       "9  random_forest - on test set              upsample             no  0.610827   \n",
       "\n",
       "   ROC_AUC_score  \n",
       "0       0.707813  \n",
       "1       0.730808  \n",
       "2       0.758759  \n",
       "3       0.713162  \n",
       "4       0.780086  \n",
       "5       0.778598  \n",
       "6       0.594401  \n",
       "7       0.695232  \n",
       "8       0.695232  \n",
       "9       0.771944  "
      ]
     },
     "execution_count": 2007,
     "metadata": {},
     "output_type": "execute_result"
    }
   ],
   "source": [
    "results_df = add_data_to_results_df(model_name='random_forest - on test set',\n",
    "                                   balance_type='upsample',\n",
    "                                   threshold='no',\n",
    "                                   F1_score=my_f1_score,\n",
    "                                   ROC_AUC_score=my_roc_auc_score,\n",
    "                                   temp_results_df=results_df)\n",
    "results_df"
   ]
  },
  {
   "cell_type": "markdown",
   "id": "c443b3e5",
   "metadata": {},
   "source": [
    "The test passed - F1 score is higher then 0.59"
   ]
  },
  {
   "cell_type": "markdown",
   "id": "93cf630d",
   "metadata": {},
   "source": [
    "## Perform a sanity check"
   ]
  },
  {
   "cell_type": "code",
   "execution_count": 2008,
   "id": "79feded8",
   "metadata": {},
   "outputs": [],
   "source": [
    "# assign values based on most common target\n",
    "test_predict = pd.Series(0, index=target_test.index)"
   ]
  },
  {
   "cell_type": "code",
   "execution_count": 2009,
   "id": "3b060187",
   "metadata": {},
   "outputs": [
    {
     "data": {
      "text/plain": [
       "7041    0\n",
       "5709    0\n",
       "7117    0\n",
       "7775    0\n",
       "8735    0\n",
       "       ..\n",
       "9335    0\n",
       "7999    0\n",
       "6139    0\n",
       "9473    0\n",
       "3366    0\n",
       "Length: 2000, dtype: int64"
      ]
     },
     "execution_count": 2009,
     "metadata": {},
     "output_type": "execute_result"
    }
   ],
   "source": [
    "test_predict"
   ]
  },
  {
   "cell_type": "code",
   "execution_count": 2010,
   "id": "663c660b",
   "metadata": {},
   "outputs": [
    {
     "name": "stdout",
     "output_type": "stream",
     "text": [
      "Final scores of sanity check model on test set:\n",
      "   F1 score = 0.000\n",
      "   precision score = 0.000\n",
      "   recall score = 0.000\n",
      "   ROC-AUC score = 0.500\n"
     ]
    },
    {
     "name": "stderr",
     "output_type": "stream",
     "text": [
      "C:\\Users\\nirga\\anaconda3\\lib\\site-packages\\sklearn\\metrics\\_classification.py:1327: UndefinedMetricWarning:\n",
      "\n",
      "Precision is ill-defined and being set to 0.0 due to no predicted samples. Use `zero_division` parameter to control this behavior.\n",
      "\n"
     ]
    }
   ],
   "source": [
    "# compute scores based on sanity check model\n",
    "print('Final scores of sanity check model on test set:')\n",
    "print('   F1 score = {:.3f}' .format(f1_score(target_test, test_predict)))\n",
    "print('   precision score = {:.3f}' .format(precision_score(target_test, test_predict)))\n",
    "print('   recall score = {:.3f}' .format(recall_score(target_test, test_predict)))\n",
    "print('   ROC-AUC score = {:.3f}' .format(roc_auc_score(target_test, test_predict)));"
   ]
  },
  {
   "cell_type": "markdown",
   "id": "36d8e30c",
   "metadata": {},
   "source": [
    "This F1 score showes that when sellecting only zeroes as it is the most common target in the data produced 0 recall and precision thus 0 F1 score and area under the graph of a Right-angled triangle - just as good as a random model"
   ]
  },
  {
   "cell_type": "markdown",
   "id": "ba08d152",
   "metadata": {},
   "source": [
    "## Conclusion\n",
    "\n",
    "We select for this task the random forest model with 11 trees and max depth of 8. An upsampling approach need to be taken to improve the training of the model for observation that gives result of 1 - user exited the bank. The upsampling will be in a magnitude that will make the share of the 1 and 0 results equal. \n",
    "\n",
    "The model passed the test on the test set with F1 score of more then 0.61! The ROC_AUC was also high - 0.77 meaning the model works better then chance. Also the sanity check we performed with the common target confirmed that. "
   ]
  }
 ],
 "metadata": {
  "kernelspec": {
   "display_name": "Python 3 (ipykernel)",
   "language": "python",
   "name": "python3"
  },
  "language_info": {
   "codemirror_mode": {
    "name": "ipython",
    "version": 3
   },
   "file_extension": ".py",
   "mimetype": "text/x-python",
   "name": "python",
   "nbconvert_exporter": "python",
   "pygments_lexer": "ipython3",
   "version": "3.9.7"
  },
  "toc": {
   "base_numbering": 1,
   "nav_menu": {},
   "number_sections": true,
   "sideBar": true,
   "skip_h1_title": false,
   "title_cell": "Table of Contents",
   "title_sidebar": "Contents",
   "toc_cell": false,
   "toc_position": {},
   "toc_section_display": true,
   "toc_window_display": true
  }
 },
 "nbformat": 4,
 "nbformat_minor": 5
}
